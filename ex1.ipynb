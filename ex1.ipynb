{
 "cells": [
  {
   "cell_type": "markdown",
   "metadata": {},
   "source": [
    "# EXERCÍCIO N.1: Sistemas de Múltiplos Classificadores\n",
    "\n",
    "# 1)\n",
    "\n",
    "Selecione cinco bases de dados públicas que contenham características diferentes e, para cada base, calcule o Oracle no conjunto de teste para:\n",
    "* Bagging\n",
    "* Adaboost \n",
    "* Random Subspace (50%)\n",
    "* Random Oracles\n",
    "\n",
    "variando o número de classificadores-base {10, 20, …, 100}. \n",
    "\n",
    "Use o Perceptron como classificador-base e divida os fold usando o 5-fold cross-validation. \n",
    "\n",
    "Analise os resultados. \n",
    "\n",
    "\n",
    "\n",
    "### Remover o bootstrap do Random Subspace"
   ]
  },
  {
   "cell_type": "markdown",
   "metadata": {},
   "source": [
    "### Dados\n",
    "\n",
    "1. Breast Cancer Wisconsin (Diagnostic) Data Set: https://archive.ics.uci.edu/ml/datasets/Breast+Cancer+Wisconsin+%28Diagnostic%29\n",
    "\n",
    "2. banknote authentication Data Set: http://archive.ics.uci.edu/ml/datasets/banknote+authentication\n",
    "\n",
    "3. Blood Transfusion Service Center Data Set: https://archive.ics.uci.edu/ml/datasets/Blood+Transfusion+Service+Center\n",
    "\n",
    "4. Climate Model Simulation Crashes Data Set: https://archive.ics.uci.edu/ml/datasets/climate+model+simulation+crashes\n",
    "\n",
    "5. Fertility Data Set: https://archive.ics.uci.edu/ml/datasets/Fertility\n",
    "\n"
   ]
  },
  {
   "cell_type": "code",
   "execution_count": 2,
   "metadata": {},
   "outputs": [],
   "source": [
    "# Importar bibliotecas\n",
    "import pandas as pd\n",
    "import numpy as np\n",
    "import matplotlib.pyplot as plt\n",
    "from scipy import stats\n",
    "import pickle\n",
    "\n",
    "from sklearn.datasets import load_breast_cancer\n",
    "from sklearn.model_selection import train_test_split\n",
    "from sklearn.preprocessing import StandardScaler\n",
    "from sklearn.preprocessing import LabelEncoder\n",
    "from sklearn.linear_model import Perceptron\n",
    "from sklearn.calibration import CalibratedClassifierCV\n",
    "from sklearn.model_selection import KFold\n",
    "from sklearn.model_selection import StratifiedKFold\n",
    "from sklearn.model_selection import cross_val_score\n",
    "from sklearn.metrics import accuracy_score\n",
    "from sklearn.ensemble import BaggingClassifier # servirá para o Bagging e para o Random Subspace\n",
    "from sklearn.ensemble import AdaBoostClassifier\n",
    "from sklearn.ensemble import BaseEnsemble\n",
    "from rlo import RLO\n",
    "\n",
    "import oracle"
   ]
  },
  {
   "cell_type": "code",
   "execution_count": 3,
   "metadata": {},
   "outputs": [],
   "source": [
    "import warnings\n",
    "# warnings.filterwarnings(action='once')\n",
    "warnings.filterwarnings(action='ignore')"
   ]
  },
  {
   "cell_type": "code",
   "execution_count": 4,
   "metadata": {},
   "outputs": [],
   "source": [
    "# seed\n",
    "np.random.seed(111)"
   ]
  },
  {
   "cell_type": "markdown",
   "metadata": {},
   "source": [
    "#### Implementação do RLO "
   ]
  },
  {
   "cell_type": "code",
   "execution_count": null,
   "metadata": {
    "jupyter": {
     "source_hidden": true
    }
   },
   "outputs": [],
   "source": [
    "# ## Base de dados para teste\n",
    "# data = load_breast_cancer()\n",
    "# X = data.data\n",
    "# y = data.target\n",
    "# # split the data into training and test data\n",
    "# X_train, X_test, y_train, y_test = train_test_split(X, y, test_size=0.33)\n",
    "\n",
    "# # Scale the variables to have 0 mean and unit variance\n",
    "# scalar = StandardScaler()\n",
    "# X_train = scalar.fit_transform(X_train)\n",
    "# X_test = scalar.transform(X_test)\n",
    "\n",
    "\n",
    "# # # Split the data into training and DSEL for DS techniques\n",
    "# # X_train, X_dsel, y_train, y_dsel = train_test_split(X_train, y_train, test_size=0.5)"
   ]
  },
  {
   "cell_type": "markdown",
   "metadata": {},
   "source": [
    "#### Testando o RLO"
   ]
  },
  {
   "cell_type": "code",
   "execution_count": null,
   "metadata": {
    "jupyter": {
     "source_hidden": true
    }
   },
   "outputs": [],
   "source": [
    "# cls_base = Perceptron()\n",
    "# rlo = RLO(base_estimator=cls_base, n_estimators=3)\n",
    "\n",
    "# # treinar\n",
    "# rlo.fit(X_train, y_train)\n",
    "\n",
    "# # testar \n",
    "# predictions, pred_ens, erro = rlo.predict(X_test, y_test)"
   ]
  },
  {
   "cell_type": "code",
   "execution_count": null,
   "metadata": {
    "jupyter": {
     "source_hidden": true
    }
   },
   "outputs": [],
   "source": [
    "# erro_rlo = np.mean(pred_ens == y_test)\n",
    "# print(erro_rlo)"
   ]
  },
  {
   "cell_type": "code",
   "execution_count": null,
   "metadata": {
    "jupyter": {
     "source_hidden": true
    }
   },
   "outputs": [],
   "source": [
    "# # Oracle\n",
    "# # pred_oracle = np.any((predictions == y_dsel.reshape(-1,1)), axis=1)\n",
    "# # acc_oracle = pred_oracle.sum()/pred_oracle.shape[0]\n",
    "# # print(f'acc Oracle: {acc_oracle}')\n",
    "# pred_oracle = rlo.Oracle_predict(X_test, y_test)\n",
    "# acc_oracle = rlo.Oracle_score(X_test, y_test)"
   ]
  },
  {
   "cell_type": "code",
   "execution_count": null,
   "metadata": {
    "jupyter": {
     "source_hidden": true
    }
   },
   "outputs": [],
   "source": [
    "# print(f'Oracle Accuracy: {acc_oracle}')"
   ]
  },
  {
   "cell_type": "markdown",
   "metadata": {},
   "source": [
    "#### função que faz a Validação cruzada 5fold com o RLO\n",
    "#### função avalia_L_modelos para o RLO "
   ]
  },
  {
   "cell_type": "code",
   "execution_count": 5,
   "metadata": {},
   "outputs": [],
   "source": [
    "# Criando os 5 folds e salvando em dicionário\n",
    "def cria_folds(X, y, n=5, stratified=True):\n",
    "    if stratified:\n",
    "        kf = StratifiedKFold(n_splits=n)\n",
    "    else:\n",
    "        kf = KFold(n_splits=n)\n",
    "        \n",
    "    kfolds = dict()\n",
    "    i = 1\n",
    "    for train_index, test_index in kf.split(X, y):\n",
    "        kfolds[f'fold{i}'] = (train_index, test_index)\n",
    "        i += 1\n",
    "    return kfolds"
   ]
  },
  {
   "cell_type": "code",
   "execution_count": null,
   "metadata": {
    "jupyter": {
     "source_hidden": true
    }
   },
   "outputs": [],
   "source": [
    "# # criando os 5-folds\n",
    "# kfolds = cria_folds(X_train,y_train,n=5)"
   ]
  },
  {
   "cell_type": "code",
   "execution_count": 6,
   "metadata": {},
   "outputs": [],
   "source": [
    "## função cv RLO\n",
    "def cv_RLO(kfolds, RLO, X, y):\n",
    "    '''\n",
    "    Realiza a validação cruzada para um Random Linear Oracle.\n",
    "    \n",
    "    Retorna uma tupla com dois dicionários: modelos e resultados.\n",
    "    '''\n",
    "    modelos = dict.fromkeys(kfolds)\n",
    "    resultados = dict.fromkeys(kfolds)\n",
    "    \n",
    "    for fold, (train_idx, test_idx) in kfolds.items():\n",
    "        modelo = RLO\n",
    "        _,_ = modelo.fit(X[train_idx], y[train_idx])\n",
    "        modelos[fold] = modelo\n",
    "        resultados[fold] = modelo.predict(X[train_idx], y[train_idx])\n",
    "        \n",
    "    return (modelos, resultados)\n",
    "    \n",
    "\n",
    "## função avalia_L_modelos_RLO\n",
    "def avalia_cv_RLO(kfolds, modelos_cv, X, y):\n",
    "    '''\n",
    "    Realiza a avaliação dos resultados para os dados de teste para o Random Linear Oracle e computa o Oracle para o conjunto de teste\n",
    "    \n",
    "    Retorna uma tupla com dois dicionários: resultados, oracles\n",
    "    '''\n",
    "    \n",
    "    resultados = dict.fromkeys(modelos_cv)\n",
    "    oracles = dict.fromkeys(modelos_cv)\n",
    "    for fold, (_, test_idx) in kfolds.items():\n",
    "        resultados[fold] = modelos_cv[fold].predict(X[test_idx], y[test_idx])\n",
    "        \n",
    "        oracles[fold] = modelos_cv[fold].Oracle_score(X[test_idx], y[test_idx])\n",
    "    return (resultados, oracles)"
   ]
  },
  {
   "cell_type": "code",
   "execution_count": null,
   "metadata": {
    "jupyter": {
     "source_hidden": true
    }
   },
   "outputs": [],
   "source": [
    "# modelos_cv, resultados_treinamento_cv = cv_RLO(kfolds, RLO(base_estimator=Perceptron()), X_train, y_train)\n",
    "# # modelos_cv, resultados_treinamento_cv = cv_RLO(kfolds, RLO(base_estimator=Perceptron(max_iter=10)), X_train, y_train)\n",
    "# resultados_teste_cv, oracles_cv = avalia_cv_RLO(kfolds, modelos_cv, X_train, y_train)\n",
    "\n",
    "# # modelos_cv, resultados_treinamento_cv = cv_RLO(kfolds, RLO(base_estimator=Perceptron(max_iter=100)), X, y)\n",
    "# # resultados_teste_cv, oracles_cv = avalia_cv_RLO(kfolds, modelos_cv, X, y)"
   ]
  },
  {
   "cell_type": "code",
   "execution_count": null,
   "metadata": {
    "jupyter": {
     "source_hidden": true
    }
   },
   "outputs": [],
   "source": [
    "# ## Mostrando Oracle para cada fold\n",
    "# print(\"Acurácia do Oracle para cada Fold:\")\n",
    "# oracles_cv"
   ]
  },
  {
   "cell_type": "code",
   "execution_count": 7,
   "metadata": {},
   "outputs": [],
   "source": [
    "### Realizando o procedimento anterior variando agora a quantidade de classificadores do modelo\n",
    "\n",
    "def RLO_L_modelos(classificador, n_classificadores, X, y, kfolds):\n",
    "    rlo_classificadores_resultados_treinamento = dict.fromkeys(n_classificadores)\n",
    "    rlo_classificadores_resultados_teste = dict.fromkeys(n_classificadores)\n",
    "\n",
    "    for n in n_classificadores:\n",
    "        print('Qtd. classificadores: ', n)\n",
    "        while True:\n",
    "            try:\n",
    "                # treinamento\n",
    "                modelos, resultados = cv_RLO(kfolds, RLO(base_estimator=classificador, n_estimators=n), X, y)\n",
    "                rlo_classificadores_resultados_treinamento[n] = (modelos, resultados)\n",
    "                # avalia cv\n",
    "                resultados_teste, oracles_teste = avalia_cv_RLO(kfolds, modelos, X, y)\n",
    "                break\n",
    "            except:\n",
    "                continue\n",
    "            break\n",
    "            \n",
    "        rlo_classificadores_resultados_teste[n] = (resultados_teste, oracles_teste)\n",
    "        \n",
    "    return rlo_classificadores_resultados_treinamento, rlo_classificadores_resultados_teste\n",
    "\n",
    "def RLO_avalia_oracles(n_classificadores, rlo_classificadores_resultados_teste):\n",
    "    \n",
    "    rlo_oracles = dict.fromkeys(n_classificadores)\n",
    "    for n in n_classificadores:\n",
    "        oracles_n = []\n",
    "        for i in range(1,6):\n",
    "            fold = f'fold{i}'\n",
    "            oracle_i = rlo_classificadores_resultados_teste[n][1][fold]\n",
    "            oracles_n.append(oracle_i)\n",
    "        rlo_oracles[n] = oracles_n\n",
    "    return rlo_oracles\n",
    "\n",
    "\n",
    "\n",
    "### quantidade de classificadores\n",
    "# n_classificadores = np.arange(10, 110, 10)\n",
    "\n",
    "# # ## criando dicionário par receber os resultados para treinamento e teste\n",
    "# # rlo_classificadores_resultados_treinamento = dict.fromkeys(n_classificadores)\n",
    "# # rlo_classificadores_resultados_teste = dict.fromkeys(n_classificadores)\n",
    "\n",
    "# ## treinamento e teste para validação cruzada \n",
    "# rlo_classificadores_resultados_treinamento, rlo_classificadores_resultados_teste = RLO_L_modelos(Perceptron(max_iter=10), n_classificadores, X_train, y_train, kfolds)\n",
    "\n",
    "# ## avaliando os Oracles\n",
    "# rlo_oracles = RLO_avalia_oracles(n_classificadores, rlo_classificadores_resultados_teste)\n",
    "\n",
    "\n",
    "# # ## Loop para cada n dos L classificadores\n",
    "# # for n in n_classificadores:\n",
    "# #     print('Qtd. classificadores: ', n)\n",
    "# #     ## treinamento\n",
    "# #     while True:\n",
    "# #         try:\n",
    "# #             modelos, resultados = cv_RLO(kfolds,RLO(base_estimator=Perceptron(max_iter=10), n_estimators=n), X_train, y_train)\n",
    "# #             rlo_classificadores_resultados_treinamento[n] = (modelos, resultados)\n",
    "# #             ## avalia cv \n",
    "# #             resultados_teste, oracles_teste = avalia_cv_RLO(kfolds, modelos, X_train, y_train)\n",
    "# #             break\n",
    "# #         except:\n",
    "# #             continue\n",
    "# #         break\n",
    "            \n",
    "# #     rlo_classificadores_resultados_teste[n] = (resultados_teste, oracles_teste)\n",
    "    "
   ]
  },
  {
   "cell_type": "code",
   "execution_count": null,
   "metadata": {
    "jupyter": {
     "source_hidden": true
    }
   },
   "outputs": [],
   "source": [
    "# ## Avaliando Oracle para cada n\n",
    "\n",
    "# rlo_oracles = dict.fromkeys(n_classificadores)\n",
    "# for n in n_classificadores:\n",
    "#     oracles_n = []\n",
    "#     for i in range(1,6):\n",
    "#         fold = f'fold{i}'\n",
    "#         oracle_i = rlo_classificadores_resultados_teste[n][1][fold]\n",
    "#         oracles_n.append(oracle_i)\n",
    "#     rlo_oracles[n] = oracles_n\n",
    "# # for n in n_classificadores:\n",
    "# #     print(rlo_classificadores_resultados_teste[n][1]['fold2'])"
   ]
  },
  {
   "cell_type": "code",
   "execution_count": null,
   "metadata": {
    "jupyter": {
     "source_hidden": true
    }
   },
   "outputs": [],
   "source": [
    "# ## Transformando em DataFrame\n",
    "# rlo_oracle_df = pd.DataFrame(rlo_oracles)\n",
    "# ## Calculando estatísticas\n",
    "# rlo_oracle_df.describe()"
   ]
  },
  {
   "cell_type": "code",
   "execution_count": null,
   "metadata": {
    "jupyter": {
     "source_hidden": true
    }
   },
   "outputs": [],
   "source": [
    "# rlo_oracle_df.boxplot(figsize=(10,8), grid=False)\n",
    "# plt.title('Boxplot: Oracle para o RLO no conjunto de teste')\n",
    "# plt.xlabel('Quantidade de classificadores')\n",
    "# plt.ylabel('Acurácia')\n",
    "# plt.show();"
   ]
  },
  {
   "cell_type": "code",
   "execution_count": null,
   "metadata": {
    "jupyter": {
     "source_hidden": true
    }
   },
   "outputs": [],
   "source": [
    "# plt.figure(figsize=(10,8))\n",
    "# plt.boxplot(rlo_oracles.values(), labels=rlo_oracles.keys())\n",
    "# plt.title('Boxplot: Oracle para o RLO no conjunto de teste')\n",
    "# plt.xlabel('Quantidade de classificadores')\n",
    "# plt.ylabel('Acurácia')\n",
    "# plt.show();"
   ]
  },
  {
   "cell_type": "markdown",
   "metadata": {},
   "source": [
    "### Implementar funções para os demais modelos (Bagging, Adaboost, Random Subspace)"
   ]
  },
  {
   "cell_type": "code",
   "execution_count": 8,
   "metadata": {},
   "outputs": [],
   "source": [
    "# função para criar os classificadores com o Perceptron como classificador base\n",
    "def L_modelos(classificador, kfolds,random_subspace=False):\n",
    "    \n",
    "    n_classificadores = np.arange(10, 110, 10)\n",
    "    if random_subspace:\n",
    "        max_features = 0.5 # 50% de features\n",
    "        modelos = dict()\n",
    "        for n in n_classificadores:\n",
    "            modelos_folds = dict.fromkeys(kfolds.keys())\n",
    "            for fold in kfolds.keys():\n",
    "                modelos_folds[fold] = classificador(CalibratedClassifierCV(Perceptron()), \n",
    "                                                    n_estimators = n, \n",
    "                                                    max_features=max_features,\n",
    "                                                    bootstrap = False,\n",
    "                                                    bootstrap_features=False)\n",
    "                \n",
    "            modelos[str(n)] = modelos_folds\n",
    "    else:\n",
    "        max_features = 1.0\n",
    "        modelos = dict()\n",
    "        for n in n_classificadores:\n",
    "            modelos_folds = dict.fromkeys(kfolds.keys())\n",
    "            for fold in kfolds.keys():\n",
    "                modelos_folds[fold] = classificador(CalibratedClassifierCV(Perceptron()), \n",
    "                                            n_estimators = n)\n",
    "            \n",
    "            modelos[str(n)] = modelos_folds\n",
    "    return modelos\n",
    "\n",
    "# função para realizar a validação cruzada dos classificadores \n",
    "def avalia_L_modelos(L_classificadores, X, y, kfolds):\n",
    "    \n",
    "    scores_L = dict.fromkeys(L_classificadores)\n",
    "    \n",
    "    for classificador in L_classificadores:\n",
    "        print('Qtd. classificadores: ', classificador)\n",
    "        scores_modelos = dict.fromkeys(kfolds.keys())\n",
    "        for fold, (train_idx, test_idx) in kfolds.items():\n",
    "            L_classificadores[classificador][fold].fit(X[train_idx], y[train_idx])\n",
    "            pred = L_classificadores[classificador][fold].predict(X[test_idx])\n",
    "            scores_modelos[fold] = {'acuracia': accuracy_score(y[test_idx], pred),\n",
    "                           'modelo': L_classificadores[classificador][fold]}\n",
    "            \n",
    "        scores_L[classificador] = scores_modelos\n",
    "    \n",
    "    return scores_L\n",
    "    "
   ]
  },
  {
   "cell_type": "code",
   "execution_count": 9,
   "metadata": {},
   "outputs": [],
   "source": [
    "## Oracle\n",
    "## Função que recebe os modelos cv e retorna Oracle\n",
    "def avalia_oracle(classificador_cv, X, y, kfolds, random_subspace=False):\n",
    "    \n",
    "    classificador_oracles = dict.fromkeys(classificador_cv.keys())\n",
    "    \n",
    "    if random_subspace:\n",
    "        # realizando as previsões\n",
    "        X = pd.DataFrame(X)\n",
    "        modelos_n_class = dict.fromkeys(classificador_oracles.keys())\n",
    "        for n in classificador_oracles:\n",
    "            print('Qtd. classificadores: ', n)\n",
    "            modelos_folds_pred = dict.fromkeys(kfolds.keys()) \n",
    "            for fold, (_, test_id) in kfolds.items():\n",
    "                modelo_i, modelo_features_i = classificador_cv[n][fold]['modelo'].estimators_, classificador_cv[n][fold]['modelo'].estimators_features_\n",
    "                modelos_pred = []\n",
    "                for i, modelo in enumerate(modelo_i):\n",
    "                    pred_i = modelo.predict(X.iloc[test_id, modelo_features_i[i]])\n",
    "                    modelos_pred.append(pred_i)\n",
    "                    \n",
    "                modelos_folds_pred[fold] = modelos_pred\n",
    "            modelos_n_class[n] = modelos_folds_pred\n",
    "    \n",
    "        # calculando o oracles\n",
    "        for n in classificador_oracles:\n",
    "            print('Qtd. classificadores: ', n)\n",
    "            oracles_folds = []\n",
    "            for fold, (_, test_id) in kfolds.items():\n",
    "                oracles = []\n",
    "                for i in range(len(y[test_id])):\n",
    "                    oracle_hit = 0\n",
    "                    for j in range(len(modelos_n_class[n][fold])):\n",
    "                        if modelos_n_class[n][fold][j][i] == y[test_id][i]:\n",
    "                            oracle_hit = 1\n",
    "                        break\n",
    "                    oracles.append(oracle_hit)\n",
    "                oracle_score = np.sum(oracles)/len(oracles)\n",
    "                oracles_folds.append(oracle_score)\n",
    "            classificador_oracles[n] = oracles_folds\n",
    "        \n",
    "        return classificador_oracles\n",
    "    \n",
    "    else:\n",
    "        for n in classificador_oracles:\n",
    "            print('Qtd. classificadores: ', n)\n",
    "            oracles = []\n",
    "            for fold, (_, test_id) in kfolds.items():\n",
    "                oracle_i = oracle.Oracle(classificador_cv[n][fold]['modelo'])\n",
    "                oracle_score = oracle_i.score(X[test_id], y[test_id])\n",
    "                oracles.append(oracle_score)\n",
    "            classificador_oracles[n] = oracles\n",
    "\n",
    "\n",
    "        return classificador_oracles\n",
    "\n",
    "# criar função para criar gráfico dos oracles\n",
    "def cria_boxplot(classificador_oracles, nome_modelo, dataset):\n",
    "    df = pd.DataFrame(classificador_oracles)\n",
    "    display(df.describe())\n",
    "    df.boxplot(figsize=(10,8), grid=False)\n",
    "    plt.title(f'Boxplot: Oracle para o {nome_modelo} no conjunto de teste {dataset} data')\n",
    "    plt.xlabel('Quantidade de classificadores')\n",
    "    plt.ylabel('Acurácia')\n",
    "    plt.show();\n",
    "    "
   ]
  },
  {
   "cell_type": "markdown",
   "metadata": {},
   "source": [
    "## DATASET N. 1: Breast Cancer Wisconsin (Diagnostic) Data Set\n",
    "Data Set Information:\n",
    "\n",
    "Features are computed from a digitized image of a fine needle aspirate (FNA) of a breast mass. They describe characteristics of the cell nuclei present in the image. A few of the images can be found at [Web Link]\n",
    "\n",
    "Separating plane described above was obtained using Multisurface Method-Tree (MSM-T) [K. P. Bennett, \"Decision Tree Construction Via Linear Programming.\" Proceedings of the 4th Midwest Artificial Intelligence and Cognitive Science Society, pp. 97-101, 1992], a classification method which uses linear programming to construct a decision tree. Relevant features were selected using an exhaustive search in the space of 1-4 features and 1-3 separating planes.\n",
    "\n",
    "The actual linear program used to obtain the separating plane in the 3-dimensional space is that described in: [K. P. Bennett and O. L. Mangasarian: \"Robust Linear Programming Discrimination of Two Linearly Inseparable Sets\", Optimization Methods and Software 1, 1992, 23-34].\n",
    "\n",
    "This database is also available through the UW CS ftp server:\n",
    "ftp ftp.cs.wisc.edu\n",
    "cd math-prog/cpo-dataset/machine-learn/WDBC/\n",
    "\n",
    "\n",
    "Attribute Information:\n",
    "\n",
    "1) ID number\n",
    "2) Diagnosis (M = malignant, B = benign)\n",
    "3-32)\n",
    "\n",
    "Ten real-valued features are computed for each cell nucleus:\n",
    "\n",
    "a) radius (mean of distances from center to points on the perimeter)\n",
    "b) texture (standard deviation of gray-scale values)\n",
    "c) perimeter\n",
    "d) area\n",
    "e) smoothness (local variation in radius lengths)\n",
    "f) compactness (perimeter^2 / area - 1.0)\n",
    "g) concavity (severity of concave portions of the contour)\n",
    "h) concave points (number of concave portions of the contour)\n",
    "i) symmetry\n",
    "j) fractal dimension (\"coastline approximation\" - 1)"
   ]
  },
  {
   "cell_type": "code",
   "execution_count": 10,
   "metadata": {},
   "outputs": [],
   "source": [
    "## importando Wine data set\n",
    "wdbc = pd.read_csv(\"dados/wdbc.data\", header=None, index_col=0)"
   ]
  },
  {
   "cell_type": "code",
   "execution_count": 11,
   "metadata": {},
   "outputs": [],
   "source": [
    "# separando em y e X\n",
    "y = wdbc[1]\n",
    "X = wdbc.drop(columns=1)\n",
    "\n",
    "# Scale the variables to have 0 mean and unit variance\n",
    "scalar = StandardScaler()\n",
    "X_norm = scalar.fit_transform(X)\n",
    "# y_cat = pd.Categorical(y, categories=['M', 'B'])\n",
    "y_cat_enc = LabelEncoder().fit_transform(y)\n",
    "\n",
    "# criando os 5-folds\n",
    "wdbc_kfolds = cria_folds(X_norm, y_cat_enc)\n",
    "# salvando\n",
    "with open('dados/wdbc_kfolds.pickle', 'wb') as handle:\n",
    "    pickle.dump(wdbc_kfolds, handle, protocol=pickle.HIGHEST_PROTOCOL)\n",
    "\n",
    "# quantidade de classificadores\n",
    "n_classificadores = np.arange(10, 110, 10)"
   ]
  },
  {
   "cell_type": "markdown",
   "metadata": {},
   "source": [
    "### RLO"
   ]
  },
  {
   "cell_type": "code",
   "execution_count": 12,
   "metadata": {},
   "outputs": [
    {
     "name": "stdout",
     "output_type": "stream",
     "text": [
      "Qtd. classificadores:  10\n",
      "Qtd. classificadores:  20\n",
      "Qtd. classificadores:  30\n",
      "Qtd. classificadores:  40\n",
      "Qtd. classificadores:  50\n",
      "Qtd. classificadores:  60\n",
      "Qtd. classificadores:  70\n",
      "Qtd. classificadores:  80\n",
      "Qtd. classificadores:  90\n",
      "Qtd. classificadores:  100\n",
      "Iniciar avaliação dos Oracles\n"
     ]
    }
   ],
   "source": [
    "## treinamento e teste para validação cruzada para RLO\n",
    "wdbc_rlo_classificadores_resultados_treinamento, wdbc_rlo_classificadores_resultados_teste = RLO_L_modelos(Perceptron(), \n",
    "                                                                                                           n_classificadores, \n",
    "                                                                                                           X_norm, \n",
    "                                                                                                           y_cat_enc, \n",
    "                                                                                                           wdbc_kfolds)\n",
    "\n",
    "print('Iniciar avaliação dos Oracles')\n",
    "## avaliando os Oracles\n",
    "wdbc_rlo_oracles = RLO_avalia_oracles(n_classificadores, wdbc_rlo_classificadores_resultados_teste)"
   ]
  },
  {
   "cell_type": "code",
   "execution_count": 13,
   "metadata": {},
   "outputs": [
    {
     "data": {
      "text/html": [
       "<div>\n",
       "<style scoped>\n",
       "    .dataframe tbody tr th:only-of-type {\n",
       "        vertical-align: middle;\n",
       "    }\n",
       "\n",
       "    .dataframe tbody tr th {\n",
       "        vertical-align: top;\n",
       "    }\n",
       "\n",
       "    .dataframe thead th {\n",
       "        text-align: right;\n",
       "    }\n",
       "</style>\n",
       "<table border=\"1\" class=\"dataframe\">\n",
       "  <thead>\n",
       "    <tr style=\"text-align: right;\">\n",
       "      <th></th>\n",
       "      <th>10</th>\n",
       "      <th>20</th>\n",
       "      <th>30</th>\n",
       "      <th>40</th>\n",
       "      <th>50</th>\n",
       "      <th>60</th>\n",
       "      <th>70</th>\n",
       "      <th>80</th>\n",
       "      <th>90</th>\n",
       "      <th>100</th>\n",
       "    </tr>\n",
       "  </thead>\n",
       "  <tbody>\n",
       "    <tr>\n",
       "      <th>count</th>\n",
       "      <td>5.000000</td>\n",
       "      <td>5.000000</td>\n",
       "      <td>5.000000</td>\n",
       "      <td>5.000000</td>\n",
       "      <td>5.000000</td>\n",
       "      <td>5.000000</td>\n",
       "      <td>5.000000</td>\n",
       "      <td>5.000000</td>\n",
       "      <td>5.000000</td>\n",
       "      <td>5.000000</td>\n",
       "    </tr>\n",
       "    <tr>\n",
       "      <th>mean</th>\n",
       "      <td>0.971899</td>\n",
       "      <td>0.910309</td>\n",
       "      <td>0.933194</td>\n",
       "      <td>0.971899</td>\n",
       "      <td>0.971868</td>\n",
       "      <td>0.887347</td>\n",
       "      <td>0.957755</td>\n",
       "      <td>0.973607</td>\n",
       "      <td>0.971852</td>\n",
       "      <td>0.970113</td>\n",
       "    </tr>\n",
       "    <tr>\n",
       "      <th>std</th>\n",
       "      <td>0.007284</td>\n",
       "      <td>0.042468</td>\n",
       "      <td>0.022970</td>\n",
       "      <td>0.014386</td>\n",
       "      <td>0.004062</td>\n",
       "      <td>0.059428</td>\n",
       "      <td>0.023811</td>\n",
       "      <td>0.010902</td>\n",
       "      <td>0.011572</td>\n",
       "      <td>0.010043</td>\n",
       "    </tr>\n",
       "    <tr>\n",
       "      <th>min</th>\n",
       "      <td>0.964912</td>\n",
       "      <td>0.859649</td>\n",
       "      <td>0.903509</td>\n",
       "      <td>0.947368</td>\n",
       "      <td>0.964602</td>\n",
       "      <td>0.787611</td>\n",
       "      <td>0.920354</td>\n",
       "      <td>0.955752</td>\n",
       "      <td>0.955752</td>\n",
       "      <td>0.956140</td>\n",
       "    </tr>\n",
       "    <tr>\n",
       "      <th>25%</th>\n",
       "      <td>0.964912</td>\n",
       "      <td>0.876106</td>\n",
       "      <td>0.920354</td>\n",
       "      <td>0.973684</td>\n",
       "      <td>0.973684</td>\n",
       "      <td>0.894737</td>\n",
       "      <td>0.956140</td>\n",
       "      <td>0.973684</td>\n",
       "      <td>0.964912</td>\n",
       "      <td>0.964602</td>\n",
       "    </tr>\n",
       "    <tr>\n",
       "      <th>50%</th>\n",
       "      <td>0.973684</td>\n",
       "      <td>0.912281</td>\n",
       "      <td>0.938596</td>\n",
       "      <td>0.973684</td>\n",
       "      <td>0.973684</td>\n",
       "      <td>0.903509</td>\n",
       "      <td>0.956140</td>\n",
       "      <td>0.973684</td>\n",
       "      <td>0.973684</td>\n",
       "      <td>0.973684</td>\n",
       "    </tr>\n",
       "    <tr>\n",
       "      <th>75%</th>\n",
       "      <td>0.973684</td>\n",
       "      <td>0.947368</td>\n",
       "      <td>0.938596</td>\n",
       "      <td>0.982301</td>\n",
       "      <td>0.973684</td>\n",
       "      <td>0.903509</td>\n",
       "      <td>0.973684</td>\n",
       "      <td>0.982456</td>\n",
       "      <td>0.982456</td>\n",
       "      <td>0.973684</td>\n",
       "    </tr>\n",
       "    <tr>\n",
       "      <th>max</th>\n",
       "      <td>0.982301</td>\n",
       "      <td>0.956140</td>\n",
       "      <td>0.964912</td>\n",
       "      <td>0.982456</td>\n",
       "      <td>0.973684</td>\n",
       "      <td>0.947368</td>\n",
       "      <td>0.982456</td>\n",
       "      <td>0.982456</td>\n",
       "      <td>0.982456</td>\n",
       "      <td>0.982456</td>\n",
       "    </tr>\n",
       "  </tbody>\n",
       "</table>\n",
       "</div>"
      ],
      "text/plain": [
       "            10        20        30        40        50        60        70   \\\n",
       "count  5.000000  5.000000  5.000000  5.000000  5.000000  5.000000  5.000000   \n",
       "mean   0.971899  0.910309  0.933194  0.971899  0.971868  0.887347  0.957755   \n",
       "std    0.007284  0.042468  0.022970  0.014386  0.004062  0.059428  0.023811   \n",
       "min    0.964912  0.859649  0.903509  0.947368  0.964602  0.787611  0.920354   \n",
       "25%    0.964912  0.876106  0.920354  0.973684  0.973684  0.894737  0.956140   \n",
       "50%    0.973684  0.912281  0.938596  0.973684  0.973684  0.903509  0.956140   \n",
       "75%    0.973684  0.947368  0.938596  0.982301  0.973684  0.903509  0.973684   \n",
       "max    0.982301  0.956140  0.964912  0.982456  0.973684  0.947368  0.982456   \n",
       "\n",
       "            80        90        100  \n",
       "count  5.000000  5.000000  5.000000  \n",
       "mean   0.973607  0.971852  0.970113  \n",
       "std    0.010902  0.011572  0.010043  \n",
       "min    0.955752  0.955752  0.956140  \n",
       "25%    0.973684  0.964912  0.964602  \n",
       "50%    0.973684  0.973684  0.973684  \n",
       "75%    0.982456  0.982456  0.973684  \n",
       "max    0.982456  0.982456  0.982456  "
      ]
     },
     "metadata": {},
     "output_type": "display_data"
    },
    {
     "data": {
      "image/png": "[encoded data removed]",
      "text/plain": [
       "<Figure size 720x576 with 1 Axes>"
      ]
     },
     "metadata": {
      "needs_background": "light"
     },
     "output_type": "display_data"
    }
   ],
   "source": [
    "## avlaliando o Oracle\n",
    "cria_boxplot(wdbc_rlo_oracles, 'RLO', 'Breast Cancer Wisconsin')"
   ]
  },
  {
   "cell_type": "markdown",
   "metadata": {},
   "source": [
    "### Bagging"
   ]
  },
  {
   "cell_type": "code",
   "execution_count": 14,
   "metadata": {},
   "outputs": [
    {
     "name": "stdout",
     "output_type": "stream",
     "text": [
      "Iniciar avaliação da cv\n",
      "Qtd. classificadores:  10\n",
      "Qtd. classificadores:  20\n",
      "Qtd. classificadores:  30\n",
      "Qtd. classificadores:  40\n",
      "Qtd. classificadores:  50\n",
      "Qtd. classificadores:  60\n",
      "Qtd. classificadores:  70\n",
      "Qtd. classificadores:  80\n",
      "Qtd. classificadores:  90\n",
      "Qtd. classificadores:  100\n",
      "Iniciar avaliação dos Oracles\n",
      "Qtd. classificadores:  10\n",
      "Qtd. classificadores:  20\n",
      "Qtd. classificadores:  30\n",
      "Qtd. classificadores:  40\n",
      "Qtd. classificadores:  50\n",
      "Qtd. classificadores:  60\n",
      "Qtd. classificadores:  70\n",
      "Qtd. classificadores:  80\n",
      "Qtd. classificadores:  90\n",
      "Qtd. classificadores:  100\n"
     ]
    }
   ],
   "source": [
    "wdbc_bagging_L_modelos = L_modelos(BaggingClassifier, wdbc_kfolds)\n",
    "print('Iniciar avaliação da cv')\n",
    "wdbc_bagging_classifier_cv = avalia_L_modelos(wdbc_bagging_L_modelos, X_norm, y_cat_enc, wdbc_kfolds)\n",
    "print('Iniciar avaliação dos Oracles')\n",
    "wdbc_bagging_oracles = avalia_oracle(wdbc_bagging_classifier_cv, X_norm, y_cat_enc, wdbc_kfolds)"
   ]
  },
  {
   "cell_type": "code",
   "execution_count": 15,
   "metadata": {},
   "outputs": [
    {
     "data": {
      "text/html": [
       "<div>\n",
       "<style scoped>\n",
       "    .dataframe tbody tr th:only-of-type {\n",
       "        vertical-align: middle;\n",
       "    }\n",
       "\n",
       "    .dataframe tbody tr th {\n",
       "        vertical-align: top;\n",
       "    }\n",
       "\n",
       "    .dataframe thead th {\n",
       "        text-align: right;\n",
       "    }\n",
       "</style>\n",
       "<table border=\"1\" class=\"dataframe\">\n",
       "  <thead>\n",
       "    <tr style=\"text-align: right;\">\n",
       "      <th></th>\n",
       "      <th>10</th>\n",
       "      <th>20</th>\n",
       "      <th>30</th>\n",
       "      <th>40</th>\n",
       "      <th>50</th>\n",
       "      <th>60</th>\n",
       "      <th>70</th>\n",
       "      <th>80</th>\n",
       "      <th>90</th>\n",
       "      <th>100</th>\n",
       "    </tr>\n",
       "  </thead>\n",
       "  <tbody>\n",
       "    <tr>\n",
       "      <th>count</th>\n",
       "      <td>5.000000</td>\n",
       "      <td>5.000000</td>\n",
       "      <td>5.000000</td>\n",
       "      <td>5.000000</td>\n",
       "      <td>5.000000</td>\n",
       "      <td>5.000000</td>\n",
       "      <td>5.000000</td>\n",
       "      <td>5.000000</td>\n",
       "      <td>5.000000</td>\n",
       "      <td>5.000000</td>\n",
       "    </tr>\n",
       "    <tr>\n",
       "      <th>mean</th>\n",
       "      <td>0.989474</td>\n",
       "      <td>0.991228</td>\n",
       "      <td>0.991228</td>\n",
       "      <td>0.991228</td>\n",
       "      <td>0.991228</td>\n",
       "      <td>0.991228</td>\n",
       "      <td>0.992982</td>\n",
       "      <td>0.992982</td>\n",
       "      <td>0.992982</td>\n",
       "      <td>0.991228</td>\n",
       "    </tr>\n",
       "    <tr>\n",
       "      <th>std</th>\n",
       "      <td>0.007339</td>\n",
       "      <td>0.006203</td>\n",
       "      <td>0.006203</td>\n",
       "      <td>0.006203</td>\n",
       "      <td>0.006203</td>\n",
       "      <td>0.006203</td>\n",
       "      <td>0.007339</td>\n",
       "      <td>0.007339</td>\n",
       "      <td>0.007339</td>\n",
       "      <td>0.006203</td>\n",
       "    </tr>\n",
       "    <tr>\n",
       "      <th>min</th>\n",
       "      <td>0.982456</td>\n",
       "      <td>0.982456</td>\n",
       "      <td>0.982456</td>\n",
       "      <td>0.982456</td>\n",
       "      <td>0.982456</td>\n",
       "      <td>0.982456</td>\n",
       "      <td>0.982456</td>\n",
       "      <td>0.982456</td>\n",
       "      <td>0.982456</td>\n",
       "      <td>0.982456</td>\n",
       "    </tr>\n",
       "    <tr>\n",
       "      <th>25%</th>\n",
       "      <td>0.982456</td>\n",
       "      <td>0.991228</td>\n",
       "      <td>0.991228</td>\n",
       "      <td>0.991228</td>\n",
       "      <td>0.991228</td>\n",
       "      <td>0.991228</td>\n",
       "      <td>0.991228</td>\n",
       "      <td>0.991228</td>\n",
       "      <td>0.991228</td>\n",
       "      <td>0.991228</td>\n",
       "    </tr>\n",
       "    <tr>\n",
       "      <th>50%</th>\n",
       "      <td>0.991228</td>\n",
       "      <td>0.991228</td>\n",
       "      <td>0.991228</td>\n",
       "      <td>0.991228</td>\n",
       "      <td>0.991228</td>\n",
       "      <td>0.991228</td>\n",
       "      <td>0.991228</td>\n",
       "      <td>0.991228</td>\n",
       "      <td>0.991228</td>\n",
       "      <td>0.991228</td>\n",
       "    </tr>\n",
       "    <tr>\n",
       "      <th>75%</th>\n",
       "      <td>0.991228</td>\n",
       "      <td>0.991228</td>\n",
       "      <td>0.991228</td>\n",
       "      <td>0.991228</td>\n",
       "      <td>0.991228</td>\n",
       "      <td>0.991228</td>\n",
       "      <td>1.000000</td>\n",
       "      <td>1.000000</td>\n",
       "      <td>1.000000</td>\n",
       "      <td>0.991228</td>\n",
       "    </tr>\n",
       "    <tr>\n",
       "      <th>max</th>\n",
       "      <td>1.000000</td>\n",
       "      <td>1.000000</td>\n",
       "      <td>1.000000</td>\n",
       "      <td>1.000000</td>\n",
       "      <td>1.000000</td>\n",
       "      <td>1.000000</td>\n",
       "      <td>1.000000</td>\n",
       "      <td>1.000000</td>\n",
       "      <td>1.000000</td>\n",
       "      <td>1.000000</td>\n",
       "    </tr>\n",
       "  </tbody>\n",
       "</table>\n",
       "</div>"
      ],
      "text/plain": [
       "             10        20        30        40        50        60        70  \\\n",
       "count  5.000000  5.000000  5.000000  5.000000  5.000000  5.000000  5.000000   \n",
       "mean   0.989474  0.991228  0.991228  0.991228  0.991228  0.991228  0.992982   \n",
       "std    0.007339  0.006203  0.006203  0.006203  0.006203  0.006203  0.007339   \n",
       "min    0.982456  0.982456  0.982456  0.982456  0.982456  0.982456  0.982456   \n",
       "25%    0.982456  0.991228  0.991228  0.991228  0.991228  0.991228  0.991228   \n",
       "50%    0.991228  0.991228  0.991228  0.991228  0.991228  0.991228  0.991228   \n",
       "75%    0.991228  0.991228  0.991228  0.991228  0.991228  0.991228  1.000000   \n",
       "max    1.000000  1.000000  1.000000  1.000000  1.000000  1.000000  1.000000   \n",
       "\n",
       "             80        90       100  \n",
       "count  5.000000  5.000000  5.000000  \n",
       "mean   0.992982  0.992982  0.991228  \n",
       "std    0.007339  0.007339  0.006203  \n",
       "min    0.982456  0.982456  0.982456  \n",
       "25%    0.991228  0.991228  0.991228  \n",
       "50%    0.991228  0.991228  0.991228  \n",
       "75%    1.000000  1.000000  0.991228  \n",
       "max    1.000000  1.000000  1.000000  "
      ]
     },
     "metadata": {},
     "output_type": "display_data"
    },
    {
     "data": {
      "image/png": "[encoded data removed]",
      "text/plain": [
       "<Figure size 720x576 with 1 Axes>"
      ]
     },
     "metadata": {
      "needs_background": "light"
     },
     "output_type": "display_data"
    }
   ],
   "source": [
    "# criar estatísticas e boxplot\n",
    "cria_boxplot(wdbc_bagging_oracles, nome_modelo='Bagging', dataset='Breast Cancer Wisconsin (diagnostic)')"
   ]
  },
  {
   "cell_type": "markdown",
   "metadata": {},
   "source": [
    "### Adaboost"
   ]
  },
  {
   "cell_type": "code",
   "execution_count": 16,
   "metadata": {},
   "outputs": [
    {
     "name": "stdout",
     "output_type": "stream",
     "text": [
      "Iniciar avaliação da cv\n",
      "Qtd. classificadores:  10\n",
      "Qtd. classificadores:  20\n",
      "Qtd. classificadores:  30\n",
      "Qtd. classificadores:  40\n",
      "Qtd. classificadores:  50\n",
      "Qtd. classificadores:  60\n",
      "Qtd. classificadores:  70\n",
      "Qtd. classificadores:  80\n",
      "Qtd. classificadores:  90\n",
      "Qtd. classificadores:  100\n",
      "Iniciar avaliação dos Oracles\n",
      "Qtd. classificadores:  10\n",
      "Qtd. classificadores:  20\n",
      "Qtd. classificadores:  30\n",
      "Qtd. classificadores:  40\n",
      "Qtd. classificadores:  50\n",
      "Qtd. classificadores:  60\n",
      "Qtd. classificadores:  70\n",
      "Qtd. classificadores:  80\n",
      "Qtd. classificadores:  90\n",
      "Qtd. classificadores:  100\n"
     ]
    }
   ],
   "source": [
    "wdbc_adaboost_L_modelos = L_modelos(AdaBoostClassifier, wdbc_kfolds)\n",
    "print('Iniciar avaliação da cv')\n",
    "wdbc_adaboost_classifier_cv = avalia_L_modelos(wdbc_adaboost_L_modelos, X_norm, y_cat_enc, wdbc_kfolds)\n",
    "print('Iniciar avaliação dos Oracles')\n",
    "wdbc_adaboost_oracles = avalia_oracle(wdbc_adaboost_classifier_cv, X_norm, y_cat_enc, wdbc_kfolds)"
   ]
  },
  {
   "cell_type": "code",
   "execution_count": 17,
   "metadata": {},
   "outputs": [
    {
     "data": {
      "text/html": [
       "<div>\n",
       "<style scoped>\n",
       "    .dataframe tbody tr th:only-of-type {\n",
       "        vertical-align: middle;\n",
       "    }\n",
       "\n",
       "    .dataframe tbody tr th {\n",
       "        vertical-align: top;\n",
       "    }\n",
       "\n",
       "    .dataframe thead th {\n",
       "        text-align: right;\n",
       "    }\n",
       "</style>\n",
       "<table border=\"1\" class=\"dataframe\">\n",
       "  <thead>\n",
       "    <tr style=\"text-align: right;\">\n",
       "      <th></th>\n",
       "      <th>10</th>\n",
       "      <th>20</th>\n",
       "      <th>30</th>\n",
       "      <th>40</th>\n",
       "      <th>50</th>\n",
       "      <th>60</th>\n",
       "      <th>70</th>\n",
       "      <th>80</th>\n",
       "      <th>90</th>\n",
       "      <th>100</th>\n",
       "    </tr>\n",
       "  </thead>\n",
       "  <tbody>\n",
       "    <tr>\n",
       "      <th>count</th>\n",
       "      <td>5.000000</td>\n",
       "      <td>5.000000</td>\n",
       "      <td>5.0</td>\n",
       "      <td>5.0</td>\n",
       "      <td>5.0</td>\n",
       "      <td>5.0</td>\n",
       "      <td>5.0</td>\n",
       "      <td>5.0</td>\n",
       "      <td>5.0</td>\n",
       "      <td>5.0</td>\n",
       "    </tr>\n",
       "    <tr>\n",
       "      <th>mean</th>\n",
       "      <td>0.996491</td>\n",
       "      <td>0.998246</td>\n",
       "      <td>1.0</td>\n",
       "      <td>1.0</td>\n",
       "      <td>1.0</td>\n",
       "      <td>1.0</td>\n",
       "      <td>1.0</td>\n",
       "      <td>1.0</td>\n",
       "      <td>1.0</td>\n",
       "      <td>1.0</td>\n",
       "    </tr>\n",
       "    <tr>\n",
       "      <th>std</th>\n",
       "      <td>0.004805</td>\n",
       "      <td>0.003923</td>\n",
       "      <td>0.0</td>\n",
       "      <td>0.0</td>\n",
       "      <td>0.0</td>\n",
       "      <td>0.0</td>\n",
       "      <td>0.0</td>\n",
       "      <td>0.0</td>\n",
       "      <td>0.0</td>\n",
       "      <td>0.0</td>\n",
       "    </tr>\n",
       "    <tr>\n",
       "      <th>min</th>\n",
       "      <td>0.991228</td>\n",
       "      <td>0.991228</td>\n",
       "      <td>1.0</td>\n",
       "      <td>1.0</td>\n",
       "      <td>1.0</td>\n",
       "      <td>1.0</td>\n",
       "      <td>1.0</td>\n",
       "      <td>1.0</td>\n",
       "      <td>1.0</td>\n",
       "      <td>1.0</td>\n",
       "    </tr>\n",
       "    <tr>\n",
       "      <th>25%</th>\n",
       "      <td>0.991228</td>\n",
       "      <td>1.000000</td>\n",
       "      <td>1.0</td>\n",
       "      <td>1.0</td>\n",
       "      <td>1.0</td>\n",
       "      <td>1.0</td>\n",
       "      <td>1.0</td>\n",
       "      <td>1.0</td>\n",
       "      <td>1.0</td>\n",
       "      <td>1.0</td>\n",
       "    </tr>\n",
       "    <tr>\n",
       "      <th>50%</th>\n",
       "      <td>1.000000</td>\n",
       "      <td>1.000000</td>\n",
       "      <td>1.0</td>\n",
       "      <td>1.0</td>\n",
       "      <td>1.0</td>\n",
       "      <td>1.0</td>\n",
       "      <td>1.0</td>\n",
       "      <td>1.0</td>\n",
       "      <td>1.0</td>\n",
       "      <td>1.0</td>\n",
       "    </tr>\n",
       "    <tr>\n",
       "      <th>75%</th>\n",
       "      <td>1.000000</td>\n",
       "      <td>1.000000</td>\n",
       "      <td>1.0</td>\n",
       "      <td>1.0</td>\n",
       "      <td>1.0</td>\n",
       "      <td>1.0</td>\n",
       "      <td>1.0</td>\n",
       "      <td>1.0</td>\n",
       "      <td>1.0</td>\n",
       "      <td>1.0</td>\n",
       "    </tr>\n",
       "    <tr>\n",
       "      <th>max</th>\n",
       "      <td>1.000000</td>\n",
       "      <td>1.000000</td>\n",
       "      <td>1.0</td>\n",
       "      <td>1.0</td>\n",
       "      <td>1.0</td>\n",
       "      <td>1.0</td>\n",
       "      <td>1.0</td>\n",
       "      <td>1.0</td>\n",
       "      <td>1.0</td>\n",
       "      <td>1.0</td>\n",
       "    </tr>\n",
       "  </tbody>\n",
       "</table>\n",
       "</div>"
      ],
      "text/plain": [
       "             10        20   30   40   50   60   70   80   90  100\n",
       "count  5.000000  5.000000  5.0  5.0  5.0  5.0  5.0  5.0  5.0  5.0\n",
       "mean   0.996491  0.998246  1.0  1.0  1.0  1.0  1.0  1.0  1.0  1.0\n",
       "std    0.004805  0.003923  0.0  0.0  0.0  0.0  0.0  0.0  0.0  0.0\n",
       "min    0.991228  0.991228  1.0  1.0  1.0  1.0  1.0  1.0  1.0  1.0\n",
       "25%    0.991228  1.000000  1.0  1.0  1.0  1.0  1.0  1.0  1.0  1.0\n",
       "50%    1.000000  1.000000  1.0  1.0  1.0  1.0  1.0  1.0  1.0  1.0\n",
       "75%    1.000000  1.000000  1.0  1.0  1.0  1.0  1.0  1.0  1.0  1.0\n",
       "max    1.000000  1.000000  1.0  1.0  1.0  1.0  1.0  1.0  1.0  1.0"
      ]
     },
     "metadata": {},
     "output_type": "display_data"
    },
    {
     "data": {
      "image/png": "[encoded data removed]",
      "text/plain": [
       "<Figure size 720x576 with 1 Axes>"
      ]
     },
     "metadata": {
      "needs_background": "light"
     },
     "output_type": "display_data"
    }
   ],
   "source": [
    "# criar estatísticas e boxplot\n",
    "cria_boxplot(wdbc_adaboost_oracles, nome_modelo='Adaboost', dataset='Breast Cancer Wisconsin (diagnostic)')"
   ]
  },
  {
   "cell_type": "markdown",
   "metadata": {},
   "source": [
    "### Random Subspace"
   ]
  },
  {
   "cell_type": "code",
   "execution_count": 18,
   "metadata": {},
   "outputs": [
    {
     "name": "stdout",
     "output_type": "stream",
     "text": [
      "Iniciar avaliação da cv\n",
      "Qtd. classificadores:  10\n",
      "Qtd. classificadores:  20\n",
      "Qtd. classificadores:  30\n",
      "Qtd. classificadores:  40\n",
      "Qtd. classificadores:  50\n",
      "Qtd. classificadores:  60\n",
      "Qtd. classificadores:  70\n",
      "Qtd. classificadores:  80\n",
      "Qtd. classificadores:  90\n",
      "Qtd. classificadores:  100\n",
      "Iniciar avaliação dos Oracles\n",
      "Qtd. classificadores:  10\n",
      "Qtd. classificadores:  20\n",
      "Qtd. classificadores:  30\n",
      "Qtd. classificadores:  40\n",
      "Qtd. classificadores:  50\n",
      "Qtd. classificadores:  60\n",
      "Qtd. classificadores:  70\n",
      "Qtd. classificadores:  80\n",
      "Qtd. classificadores:  90\n",
      "Qtd. classificadores:  100\n",
      "Qtd. classificadores:  10\n",
      "Qtd. classificadores:  20\n",
      "Qtd. classificadores:  30\n",
      "Qtd. classificadores:  40\n",
      "Qtd. classificadores:  50\n",
      "Qtd. classificadores:  60\n",
      "Qtd. classificadores:  70\n",
      "Qtd. classificadores:  80\n",
      "Qtd. classificadores:  90\n",
      "Qtd. classificadores:  100\n"
     ]
    }
   ],
   "source": [
    "wdbc_random_subspace_L_modelos = L_modelos(BaggingClassifier, wdbc_kfolds, True)\n",
    "print('Iniciar avaliação da cv')\n",
    "wdbc_random_subspace_classifier_cv = avalia_L_modelos(wdbc_random_subspace_L_modelos, X_norm, y_cat_enc, wdbc_kfolds)\n",
    "print('Iniciar avaliação dos Oracles')\n",
    "wdbc_random_subspace_oracles = avalia_oracle(wdbc_random_subspace_classifier_cv, X_norm, y_cat_enc, wdbc_kfolds, True)"
   ]
  },
  {
   "cell_type": "code",
   "execution_count": 19,
   "metadata": {},
   "outputs": [
    {
     "data": {
      "text/html": [
       "<div>\n",
       "<style scoped>\n",
       "    .dataframe tbody tr th:only-of-type {\n",
       "        vertical-align: middle;\n",
       "    }\n",
       "\n",
       "    .dataframe tbody tr th {\n",
       "        vertical-align: top;\n",
       "    }\n",
       "\n",
       "    .dataframe thead th {\n",
       "        text-align: right;\n",
       "    }\n",
       "</style>\n",
       "<table border=\"1\" class=\"dataframe\">\n",
       "  <thead>\n",
       "    <tr style=\"text-align: right;\">\n",
       "      <th></th>\n",
       "      <th>10</th>\n",
       "      <th>20</th>\n",
       "      <th>30</th>\n",
       "      <th>40</th>\n",
       "      <th>50</th>\n",
       "      <th>60</th>\n",
       "      <th>70</th>\n",
       "      <th>80</th>\n",
       "      <th>90</th>\n",
       "      <th>100</th>\n",
       "    </tr>\n",
       "  </thead>\n",
       "  <tbody>\n",
       "    <tr>\n",
       "      <th>count</th>\n",
       "      <td>5.000000</td>\n",
       "      <td>5.000000</td>\n",
       "      <td>5.000000</td>\n",
       "      <td>5.000000</td>\n",
       "      <td>5.000000</td>\n",
       "      <td>5.000000</td>\n",
       "      <td>5.000000</td>\n",
       "      <td>5.000000</td>\n",
       "      <td>5.000000</td>\n",
       "      <td>5.000000</td>\n",
       "    </tr>\n",
       "    <tr>\n",
       "      <th>mean</th>\n",
       "      <td>0.959603</td>\n",
       "      <td>0.970113</td>\n",
       "      <td>0.956109</td>\n",
       "      <td>0.952554</td>\n",
       "      <td>0.961341</td>\n",
       "      <td>0.954324</td>\n",
       "      <td>0.961357</td>\n",
       "      <td>0.959603</td>\n",
       "      <td>0.968374</td>\n",
       "      <td>0.968390</td>\n",
       "    </tr>\n",
       "    <tr>\n",
       "      <th>std</th>\n",
       "      <td>0.009920</td>\n",
       "      <td>0.004891</td>\n",
       "      <td>0.018553</td>\n",
       "      <td>0.018172</td>\n",
       "      <td>0.018175</td>\n",
       "      <td>0.009525</td>\n",
       "      <td>0.009930</td>\n",
       "      <td>0.013242</td>\n",
       "      <td>0.007807</td>\n",
       "      <td>0.014641</td>\n",
       "    </tr>\n",
       "    <tr>\n",
       "      <th>min</th>\n",
       "      <td>0.947368</td>\n",
       "      <td>0.964602</td>\n",
       "      <td>0.938596</td>\n",
       "      <td>0.921053</td>\n",
       "      <td>0.929825</td>\n",
       "      <td>0.947368</td>\n",
       "      <td>0.947368</td>\n",
       "      <td>0.947368</td>\n",
       "      <td>0.956140</td>\n",
       "      <td>0.947368</td>\n",
       "    </tr>\n",
       "    <tr>\n",
       "      <th>25%</th>\n",
       "      <td>0.956140</td>\n",
       "      <td>0.964912</td>\n",
       "      <td>0.938596</td>\n",
       "      <td>0.955752</td>\n",
       "      <td>0.964602</td>\n",
       "      <td>0.947368</td>\n",
       "      <td>0.956140</td>\n",
       "      <td>0.947368</td>\n",
       "      <td>0.964912</td>\n",
       "      <td>0.964912</td>\n",
       "    </tr>\n",
       "    <tr>\n",
       "      <th>50%</th>\n",
       "      <td>0.956140</td>\n",
       "      <td>0.973684</td>\n",
       "      <td>0.956140</td>\n",
       "      <td>0.956140</td>\n",
       "      <td>0.964912</td>\n",
       "      <td>0.947368</td>\n",
       "      <td>0.964912</td>\n",
       "      <td>0.956140</td>\n",
       "      <td>0.973451</td>\n",
       "      <td>0.964912</td>\n",
       "    </tr>\n",
       "    <tr>\n",
       "      <th>75%</th>\n",
       "      <td>0.964912</td>\n",
       "      <td>0.973684</td>\n",
       "      <td>0.964912</td>\n",
       "      <td>0.964912</td>\n",
       "      <td>0.973684</td>\n",
       "      <td>0.964602</td>\n",
       "      <td>0.964912</td>\n",
       "      <td>0.973451</td>\n",
       "      <td>0.973684</td>\n",
       "      <td>0.982301</td>\n",
       "    </tr>\n",
       "    <tr>\n",
       "      <th>max</th>\n",
       "      <td>0.973451</td>\n",
       "      <td>0.973684</td>\n",
       "      <td>0.982301</td>\n",
       "      <td>0.964912</td>\n",
       "      <td>0.973684</td>\n",
       "      <td>0.964912</td>\n",
       "      <td>0.973451</td>\n",
       "      <td>0.973684</td>\n",
       "      <td>0.973684</td>\n",
       "      <td>0.982456</td>\n",
       "    </tr>\n",
       "  </tbody>\n",
       "</table>\n",
       "</div>"
      ],
      "text/plain": [
       "             10        20        30        40        50        60        70  \\\n",
       "count  5.000000  5.000000  5.000000  5.000000  5.000000  5.000000  5.000000   \n",
       "mean   0.959603  0.970113  0.956109  0.952554  0.961341  0.954324  0.961357   \n",
       "std    0.009920  0.004891  0.018553  0.018172  0.018175  0.009525  0.009930   \n",
       "min    0.947368  0.964602  0.938596  0.921053  0.929825  0.947368  0.947368   \n",
       "25%    0.956140  0.964912  0.938596  0.955752  0.964602  0.947368  0.956140   \n",
       "50%    0.956140  0.973684  0.956140  0.956140  0.964912  0.947368  0.964912   \n",
       "75%    0.964912  0.973684  0.964912  0.964912  0.973684  0.964602  0.964912   \n",
       "max    0.973451  0.973684  0.982301  0.964912  0.973684  0.964912  0.973451   \n",
       "\n",
       "             80        90       100  \n",
       "count  5.000000  5.000000  5.000000  \n",
       "mean   0.959603  0.968374  0.968390  \n",
       "std    0.013242  0.007807  0.014641  \n",
       "min    0.947368  0.956140  0.947368  \n",
       "25%    0.947368  0.964912  0.964912  \n",
       "50%    0.956140  0.973451  0.964912  \n",
       "75%    0.973451  0.973684  0.982301  \n",
       "max    0.973684  0.973684  0.982456  "
      ]
     },
     "metadata": {},
     "output_type": "display_data"
    },
    {
     "data": {
      "image/png": "[encoded data removed]",
      "text/plain": [
       "<Figure size 720x576 with 1 Axes>"
      ]
     },
     "metadata": {
      "needs_background": "light"
     },
     "output_type": "display_data"
    }
   ],
   "source": [
    "cria_boxplot(wdbc_random_subspace_oracles, nome_modelo='Random Subspace', dataset=' Breast Cancer Wisconsin (diagnostic)')"
   ]
  },
  {
   "cell_type": "markdown",
   "metadata": {},
   "source": [
    "## DATASET N. 2: Banknote authentication Data Set\n",
    "\n",
    "Data Set Information:\n",
    "\n",
    "Data were extracted from images that were taken from genuine and forged banknote-like specimens. For digitization, an industrial camera usually used for print inspection was used. The final images have 400x 400 pixels. Due to the object lens and distance to the investigated object gray-scale pictures with a resolution of about 660 dpi were gained. Wavelet Transform tool were used to extract features from images.\n",
    "\n",
    "\n",
    "Attribute Information:\n",
    "\n",
    "1. variance of Wavelet Transformed image (continuous)\n",
    "2. skewness of Wavelet Transformed image (continuous)\n",
    "3. curtosis of Wavelet Transformed image (continuous)\n",
    "4. entropy of image (continuous)\n",
    "5. class (integer)\n"
   ]
  },
  {
   "cell_type": "code",
   "execution_count": 25,
   "metadata": {},
   "outputs": [
    {
     "data": {
      "text/html": [
       "<div>\n",
       "<style scoped>\n",
       "    .dataframe tbody tr th:only-of-type {\n",
       "        vertical-align: middle;\n",
       "    }\n",
       "\n",
       "    .dataframe tbody tr th {\n",
       "        vertical-align: top;\n",
       "    }\n",
       "\n",
       "    .dataframe thead th {\n",
       "        text-align: right;\n",
       "    }\n",
       "</style>\n",
       "<table border=\"1\" class=\"dataframe\">\n",
       "  <thead>\n",
       "    <tr style=\"text-align: right;\">\n",
       "      <th></th>\n",
       "      <th>0</th>\n",
       "      <th>1</th>\n",
       "      <th>2</th>\n",
       "      <th>3</th>\n",
       "      <th>4</th>\n",
       "    </tr>\n",
       "  </thead>\n",
       "  <tbody>\n",
       "    <tr>\n",
       "      <th>0</th>\n",
       "      <td>3.62160</td>\n",
       "      <td>8.6661</td>\n",
       "      <td>-2.8073</td>\n",
       "      <td>-0.44699</td>\n",
       "      <td>0</td>\n",
       "    </tr>\n",
       "    <tr>\n",
       "      <th>1</th>\n",
       "      <td>4.54590</td>\n",
       "      <td>8.1674</td>\n",
       "      <td>-2.4586</td>\n",
       "      <td>-1.46210</td>\n",
       "      <td>0</td>\n",
       "    </tr>\n",
       "    <tr>\n",
       "      <th>2</th>\n",
       "      <td>3.86600</td>\n",
       "      <td>-2.6383</td>\n",
       "      <td>1.9242</td>\n",
       "      <td>0.10645</td>\n",
       "      <td>0</td>\n",
       "    </tr>\n",
       "    <tr>\n",
       "      <th>3</th>\n",
       "      <td>3.45660</td>\n",
       "      <td>9.5228</td>\n",
       "      <td>-4.0112</td>\n",
       "      <td>-3.59440</td>\n",
       "      <td>0</td>\n",
       "    </tr>\n",
       "    <tr>\n",
       "      <th>4</th>\n",
       "      <td>0.32924</td>\n",
       "      <td>-4.4552</td>\n",
       "      <td>4.5718</td>\n",
       "      <td>-0.98880</td>\n",
       "      <td>0</td>\n",
       "    </tr>\n",
       "  </tbody>\n",
       "</table>\n",
       "</div>"
      ],
      "text/plain": [
       "         0       1       2        3  4\n",
       "0  3.62160  8.6661 -2.8073 -0.44699  0\n",
       "1  4.54590  8.1674 -2.4586 -1.46210  0\n",
       "2  3.86600 -2.6383  1.9242  0.10645  0\n",
       "3  3.45660  9.5228 -4.0112 -3.59440  0\n",
       "4  0.32924 -4.4552  4.5718 -0.98880  0"
      ]
     },
     "execution_count": 25,
     "metadata": {},
     "output_type": "execute_result"
    }
   ],
   "source": [
    "## importação dos dados\n",
    "bank = pd.read_csv('dados/data_banknote_authentication.txt', header=None)\n",
    "\n",
    "bank.head()"
   ]
  },
  {
   "cell_type": "code",
   "execution_count": 34,
   "metadata": {},
   "outputs": [],
   "source": [
    "# separando em y e X\n",
    "y = bank.iloc[:, -1].values\n",
    "X = bank.iloc[:, :-1].values\n",
    "\n",
    "# Scale the variables to have 0 mean and unit variance\n",
    "# scalar = StandardScaler()\n",
    "# X_norm = scalar.fit_transform(X)\n",
    "\n",
    "# criando os 5-folds\n",
    "bank_kfolds = cria_folds(X, y)\n",
    "# salvar os folds em pickle\n",
    "with open('dados/bank_kfolds.pickle', 'wb') as handle:\n",
    "    pickle.dump(bank_kfolds, handle, protocol=pickle.HIGHEST_PROTOCOL)"
   ]
  },
  {
   "cell_type": "markdown",
   "metadata": {},
   "source": [
    "### RLO"
   ]
  },
  {
   "cell_type": "code",
   "execution_count": null,
   "metadata": {},
   "outputs": [],
   "source": [
    "## treinamento e teste para validação cruzada para RLO\n",
    "bank_rlo_classificadores_resultados_treinamento, audit_rlo_classificadores_resultados_teste = RLO_L_modelos(Perceptron(), \n",
    "                                                                                                           n_classificadores, \n",
    "                                                                                                           X, \n",
    "                                                                                                           y, \n",
    "                                                                                                           bank_kfolds)\n",
    "\n",
    "print('Iniciar avaliação dos Oracles')\n",
    "## avaliando os Oracles\n",
    "bank_rlo_oracles = RLO_avalia_oracles(n_classificadores, bank_rlo_classificadores_resultados_teste)"
   ]
  },
  {
   "cell_type": "code",
   "execution_count": null,
   "metadata": {},
   "outputs": [],
   "source": [
    "## avlaliando o Oracle\n",
    "cria_boxplot(bank_rlo_oracles, 'RLO', 'Bank Data')"
   ]
  },
  {
   "cell_type": "markdown",
   "metadata": {},
   "source": [
    "### Bagging"
   ]
  },
  {
   "cell_type": "code",
   "execution_count": null,
   "metadata": {},
   "outputs": [
    {
     "name": "stdout",
     "output_type": "stream",
     "text": [
      "Iniciar avaliação da cv\n",
      "Qtd. classificadores:  10\n",
      "Qtd. classificadores:  20\n",
      "Qtd. classificadores:  30\n",
      "Qtd. classificadores:  40\n",
      "Qtd. classificadores:  50\n",
      "Qtd. classificadores:  60\n",
      "Qtd. classificadores:  70\n",
      "Qtd. classificadores:  80\n"
     ]
    }
   ],
   "source": [
    "bank_bagging_L_modelos = L_modelos(BaggingClassifier, bank_kfolds)\n",
    "print('Iniciar avaliação da cv')\n",
    "bank_bagging_classifier_cv = avalia_L_modelos(bank_bagging_L_modelos, X, y, bank_kfolds)\n",
    "print('Iniciar avaliação dos Oracles')\n",
    "bank_bagging_oracles = avalia_oracle(bank_bagging_classifier_cv, X, y, bank_kfolds)"
   ]
  },
  {
   "cell_type": "code",
   "execution_count": null,
   "metadata": {},
   "outputs": [],
   "source": [
    "# criar estatísticas e boxplot\n",
    "cria_boxplot(bank_bagging_oracles, nome_modelo='Bagging', dataset='Banknote authentication')"
   ]
  },
  {
   "cell_type": "code",
   "execution_count": null,
   "metadata": {},
   "outputs": [],
   "source": []
  },
  {
   "cell_type": "code",
   "execution_count": null,
   "metadata": {},
   "outputs": [],
   "source": []
  },
  {
   "cell_type": "code",
   "execution_count": null,
   "metadata": {},
   "outputs": [],
   "source": [
    "blood = pd.read_csv('dados/transfusion.data')"
   ]
  },
  {
   "cell_type": "code",
   "execution_count": null,
   "metadata": {},
   "outputs": [],
   "source": [
    "blood.head()"
   ]
  },
  {
   "cell_type": "markdown",
   "metadata": {},
   "source": [
    "\n",
    "# 2)\n",
    "Use as mesma bases de dados e os mesmos folds da questão anterior e, para cada base: \n",
    "- use o **SGH** para gerar o pool de classificadores no conjunto de treinamento; \n",
    "\n",
    "- calcule o Oracle do pool no conjunto de teste; \n",
    "\n",
    "- verifique quantas instâncias por classe foram incorretamente classificadas; \n",
    "\n",
    "- verifique quantos hiperplanos por classe foram gerados. \n",
    "\n",
    "Analise os resultados coletados. "
   ]
  },
  {
   "cell_type": "code",
   "execution_count": null,
   "metadata": {},
   "outputs": [],
   "source": [
    "import sgh"
   ]
  },
  {
   "cell_type": "code",
   "execution_count": null,
   "metadata": {},
   "outputs": [],
   "source": [
    "sgh_mod = sgh.SGH(base_estimator=Perceptron(max_iter=1))"
   ]
  },
  {
   "cell_type": "code",
   "execution_count": null,
   "metadata": {},
   "outputs": [],
   "source": [
    "sgh_mod.fit(X_train, y_train)\n",
    "sgh_oracle = oracle.Oracle(sgh_mod)"
   ]
  },
  {
   "cell_type": "code",
   "execution_count": null,
   "metadata": {},
   "outputs": [],
   "source": [
    "sgh_oracle.score(X_test, y_test)"
   ]
  },
  {
   "cell_type": "code",
   "execution_count": null,
   "metadata": {},
   "outputs": [],
   "source": [
    "sgh_oracle.pool_classifiers"
   ]
  },
  {
   "cell_type": "markdown",
   "metadata": {},
   "source": [
    "### Função para criar os L SGH e para Avaliar o Oracle"
   ]
  },
  {
   "cell_type": "code",
   "execution_count": null,
   "metadata": {},
   "outputs": [],
   "source": [
    "def L_sgh_modelos(kfolds):    \n",
    "    classificadores_folds = dict.fromkeys(kfolds.keys())\n",
    "    for fold in kfolds:\n",
    "        classificadores_folds[fold] = sgh.SGH(base_estimator = Perceptron())\n",
    "\n",
    "    return classificadores_folds\n",
    "\n",
    "# função para realizar a validação cruzada dos classificadores \n",
    "def avalia_L_sgh_modelos(classificadores_folds, X, y, kfolds):\n",
    "    \n",
    "    oracles = []\n",
    "    for fold, (train_idx, test_idx) in kfolds.items():\n",
    "        # treinamento e teste\n",
    "        classificadores_folds[fold].fit(X[train_idx], y[train_idx])\n",
    "\n",
    "        # Oracle\n",
    "        oracle_i = oracle.Oracle(classificadores_folds[fold]) \n",
    "        oracle_score = oracle_i.score(X[test_idx], y[test_idx])\n",
    "        oracles.append(oracle_score)\n",
    "        \n",
    "    return oracles\n",
    "    "
   ]
  },
  {
   "cell_type": "code",
   "execution_count": null,
   "metadata": {},
   "outputs": [],
   "source": [
    "l_sgh_modelos = L_sgh_modelos(kfolds)\n",
    "oracles_sgh_scores = avalia_L_sgh_modelos(l_sgh_modelos, X_train, y_train, kfolds)"
   ]
  },
  {
   "cell_type": "code",
   "execution_count": null,
   "metadata": {},
   "outputs": [],
   "source": [
    "l_sgh_modelos"
   ]
  },
  {
   "cell_type": "code",
   "execution_count": null,
   "metadata": {},
   "outputs": [],
   "source": [
    "print(f'Média:         {np.mean(oracles_sgh_scores)}')\n",
    "print(f'Desvio padrão: {np.std(oracles_sgh_scores, ddof=1)}')"
   ]
  },
  {
   "cell_type": "code",
   "execution_count": null,
   "metadata": {},
   "outputs": [],
   "source": []
  },
  {
   "cell_type": "code",
   "execution_count": null,
   "metadata": {},
   "outputs": [],
   "source": []
  }
 ],
 "metadata": {
  "kernelspec": {
   "display_name": "Python 3",
   "language": "python",
   "name": "python3"
  },
  "language_info": {
   "codemirror_mode": {
    "name": "ipython",
    "version": 3
   },
   "file_extension": ".py",
   "mimetype": "text/x-python",
   "name": "python",
   "nbconvert_exporter": "python",
   "pygments_lexer": "ipython3",
   "version": "3.7.8"
  }
 },
 "nbformat": 4,
 "nbformat_minor": 4
}
