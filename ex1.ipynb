{
 "cells": [
  {
   "cell_type": "markdown",
   "metadata": {},
   "source": [
    "# EXERCÍCIO N.1: Sistemas de Múltiplos Classificadores\n",
    "\n",
    "# Questão 1:\n",
    "\n",
    "Selecione cinco bases de dados públicas que contenham características diferentes e, para cada base, calcule o Oracle no conjunto de teste para:\n",
    "* Bagging\n",
    "* Adaboost \n",
    "* Random Subspace (50%)\n",
    "* Random Oracles\n",
    "\n",
    "variando o número de classificadores-base {10, 20, …, 100}. \n",
    "\n",
    "Use o Perceptron como classificador-base e divida os fold usando o 5-fold cross-validation. \n",
    "\n",
    "Analise os resultados. "
   ]
  },
  {
   "cell_type": "markdown",
   "metadata": {},
   "source": [
    "### Dados\n",
    "\n",
    "1. Breast Cancer Wisconsin (Diagnostic) Data Set: https://archive.ics.uci.edu/ml/datasets/Breast+Cancer+Wisconsin+%28Diagnostic%29\n",
    "\n",
    "2. banknote authentication Data Set: http://archive.ics.uci.edu/ml/datasets/banknote+authentication\n",
    "\n",
    "3. Connectionist Bench (Sonar) Data set: https://archive.ics.uci.edu/ml/datasets/Connectionist+Bench+%28Sonar%2C+Mines+vs.+Rocks%29\n",
    "\n",
    "4. Climate Model Simulation Crashes Data Set: https://archive.ics.uci.edu/ml/datasets/climate+model+simulation+crashes\n",
    "\n",
    "5. Fertility Data Set: https://archive.ics.uci.edu/ml/datasets/Fertility\n",
    "\n"
   ]
  },
  {
   "cell_type": "code",
   "execution_count": null,
   "metadata": {},
   "outputs": [],
   "source": [
    "# Importar bibliotecas\n",
    "import pandas as pd\n",
    "import numpy as np\n",
    "import matplotlib.pyplot as plt\n",
    "from scipy import stats\n",
    "import pickle\n",
    "\n",
    "from sklearn.datasets import load_breast_cancer\n",
    "from sklearn.model_selection import train_test_split\n",
    "from sklearn.preprocessing import StandardScaler\n",
    "from sklearn.preprocessing import LabelEncoder\n",
    "from sklearn.linear_model import Perceptron\n",
    "from sklearn.calibration import CalibratedClassifierCV\n",
    "from sklearn.model_selection import KFold\n",
    "from sklearn.model_selection import StratifiedKFold\n",
    "from sklearn.model_selection import cross_val_score\n",
    "from sklearn.metrics import accuracy_score\n",
    "from sklearn.ensemble import BaggingClassifier # servirá para o Bagging e para o Random Subspace\n",
    "from sklearn.ensemble import AdaBoostClassifier\n",
    "from sklearn.ensemble import BaseEnsemble\n",
    "from rlo import RLO\n",
    "\n",
    "import oracle"
   ]
  },
  {
   "cell_type": "code",
   "execution_count": null,
   "metadata": {},
   "outputs": [],
   "source": [
    "import warnings\n",
    "# warnings.filterwarnings(action='once')\n",
    "warnings.filterwarnings(action='ignore')"
   ]
  },
  {
   "cell_type": "code",
   "execution_count": null,
   "metadata": {},
   "outputs": [],
   "source": [
    "# seed\n",
    "np.random.seed(111)\n",
    "n_classificadores = np.arange(10, 110, 10)"
   ]
  },
  {
   "cell_type": "markdown",
   "metadata": {},
   "source": [
    "#### função que faz a Validação cruzada 5fold com o RLO\n",
    "#### função avalia_L_modelos para o RLO "
   ]
  },
  {
   "cell_type": "code",
   "execution_count": null,
   "metadata": {},
   "outputs": [],
   "source": [
    "# Criando os 5 folds e salvando em dicionário\n",
    "def cria_folds(X, y, n=5, stratified=True):\n",
    "    if stratified:\n",
    "        kf = StratifiedKFold(n_splits=n)\n",
    "    else:\n",
    "        kf = KFold(n_splits=n)\n",
    "        \n",
    "    kfolds = dict()\n",
    "    i = 1\n",
    "    for train_index, test_index in kf.split(X, y):\n",
    "        kfolds[f'fold{i}'] = (train_index, test_index)\n",
    "        i += 1\n",
    "    return kfolds"
   ]
  },
  {
   "cell_type": "code",
   "execution_count": null,
   "metadata": {},
   "outputs": [],
   "source": [
    "## função cv RLO\n",
    "def cv_RLO(kfolds, RLO, X, y):\n",
    "    '''\n",
    "    Realiza a validação cruzada para um Random Linear Oracle.\n",
    "    \n",
    "    Retorna uma tupla com dois dicionários: modelos e resultados.\n",
    "    '''\n",
    "    modelos = dict.fromkeys(kfolds)\n",
    "    resultados = dict.fromkeys(kfolds)\n",
    "    \n",
    "    for fold, (train_idx, test_idx) in kfolds.items():\n",
    "        modelo = RLO\n",
    "        _,_ = modelo.fit(X[train_idx], y[train_idx])\n",
    "        modelos[fold] = modelo\n",
    "        resultados[fold] = modelo.predict(X[train_idx], y[train_idx])\n",
    "        \n",
    "    return (modelos, resultados)\n",
    "    \n",
    "\n",
    "## função avalia_L_modelos_RLO\n",
    "def avalia_cv_RLO(kfolds, modelos_cv, X, y):\n",
    "    '''\n",
    "    Realiza a avaliação dos resultados para os dados de teste para o Random Linear Oracle e computa o Oracle para o conjunto de teste\n",
    "    \n",
    "    Retorna uma tupla com dois dicionários: resultados, oracles\n",
    "    '''\n",
    "    \n",
    "    resultados = dict.fromkeys(modelos_cv)\n",
    "    oracles = dict.fromkeys(modelos_cv)\n",
    "    for fold, (_, test_idx) in kfolds.items():\n",
    "        resultados[fold] = modelos_cv[fold].predict(X[test_idx], y[test_idx])\n",
    "        \n",
    "        oracles[fold] = modelos_cv[fold].Oracle_score(X[test_idx], y[test_idx])\n",
    "    return (resultados, oracles)"
   ]
  },
  {
   "cell_type": "code",
   "execution_count": null,
   "metadata": {},
   "outputs": [],
   "source": [
    "### Realizando o procedimento anterior variando agora a quantidade de classificadores do modelo\n",
    "\n",
    "def RLO_L_modelos(classificador, n_classificadores, X, y, kfolds):\n",
    "    rlo_classificadores_resultados_treinamento = dict.fromkeys(n_classificadores)\n",
    "    rlo_classificadores_resultados_teste = dict.fromkeys(n_classificadores)\n",
    "\n",
    "    for n in n_classificadores:\n",
    "        print('Qtd. classificadores: ', n)\n",
    "        while True:\n",
    "            try:\n",
    "                # treinamento\n",
    "                modelos, resultados = cv_RLO(kfolds, RLO(base_estimator=classificador, n_estimators=n), X, y)\n",
    "                rlo_classificadores_resultados_treinamento[n] = (modelos, resultados)\n",
    "                # avalia cv\n",
    "                resultados_teste, oracles_teste = avalia_cv_RLO(kfolds, modelos, X, y)\n",
    "                break\n",
    "            except:\n",
    "                continue\n",
    "            break\n",
    "            \n",
    "        rlo_classificadores_resultados_teste[n] = (resultados_teste, oracles_teste)\n",
    "        \n",
    "    return rlo_classificadores_resultados_treinamento, rlo_classificadores_resultados_teste\n",
    "\n",
    "def RLO_avalia_oracles(n_classificadores, rlo_classificadores_resultados_teste):\n",
    "    \n",
    "    rlo_oracles = dict.fromkeys(n_classificadores)\n",
    "    for n in n_classificadores:\n",
    "        oracles_n = []\n",
    "        for i in range(1,6):\n",
    "            fold = f'fold{i}'\n",
    "            oracle_i = rlo_classificadores_resultados_teste[n][1][fold]\n",
    "            oracles_n.append(oracle_i)\n",
    "        rlo_oracles[n] = oracles_n\n",
    "    return rlo_oracles"
   ]
  },
  {
   "cell_type": "markdown",
   "metadata": {},
   "source": [
    "### Implementar funções para os demais modelos (Bagging, Adaboost, Random Subspace)"
   ]
  },
  {
   "cell_type": "code",
   "execution_count": null,
   "metadata": {},
   "outputs": [],
   "source": [
    "# função para criar os classificadores com o Perceptron como classificador base\n",
    "def L_modelos(classificador, kfolds,random_subspace=False):\n",
    "    \n",
    "    n_classificadores = np.arange(10, 110, 10)\n",
    "    if random_subspace:\n",
    "        max_features = 0.5 # 50% de features\n",
    "        modelos = dict()\n",
    "        for n in n_classificadores:\n",
    "            modelos_folds = dict.fromkeys(kfolds.keys())\n",
    "            for fold in kfolds.keys():\n",
    "                modelos_folds[fold] = classificador(CalibratedClassifierCV(Perceptron()), \n",
    "                                                    n_estimators = n, \n",
    "                                                    max_features=max_features,\n",
    "                                                    bootstrap = False,\n",
    "                                                    bootstrap_features=False)\n",
    "                \n",
    "            modelos[str(n)] = modelos_folds\n",
    "    else:\n",
    "        max_features = 1.0\n",
    "        modelos = dict()\n",
    "        for n in n_classificadores:\n",
    "            modelos_folds = dict.fromkeys(kfolds.keys())\n",
    "            for fold in kfolds.keys():\n",
    "                modelos_folds[fold] = classificador(CalibratedClassifierCV(Perceptron()), \n",
    "                                            n_estimators = n)\n",
    "            \n",
    "            modelos[str(n)] = modelos_folds\n",
    "    return modelos\n",
    "\n",
    "# função para realizar a validação cruzada dos classificadores \n",
    "def avalia_L_modelos(L_classificadores, X, y, kfolds):\n",
    "    \n",
    "    scores_L = dict.fromkeys(L_classificadores)\n",
    "    \n",
    "    for classificador in L_classificadores:\n",
    "        print('Qtd. classificadores: ', classificador)\n",
    "        scores_modelos = dict.fromkeys(kfolds.keys())\n",
    "        for fold, (train_idx, test_idx) in kfolds.items():\n",
    "            L_classificadores[classificador][fold].fit(X[train_idx], y[train_idx])\n",
    "            pred = L_classificadores[classificador][fold].predict(X[test_idx])\n",
    "            scores_modelos[fold] = {'acuracia': accuracy_score(y[test_idx], pred),\n",
    "                           'modelo': L_classificadores[classificador][fold]}\n",
    "            \n",
    "        scores_L[classificador] = scores_modelos\n",
    "    \n",
    "    return scores_L\n",
    "    "
   ]
  },
  {
   "cell_type": "code",
   "execution_count": null,
   "metadata": {},
   "outputs": [],
   "source": [
    "## Oracle\n",
    "## Função que recebe os modelos cv e retorna Oracle\n",
    "def avalia_oracle(classificador_cv, X, y, kfolds, random_subspace=False):\n",
    "    \n",
    "    classificador_oracles = dict.fromkeys(classificador_cv.keys())\n",
    "    \n",
    "    if random_subspace:\n",
    "        # realizando as previsões\n",
    "        X = pd.DataFrame(X)\n",
    "        modelos_n_class = dict.fromkeys(classificador_oracles.keys())\n",
    "        for n in classificador_oracles:\n",
    "            print('Qtd. classificadores: ', n)\n",
    "            modelos_folds_pred = dict.fromkeys(kfolds.keys()) \n",
    "            for fold, (_, test_id) in kfolds.items():\n",
    "                modelo_i, modelo_features_i = classificador_cv[n][fold]['modelo'].estimators_, classificador_cv[n][fold]['modelo'].estimators_features_\n",
    "                modelos_pred = []\n",
    "                for i, modelo in enumerate(modelo_i):\n",
    "                    pred_i = modelo.predict(X.iloc[test_id, modelo_features_i[i]])\n",
    "                    modelos_pred.append(pred_i)\n",
    "                    \n",
    "                modelos_folds_pred[fold] = modelos_pred\n",
    "            modelos_n_class[n] = modelos_folds_pred\n",
    "    \n",
    "        # calculando o oracles\n",
    "        for n in classificador_oracles:\n",
    "            print('Qtd. classificadores: ', n)\n",
    "            oracles_folds = []\n",
    "            for fold, (_, test_id) in kfolds.items():\n",
    "                oracles = []\n",
    "                for i in range(len(y[test_id])):\n",
    "                    oracle_hit = 0\n",
    "                    for j in range(len(modelos_n_class[n][fold])):\n",
    "                        if modelos_n_class[n][fold][j][i] == y[test_id][i]:\n",
    "                            oracle_hit = 1\n",
    "                        break\n",
    "                    oracles.append(oracle_hit)\n",
    "                oracle_score = np.sum(oracles)/len(oracles)\n",
    "                oracles_folds.append(oracle_score)\n",
    "            classificador_oracles[n] = oracles_folds\n",
    "        \n",
    "        return classificador_oracles\n",
    "    \n",
    "    else:\n",
    "        for n in classificador_oracles:\n",
    "            print('Qtd. classificadores: ', n)\n",
    "            oracles = []\n",
    "            for fold, (_, test_id) in kfolds.items():\n",
    "                oracle_i = oracle.Oracle(classificador_cv[n][fold]['modelo'])\n",
    "                oracle_score = oracle_i.score(X[test_id], y[test_id])\n",
    "                oracles.append(oracle_score)\n",
    "            classificador_oracles[n] = oracles\n",
    "\n",
    "\n",
    "        return classificador_oracles\n",
    "\n",
    "# criar função para criar gráfico dos oracles\n",
    "def cria_boxplot(classificador_oracles, nome_modelo, dataset):\n",
    "    df = pd.DataFrame(classificador_oracles)\n",
    "    display(df.describe())\n",
    "    df.boxplot(figsize=(10,8), grid=False)\n",
    "    plt.title(f'Boxplot: Oracle para o {nome_modelo} no conjunto de teste {dataset} data')\n",
    "    plt.xlabel('Quantidade de classificadores')\n",
    "    plt.ylabel('Acurácia')\n",
    "    plt.show();\n",
    "    "
   ]
  },
  {
   "cell_type": "markdown",
   "metadata": {},
   "source": [
    "## DATASET N. 1: Breast Cancer Wisconsin (Diagnostic) Data Set\n",
    "Data Set Information:\n",
    "\n",
    "Features are computed from a digitized image of a fine needle aspirate (FNA) of a breast mass. They describe characteristics of the cell nuclei present in the image. A few of the images can be found at [Web Link]\n",
    "\n",
    "Separating plane described above was obtained using Multisurface Method-Tree (MSM-T) [K. P. Bennett, \"Decision Tree Construction Via Linear Programming.\" Proceedings of the 4th Midwest Artificial Intelligence and Cognitive Science Society, pp. 97-101, 1992], a classification method which uses linear programming to construct a decision tree. Relevant features were selected using an exhaustive search in the space of 1-4 features and 1-3 separating planes.\n",
    "\n",
    "The actual linear program used to obtain the separating plane in the 3-dimensional space is that described in: [K. P. Bennett and O. L. Mangasarian: \"Robust Linear Programming Discrimination of Two Linearly Inseparable Sets\", Optimization Methods and Software 1, 1992, 23-34].\n",
    "\n",
    "This database is also available through the UW CS ftp server:\n",
    "ftp ftp.cs.wisc.edu\n",
    "cd math-prog/cpo-dataset/machine-learn/WDBC/\n",
    "\n",
    "\n",
    "Attribute Information:\n",
    "\n",
    "1) ID number\n",
    "2) Diagnosis (M = malignant, B = benign)\n",
    "3-32)\n",
    "\n",
    "Ten real-valued features are computed for each cell nucleus:\n",
    "\n",
    "a) radius (mean of distances from center to points on the perimeter)\n",
    "b) texture (standard deviation of gray-scale values)\n",
    "c) perimeter\n",
    "d) area\n",
    "e) smoothness (local variation in radius lengths)\n",
    "f) compactness (perimeter^2 / area - 1.0)\n",
    "g) concavity (severity of concave portions of the contour)\n",
    "h) concave points (number of concave portions of the contour)\n",
    "i) symmetry\n",
    "j) fractal dimension (\"coastline approximation\" - 1)"
   ]
  },
  {
   "cell_type": "code",
   "execution_count": null,
   "metadata": {},
   "outputs": [],
   "source": [
    "## importando Wine data set\n",
    "wdbc = pd.read_csv(\"dados/wdbc.data\", header=None, index_col=0)"
   ]
  },
  {
   "cell_type": "code",
   "execution_count": null,
   "metadata": {},
   "outputs": [],
   "source": [
    "# separando em y e X\n",
    "y = wdbc[1]\n",
    "X = wdbc.drop(columns=1)\n",
    "\n",
    "# Scale the variables to have 0 mean and unit variance\n",
    "scalar = StandardScaler()\n",
    "X_norm = scalar.fit_transform(X)\n",
    "# y_cat = pd.Categorical(y, categories=['M', 'B'])\n",
    "y_cat_enc = LabelEncoder().fit_transform(y)\n",
    "\n",
    "# criando os 5-folds\n",
    "wdbc_kfolds = cria_folds(X_norm, y_cat_enc)\n",
    "# salvando\n",
    "with open('dados/wdbc_kfolds.pickle', 'wb') as handle:\n",
    "    pickle.dump(wdbc_kfolds, handle, protocol=pickle.HIGHEST_PROTOCOL)\n",
    "\n",
    "# quantidade de classificadores\n",
    "n_classificadores = np.arange(10, 110, 10)"
   ]
  },
  {
   "cell_type": "markdown",
   "metadata": {},
   "source": [
    "### RLO"
   ]
  },
  {
   "cell_type": "code",
   "execution_count": null,
   "metadata": {},
   "outputs": [],
   "source": [
    "## treinamento e teste para validação cruzada para RLO\n",
    "wdbc_rlo_classificadores_resultados_treinamento, wdbc_rlo_classificadores_resultados_teste = RLO_L_modelos(Perceptron(), \n",
    "                                                                                                           n_classificadores, \n",
    "                                                                                                           X_norm, \n",
    "                                                                                                           y_cat_enc, \n",
    "                                                                                                           wdbc_kfolds)\n",
    "\n",
    "print('Iniciar avaliação dos Oracles')\n",
    "## avaliando os Oracles\n",
    "wdbc_rlo_oracles = RLO_avalia_oracles(n_classificadores, wdbc_rlo_classificadores_resultados_teste)"
   ]
  },
  {
   "cell_type": "code",
   "execution_count": null,
   "metadata": {},
   "outputs": [],
   "source": [
    "## avlaliando o Oracle\n",
    "cria_boxplot(wdbc_rlo_oracles, 'RLO', 'Breast Cancer Wisconsin')"
   ]
  },
  {
   "cell_type": "markdown",
   "metadata": {},
   "source": [
    "### Bagging"
   ]
  },
  {
   "cell_type": "code",
   "execution_count": null,
   "metadata": {},
   "outputs": [],
   "source": [
    "wdbc_bagging_L_modelos = L_modelos(BaggingClassifier, wdbc_kfolds)\n",
    "print('Iniciar avaliação da cv')\n",
    "wdbc_bagging_classifier_cv = avalia_L_modelos(wdbc_bagging_L_modelos, X_norm, y_cat_enc, wdbc_kfolds)\n",
    "print('Iniciar avaliação dos Oracles')\n",
    "wdbc_bagging_oracles = avalia_oracle(wdbc_bagging_classifier_cv, X_norm, y_cat_enc, wdbc_kfolds)"
   ]
  },
  {
   "cell_type": "code",
   "execution_count": null,
   "metadata": {},
   "outputs": [],
   "source": [
    "# criar estatísticas e boxplot\n",
    "cria_boxplot(wdbc_bagging_oracles, nome_modelo='Bagging', dataset='Breast Cancer Wisconsin (diagnostic)')"
   ]
  },
  {
   "cell_type": "markdown",
   "metadata": {},
   "source": [
    "### Adaboost"
   ]
  },
  {
   "cell_type": "code",
   "execution_count": null,
   "metadata": {},
   "outputs": [],
   "source": [
    "wdbc_adaboost_L_modelos = L_modelos(AdaBoostClassifier, wdbc_kfolds)\n",
    "print('Iniciar avaliação da cv')\n",
    "wdbc_adaboost_classifier_cv = avalia_L_modelos(wdbc_adaboost_L_modelos, X_norm, y_cat_enc, wdbc_kfolds)\n",
    "print('Iniciar avaliação dos Oracles')\n",
    "wdbc_adaboost_oracles = avalia_oracle(wdbc_adaboost_classifier_cv, X_norm, y_cat_enc, wdbc_kfolds)"
   ]
  },
  {
   "cell_type": "code",
   "execution_count": null,
   "metadata": {},
   "outputs": [],
   "source": [
    "# criar estatísticas e boxplot\n",
    "cria_boxplot(wdbc_adaboost_oracles, nome_modelo='Adaboost', dataset='Breast Cancer Wisconsin (diagnostic)')"
   ]
  },
  {
   "cell_type": "markdown",
   "metadata": {},
   "source": [
    "### Random Subspace"
   ]
  },
  {
   "cell_type": "code",
   "execution_count": null,
   "metadata": {},
   "outputs": [],
   "source": [
    "wdbc_random_subspace_L_modelos = L_modelos(BaggingClassifier, wdbc_kfolds, True)\n",
    "print('Iniciar avaliação da cv')\n",
    "wdbc_random_subspace_classifier_cv = avalia_L_modelos(wdbc_random_subspace_L_modelos, X_norm, y_cat_enc, wdbc_kfolds)\n",
    "print('Iniciar avaliação dos Oracles')\n",
    "wdbc_random_subspace_oracles = avalia_oracle(wdbc_random_subspace_classifier_cv, X_norm, y_cat_enc, wdbc_kfolds, True)"
   ]
  },
  {
   "cell_type": "code",
   "execution_count": null,
   "metadata": {},
   "outputs": [],
   "source": [
    "cria_boxplot(wdbc_random_subspace_oracles, nome_modelo='Random Subspace', dataset=' Breast Cancer Wisconsin (diagnostic)')"
   ]
  },
  {
   "cell_type": "markdown",
   "metadata": {},
   "source": [
    "## DATASET N. 2: Banknote authentication Data Set\n",
    "\n",
    "Data Set Information:\n",
    "\n",
    "Data were extracted from images that were taken from genuine and forged banknote-like specimens. For digitization, an industrial camera usually used for print inspection was used. The final images have 400x 400 pixels. Due to the object lens and distance to the investigated object gray-scale pictures with a resolution of about 660 dpi were gained. Wavelet Transform tool were used to extract features from images.\n",
    "\n",
    "\n",
    "Attribute Information:\n",
    "\n",
    "1. variance of Wavelet Transformed image (continuous)\n",
    "2. skewness of Wavelet Transformed image (continuous)\n",
    "3. curtosis of Wavelet Transformed image (continuous)\n",
    "4. entropy of image (continuous)\n",
    "5. class (integer)\n"
   ]
  },
  {
   "cell_type": "code",
   "execution_count": null,
   "metadata": {},
   "outputs": [],
   "source": [
    "## importação dos dados\n",
    "bank = pd.read_csv('dados/data_banknote_authentication.txt', header=None)\n",
    "\n",
    "bank.head()"
   ]
  },
  {
   "cell_type": "code",
   "execution_count": null,
   "metadata": {},
   "outputs": [],
   "source": [
    "# separando em y e X\n",
    "y = bank.iloc[:, -1].values\n",
    "X = bank.iloc[:, :-1].values\n",
    "\n",
    "# Scale the variables to have 0 mean and unit variance\n",
    "scalar = StandardScaler()\n",
    "X_norm = scalar.fit_transform(X)\n",
    "\n",
    "# criando os 5-folds\n",
    "bank_kfolds = cria_folds(X_norm, y)\n",
    "# salvar os folds em pickle\n",
    "with open('dados/bank_kfolds.pickle', 'wb') as handle:\n",
    "    pickle.dump(bank_kfolds, handle, protocol=pickle.HIGHEST_PROTOCOL)"
   ]
  },
  {
   "cell_type": "markdown",
   "metadata": {},
   "source": [
    "### RLO"
   ]
  },
  {
   "cell_type": "code",
   "execution_count": null,
   "metadata": {},
   "outputs": [],
   "source": [
    "## treinamento e teste para validação cruzada para RLO\n",
    "bank_rlo_classificadores_resultados_treinamento, bank_rlo_classificadores_resultados_teste = RLO_L_modelos(Perceptron(), \n",
    "                                                                                                           n_classificadores, \n",
    "                                                                                                           X_norm, \n",
    "                                                                                                           y, \n",
    "                                                                                                           bank_kfolds)\n",
    "\n",
    "print('Iniciar avaliação dos Oracles')\n",
    "## avaliando os Oracles\n",
    "bank_rlo_oracles = RLO_avalia_oracles(n_classificadores, bank_rlo_classificadores_resultados_teste)"
   ]
  },
  {
   "cell_type": "code",
   "execution_count": null,
   "metadata": {},
   "outputs": [],
   "source": [
    "## avlaliando o Oracle\n",
    "cria_boxplot(bank_rlo_oracles, 'RLO', 'Bank Data')"
   ]
  },
  {
   "cell_type": "markdown",
   "metadata": {},
   "source": [
    "### Bagging"
   ]
  },
  {
   "cell_type": "code",
   "execution_count": null,
   "metadata": {},
   "outputs": [],
   "source": [
    "bank_bagging_L_modelos = L_modelos(BaggingClassifier, bank_kfolds)\n",
    "print('Iniciar avaliação da cv')\n",
    "bank_bagging_classifier_cv = avalia_L_modelos(bank_bagging_L_modelos, X_norm, y, bank_kfolds)\n",
    "print('Iniciar avaliação dos Oracles')\n",
    "bank_bagging_oracles = avalia_oracle(bank_bagging_classifier_cv, X_norm, y, bank_kfolds)"
   ]
  },
  {
   "cell_type": "code",
   "execution_count": null,
   "metadata": {},
   "outputs": [],
   "source": [
    "# criar estatísticas e boxplot\n",
    "cria_boxplot(bank_bagging_oracles, nome_modelo='Bagging', dataset='Banknote authentication')"
   ]
  },
  {
   "cell_type": "markdown",
   "metadata": {},
   "source": [
    "### Adaboost"
   ]
  },
  {
   "cell_type": "code",
   "execution_count": null,
   "metadata": {},
   "outputs": [],
   "source": [
    "bank_adaboost_L_modelos = L_modelos(AdaBoostClassifier, bank_kfolds)\n",
    "print('Iniciar avaliação da cv')\n",
    "bank_adaboost_classifier_cv = avalia_L_modelos(bank_adaboost_L_modelos, X_norm, y, bank_kfolds)\n",
    "print('Iniciar avaliação dos Oracles')\n",
    "bank_adaboost_oracles = avalia_oracle(bank_adaboost_classifier_cv, X_norm, y, bank_kfolds)"
   ]
  },
  {
   "cell_type": "code",
   "execution_count": null,
   "metadata": {},
   "outputs": [],
   "source": [
    "# criar estatísticas e boxplot\n",
    "cria_boxplot(bank_adaboost_oracles, nome_modelo='Adaboost', dataset='Banknote authentication')"
   ]
  },
  {
   "cell_type": "markdown",
   "metadata": {},
   "source": [
    "### Random Subspace"
   ]
  },
  {
   "cell_type": "code",
   "execution_count": null,
   "metadata": {},
   "outputs": [],
   "source": [
    "bank_random_subspace_L_modelos = L_modelos(BaggingClassifier, bank_kfolds, True)\n",
    "print('Iniciar avaliação da cv')\n",
    "bank_random_subspace_classifier_cv = avalia_L_modelos(bank_random_subspace_L_modelos, X_norm, y, bank_kfolds)\n",
    "print('Iniciar avaliação dos Oracles')\n",
    "bank_random_subspace_oracles = avalia_oracle(bank_random_subspace_classifier_cv, X_norm, y, bank_kfolds, True)"
   ]
  },
  {
   "cell_type": "code",
   "execution_count": null,
   "metadata": {},
   "outputs": [],
   "source": [
    "cria_boxplot(bank_random_subspace_oracles, nome_modelo='Random Subspace', dataset='Banknote authentication')"
   ]
  },
  {
   "cell_type": "markdown",
   "metadata": {},
   "source": [
    "## DATASET N.3: Ionosphere Data Set\n",
    "\n",
    "This radar data was collected by a system in Goose Bay, Labrador. This system consists of a phased array of 16 high-frequency antennas with a total transmitted power on the order of 6.4 kilowatts. See the paper for more details. The targets were free electrons in the ionosphere. \"Good\" radar returns are those showing evidence of some type of structure in the ionosphere. \"Bad\" returns are those that do not; their signals pass through the ionosphere.\n",
    "\n",
    "Received signals were processed using an autocorrelation function whose arguments are the time of a pulse and the pulse number. There were 17 pulse numbers for the Goose Bay system. Instances in this databse are described by 2 attributes per pulse number, corresponding to the complex values returned by the function resulting from the complex electromagnetic signal.\n",
    "\n",
    "\n",
    "Attribute Information:\n",
    "\n",
    "-- All 34 are continuous\n",
    "-- The 35th attribute is either \"good\" or \"bad\" according to the definition summarized above. This is a binary classification task.\n",
    "\n"
   ]
  },
  {
   "cell_type": "code",
   "execution_count": null,
   "metadata": {},
   "outputs": [],
   "source": [
    "ion = pd.read_csv('dados/ionosphere.data', header=None)"
   ]
  },
  {
   "cell_type": "code",
   "execution_count": null,
   "metadata": {},
   "outputs": [],
   "source": [
    "ion.head()"
   ]
  },
  {
   "cell_type": "code",
   "execution_count": null,
   "metadata": {},
   "outputs": [],
   "source": [
    "# separando em y e X\n",
    "y = ion.iloc[:, -1].values\n",
    "X = ion.iloc[:, 2:-1].values\n",
    "\n",
    "# Encoding Categorical data\n",
    "encoder = LabelEncoder()\n",
    "y_cat = encoder.fit_transform(y)\n",
    "\n",
    "# criando os 5-folds\n",
    "ion_kfolds = cria_folds(X, y_cat)\n",
    "# salvar os folds em pickle\n",
    "with open('dados/ionsphere_kfolds.pickle', 'wb') as handle:\n",
    "    pickle.dump(ion_kfolds, handle, protocol=pickle.HIGHEST_PROTOCOL)"
   ]
  },
  {
   "cell_type": "markdown",
   "metadata": {},
   "source": [
    "### RLO"
   ]
  },
  {
   "cell_type": "code",
   "execution_count": null,
   "metadata": {},
   "outputs": [],
   "source": [
    "## treinamento e teste para validação cruzada para RLO\n",
    "ion_rlo_classificadores_resultados_treinamento, ion_rlo_classificadores_resultados_teste = RLO_L_modelos(Perceptron(), \n",
    "                                                                                                           n_classificadores, \n",
    "                                                                                                           X, \n",
    "                                                                                                           y_cat, \n",
    "                                                                                                           ion_kfolds)\n",
    "\n",
    "print('Iniciar avaliação dos Oracles')\n",
    "## avaliando os Oracles\n",
    "ion_rlo_oracles = RLO_avalia_oracles(n_classificadores, ion_rlo_classificadores_resultados_teste)"
   ]
  },
  {
   "cell_type": "code",
   "execution_count": null,
   "metadata": {},
   "outputs": [],
   "source": [
    "## avlaliando o Oracle\n",
    "cria_boxplot(ion_rlo_oracles, 'RLO', 'Ionsphere')"
   ]
  },
  {
   "cell_type": "markdown",
   "metadata": {},
   "source": [
    "### Bagging"
   ]
  },
  {
   "cell_type": "code",
   "execution_count": null,
   "metadata": {},
   "outputs": [],
   "source": [
    "ion_bagging_L_modelos = L_modelos(BaggingClassifier, ion_kfolds)\n",
    "print('Iniciar avaliação da cv')\n",
    "ion_bagging_classifier_cv = avalia_L_modelos(ion_bagging_L_modelos, X, y_cat, ion_kfolds)\n",
    "print('Iniciar avaliação dos Oracles')\n",
    "ion_bagging_oracles = avalia_oracle(ion_bagging_classifier_cv, X, y_cat, ion_kfolds)"
   ]
  },
  {
   "cell_type": "code",
   "execution_count": null,
   "metadata": {},
   "outputs": [],
   "source": [
    "# criar estatísticas e boxplot\n",
    "cria_boxplot(ion_bagging_oracles, nome_modelo='Bagging', dataset='Ionsphere')"
   ]
  },
  {
   "cell_type": "markdown",
   "metadata": {},
   "source": [
    "### Adaboost"
   ]
  },
  {
   "cell_type": "code",
   "execution_count": null,
   "metadata": {},
   "outputs": [],
   "source": [
    "ion_adaboost_L_modelos = L_modelos(AdaBoostClassifier, ion_kfolds)\n",
    "print('Iniciar avaliação da cv')\n",
    "ion_adaboost_classifier_cv = avalia_L_modelos(ion_adaboost_L_modelos, X, y_cat, ion_kfolds)\n",
    "print('Iniciar avaliação dos Oracles')\n",
    "ion_adaboost_oracles = avalia_oracle(ion_adaboost_classifier_cv, X, y_cat, ion_kfolds)"
   ]
  },
  {
   "cell_type": "code",
   "execution_count": null,
   "metadata": {},
   "outputs": [],
   "source": [
    "# criar estatísticas e boxplot\n",
    "cria_boxplot(ion_adaboost_oracles, nome_modelo='Adaboost', dataset='Ionsphere')"
   ]
  },
  {
   "cell_type": "markdown",
   "metadata": {},
   "source": [
    "### Random Subspace"
   ]
  },
  {
   "cell_type": "code",
   "execution_count": null,
   "metadata": {},
   "outputs": [],
   "source": [
    "ion_random_subspace_L_modelos = L_modelos(BaggingClassifier, ion_kfolds, True)\n",
    "print('Iniciar avaliação da cv')\n",
    "ion_random_subspace_classifier_cv = avalia_L_modelos(ion_random_subspace_L_modelos, X, y_cat, ion_kfolds)\n",
    "print('Iniciar avaliação dos Oracles')\n",
    "ion_random_subspace_oracles = avalia_oracle(ion_random_subspace_classifier_cv, X, y_cat, ion_kfolds, True)"
   ]
  },
  {
   "cell_type": "code",
   "execution_count": null,
   "metadata": {},
   "outputs": [],
   "source": [
    "cria_boxplot(ion_random_subspace_oracles, nome_modelo='Random Subspace', dataset='Ionsphere')"
   ]
  },
  {
   "cell_type": "markdown",
   "metadata": {},
   "source": [
    "## DATASET N.4: Climate Model Simulation Crashes Data Set\n",
    "\n",
    "Data Set Information:\n",
    "\n",
    "This dataset contains records of simulation crashes encountered during climate model uncertainty quantification (UQ) ensembles.\n",
    "\n",
    "Ensemble members were constructed using a Latin hypercube method in LLNL's UQ Pipeline software system to sample the uncertainties of 18 model parameters within the Parallel Ocean Program (POP2) component of the Community Climate System Model (CCSM4).\n",
    "\n",
    "Three separate Latin hypercube ensembles were conducted, each containing 180 ensemble members. 46 out of the 540 simulations failed for numerical reasons at combinations of parameter values.\n",
    "\n",
    "The goal is to use classification to predict simulation outcomes (fail or succeed) from input parameter values, and to use sensitivity analysis and feature selection to determine the causes of simulation crashes.\n",
    "\n",
    "Further details about the data and methods are given in the publication 'Failure Analysis of Parameter-Induced Simulation Crashes in Climate Models,' Geoscientific Model Development ([Web Link]).\n",
    "\n",
    "\n",
    "Attribute Information:\n",
    "\n",
    "The goal is to predict climate model simulation outcomes (column 21, fail or succeed) given scaled values of climate model input parameters (columns 3-20).\n",
    "\n",
    "Column 1: Latin hypercube study ID (study 1 to study 3)\n",
    "\n",
    "Column 2: simulation ID (run 1 to run 180)\n",
    "\n",
    "Columns 3-20: values of 18 climate model parameters scaled in the interval [0, 1]\n",
    "\n",
    "Column 21: simulation outcome (0 = failure, 1 = success)\n",
    "\n"
   ]
  },
  {
   "cell_type": "code",
   "execution_count": null,
   "metadata": {},
   "outputs": [],
   "source": [
    "clima = pd.read_csv('dados/pop_failures.dat', delimiter=\"\\s+\")\n",
    "\n",
    "clima.head()"
   ]
  },
  {
   "cell_type": "code",
   "execution_count": null,
   "metadata": {},
   "outputs": [],
   "source": [
    "# separando em y e X\n",
    "y = clima.iloc[:, -1].values\n",
    "X = clima.iloc[:, 2:-1].values\n",
    "\n",
    "# criando os 5-folds\n",
    "clima_kfolds = cria_folds(X, y)\n",
    "# salvar os folds em pickle\n",
    "with open('dados/clima_kfolds.pickle', 'wb') as handle:\n",
    "    pickle.dump(clima_kfolds, handle, protocol=pickle.HIGHEST_PROTOCOL)"
   ]
  },
  {
   "cell_type": "markdown",
   "metadata": {},
   "source": [
    "### RLO"
   ]
  },
  {
   "cell_type": "code",
   "execution_count": null,
   "metadata": {},
   "outputs": [],
   "source": [
    "## treinamento e teste para validação cruzada para RLO\n",
    "clima_rlo_classificadores_resultados_treinamento, clima_rlo_classificadores_resultados_teste = RLO_L_modelos(Perceptron(), \n",
    "                                                                                                           n_classificadores, \n",
    "                                                                                                           X, \n",
    "                                                                                                           y, \n",
    "                                                                                                           clima_kfolds)\n",
    "\n",
    "print('Iniciar avaliação dos Oracles')\n",
    "## avaliando os Oracles\n",
    "clima_rlo_oracles = RLO_avalia_oracles(n_classificadores, clima_rlo_classificadores_resultados_teste)"
   ]
  },
  {
   "cell_type": "code",
   "execution_count": null,
   "metadata": {},
   "outputs": [],
   "source": [
    "## avlaliando o Oracle\n",
    "cria_boxplot(clima_rlo_oracles, 'RLO', 'Climate Model Simulation Crashes')"
   ]
  },
  {
   "cell_type": "markdown",
   "metadata": {},
   "source": [
    "### Bagging"
   ]
  },
  {
   "cell_type": "code",
   "execution_count": null,
   "metadata": {},
   "outputs": [],
   "source": [
    "clima_bagging_L_modelos = L_modelos(BaggingClassifier, clima_kfolds)\n",
    "print('Iniciar avaliação da cv')\n",
    "clima_bagging_classifier_cv = avalia_L_modelos(clima_bagging_L_modelos, X, y, clima_kfolds)\n",
    "print('Iniciar avaliação dos Oracles')\n",
    "clima_bagging_oracles = avalia_oracle(clima_bagging_classifier_cv, X, y, clima_kfolds)"
   ]
  },
  {
   "cell_type": "code",
   "execution_count": null,
   "metadata": {},
   "outputs": [],
   "source": [
    "# criar estatísticas e boxplot\n",
    "cria_boxplot(clima_bagging_oracles, nome_modelo='Bagging', dataset='Climate Model Simulation Crashes')"
   ]
  },
  {
   "cell_type": "markdown",
   "metadata": {},
   "source": [
    "### Adaboost"
   ]
  },
  {
   "cell_type": "code",
   "execution_count": null,
   "metadata": {},
   "outputs": [],
   "source": [
    "clima_adaboost_L_modelos = L_modelos(AdaBoostClassifier, clima_kfolds)\n",
    "print('Iniciar avaliação da cv')\n",
    "clima_adaboost_classifier_cv = avalia_L_modelos(clima_adaboost_L_modelos, X, y, clima_kfolds)\n",
    "print('Iniciar avaliação dos Oracles')\n",
    "clima_adaboost_oracles = avalia_oracle(clima_adaboost_classifier_cv, X, y, clima_kfolds)"
   ]
  },
  {
   "cell_type": "code",
   "execution_count": null,
   "metadata": {},
   "outputs": [],
   "source": [
    "# criar estatísticas e boxplot\n",
    "cria_boxplot(clima_adaboost_oracles, nome_modelo='Adaboost', dataset='Climate Model Simulation Crashes')"
   ]
  },
  {
   "cell_type": "markdown",
   "metadata": {},
   "source": [
    "### Random Subspace"
   ]
  },
  {
   "cell_type": "code",
   "execution_count": null,
   "metadata": {},
   "outputs": [],
   "source": [
    "clima_random_subspace_L_modelos = L_modelos(BaggingClassifier, clima_kfolds, True)\n",
    "print('Iniciar avaliação da cv')\n",
    "clima_random_subspace_classifier_cv = avalia_L_modelos(clima_random_subspace_L_modelos, X, y, clima_kfolds)\n",
    "print('Iniciar avaliação dos Oracles')\n",
    "clima_random_subspace_oracles = avalia_oracle(clima_random_subspace_classifier_cv, X, y, clima_kfolds, True)"
   ]
  },
  {
   "cell_type": "code",
   "execution_count": null,
   "metadata": {},
   "outputs": [],
   "source": [
    "cria_boxplot(clima_random_subspace_oracles, nome_modelo='Random Subspace', dataset='Climate Model Simulation Crashes')"
   ]
  },
  {
   "cell_type": "markdown",
   "metadata": {},
   "source": [
    "## DATASET N. 5: Fertility Data Set\n",
    "\n",
    "Attribute Information:\n",
    "\n",
    "Season in which the analysis was performed. 1) winter, 2) spring, 3) Summer, 4) fall. (-1, -0.33, 0.33, 1)\n",
    "\n",
    "Age at the time of analysis. 18-36 (0, 1)\n",
    "\n",
    "Childish diseases (ie , chicken pox, measles, mumps, polio) 1) yes, 2) no. (0, 1)\n",
    "\n",
    "Accident or serious trauma 1) yes, 2) no. (0, 1)\n",
    "\n",
    "Surgical intervention 1) yes, 2) no. (0, 1)\n",
    "\n",
    "High fevers in the last year 1) less than three months ago, 2) more than three months ago, 3) no. (-1, 0, 1)\n",
    "\n",
    "Frequency of alcohol consumption 1) several times a day, 2) every day, 3) several times a week, 4) once a week, 5) hardly ever or never (0, 1)\n",
    "\n",
    "Smoking habit 1) never, 2) occasional 3) daily. (-1, 0, 1)\n",
    "\n",
    "Number of hours spent sitting per day ene-16 (0, 1)\n",
    "\n",
    "Output: Diagnosis normal (N), altered (O)"
   ]
  },
  {
   "cell_type": "code",
   "execution_count": null,
   "metadata": {},
   "outputs": [],
   "source": [
    "fert = pd.read_csv('dados/fertility_Diagnosis.txt', header=None)\n",
    "fert.head()"
   ]
  },
  {
   "cell_type": "code",
   "execution_count": null,
   "metadata": {},
   "outputs": [],
   "source": [
    "# separando em y e X\n",
    "y = fert.iloc[:, -1].values\n",
    "X = fert.iloc[:, 2:-1].values\n",
    "\n",
    "# Encoding Categorical data\n",
    "encoder = LabelEncoder()\n",
    "y_cat = encoder.fit_transform(y)\n",
    "\n",
    "# criando os 5-folds\n",
    "fert_kfolds = cria_folds(X, y_cat)\n",
    "# salvar os folds em pickle\n",
    "with open('dados/fertility_kfolds.pickle', 'wb') as handle:\n",
    "    pickle.dump(fert_kfolds, handle, protocol=pickle.HIGHEST_PROTOCOL)"
   ]
  },
  {
   "cell_type": "markdown",
   "metadata": {},
   "source": [
    "### RLO"
   ]
  },
  {
   "cell_type": "code",
   "execution_count": null,
   "metadata": {},
   "outputs": [],
   "source": [
    "## treinamento e teste para validação cruzada para RLO\n",
    "fert_rlo_classificadores_resultados_treinamento, fert_rlo_classificadores_resultados_teste = RLO_L_modelos(Perceptron(), \n",
    "                                                                                                           n_classificadores, \n",
    "                                                                                                           X, \n",
    "                                                                                                           y_cat, \n",
    "                                                                                                           fert_kfolds)\n",
    "\n",
    "print('Iniciar avaliação dos Oracles')\n",
    "## avaliando os Oracles\n",
    "fert_rlo_oracles = RLO_avalia_oracles(n_classificadores, fert_rlo_classificadores_resultados_teste)"
   ]
  },
  {
   "cell_type": "code",
   "execution_count": null,
   "metadata": {},
   "outputs": [],
   "source": [
    "## avlaliando o Oracle\n",
    "cria_boxplot(clima_rlo_oracles, 'RLO', 'Fertility Data Set')"
   ]
  },
  {
   "cell_type": "markdown",
   "metadata": {},
   "source": [
    "### Bagging"
   ]
  },
  {
   "cell_type": "code",
   "execution_count": null,
   "metadata": {},
   "outputs": [],
   "source": [
    "fert_bagging_L_modelos = L_modelos(BaggingClassifier, fert_kfolds)\n",
    "print('Iniciar avaliação da cv')\n",
    "fert_bagging_classifier_cv = avalia_L_modelos(fert_bagging_L_modelos, X, y_cat, fert_kfolds)\n",
    "print('Iniciar avaliação dos Oracles')\n",
    "fert_bagging_oracles = avalia_oracle(fert_bagging_classifier_cv, X, y_cat, fert_kfolds)"
   ]
  },
  {
   "cell_type": "code",
   "execution_count": null,
   "metadata": {},
   "outputs": [],
   "source": [
    "# criar estatísticas e boxplot\n",
    "cria_boxplot(fert_bagging_oracles, nome_modelo='Bagging', dataset='Fertility Data Set')"
   ]
  },
  {
   "cell_type": "markdown",
   "metadata": {},
   "source": [
    "### Adaboost"
   ]
  },
  {
   "cell_type": "code",
   "execution_count": null,
   "metadata": {},
   "outputs": [],
   "source": [
    "fert_adaboost_L_modelos = L_modelos(AdaBoostClassifier, fert_kfolds)\n",
    "print('Iniciar avaliação da cv')\n",
    "fert_adaboost_classifier_cv = avalia_L_modelos(fert_adaboost_L_modelos, X, y_cat, fert_kfolds)\n",
    "print('Iniciar avaliação dos Oracles')\n",
    "fert_adaboost_oracles = avalia_oracle(fert_adaboost_classifier_cv, X, y_cat, fert_kfolds)"
   ]
  },
  {
   "cell_type": "code",
   "execution_count": null,
   "metadata": {},
   "outputs": [],
   "source": [
    "# criar estatísticas e boxplot\n",
    "cria_boxplot(fert_adaboost_oracles, nome_modelo='Adaboost', dataset='Fertility Data Set')"
   ]
  },
  {
   "cell_type": "markdown",
   "metadata": {},
   "source": [
    "### Random Subspace"
   ]
  },
  {
   "cell_type": "code",
   "execution_count": null,
   "metadata": {},
   "outputs": [],
   "source": [
    "fert_random_subspace_L_modelos = L_modelos(BaggingClassifier, fert_kfolds, True)\n",
    "print('Iniciar avaliação da cv')\n",
    "fert_random_subspace_classifier_cv = avalia_L_modelos(fert_random_subspace_L_modelos, X, y_cat, fert_kfolds)\n",
    "print('Iniciar avaliação dos Oracles')\n",
    "fert_random_subspace_oracles = avalia_oracle(fert_random_subspace_classifier_cv, X, y_cat, fert_kfolds, True)"
   ]
  },
  {
   "cell_type": "code",
   "execution_count": null,
   "metadata": {},
   "outputs": [],
   "source": [
    "cria_boxplot(fert_random_subspace_oracles, nome_modelo='Random Subspace', dataset='Fertility Data Set')"
   ]
  },
  {
   "cell_type": "markdown",
   "metadata": {},
   "source": [
    "\n",
    "# Questão 2:\n",
    "Use as mesma bases de dados e os mesmos folds da questão anterior e, para cada base: \n",
    "- use o **SGH** para gerar o pool de classificadores no conjunto de treinamento; \n",
    "\n",
    "- calcule o Oracle do pool no conjunto de teste; \n",
    "\n",
    "- verifique quantas instâncias por classe foram incorretamente classificadas; \n",
    "\n",
    "- verifique quantos hiperplanos por classe foram gerados. \n",
    "\n",
    "Analise os resultados coletados. "
   ]
  },
  {
   "cell_type": "code",
   "execution_count": null,
   "metadata": {},
   "outputs": [],
   "source": [
    "import sgh"
   ]
  },
  {
   "cell_type": "markdown",
   "metadata": {},
   "source": [
    "### Função para criar os SGH e para Avaliar o Oracle"
   ]
  },
  {
   "cell_type": "code",
   "execution_count": null,
   "metadata": {},
   "outputs": [],
   "source": [
    "def sgh_modelos(kfolds):    \n",
    "    classificadores_folds = dict.fromkeys(kfolds.keys())\n",
    "    for fold in kfolds:\n",
    "        classificadores_folds[fold] = sgh.SGH(base_estimator = Perceptron())\n",
    "\n",
    "    return classificadores_folds\n",
    "\n",
    "# função para realizar a validação cruzada dos classificadores \n",
    "def avalia_sgh_modelos(classificadores_folds, X, y, kfolds):\n",
    "    \n",
    "    predictions = []\n",
    "    oracles = []\n",
    "    qtd_estimadores = []\n",
    "    \n",
    "    for fold, (train_idx, test_idx) in kfolds.items():\n",
    "        \n",
    "        # treinamento\n",
    "        classificadores_folds[fold].fit(X[train_idx], y[train_idx])\n",
    "        qtd_estimadores.append(classificadores_folds[fold].n_estimators)\n",
    "        \n",
    "        # predictions\n",
    "        predictions.append(classificadores_folds[fold].predict(X))\n",
    "        \n",
    "        # Oracle\n",
    "        oracle_i = oracle.Oracle(classificadores_folds[fold]) \n",
    "        oracle_score = oracle_i.score(X[test_idx], y[test_idx])\n",
    "        oracles.append(oracle_score)\n",
    "        \n",
    "    return qtd_estimadores, predictions, oracles\n",
    "    "
   ]
  },
  {
   "cell_type": "markdown",
   "metadata": {},
   "source": [
    "### 1. Breast Cancer Wisconsin (Diagnostic) Data Set"
   ]
  },
  {
   "cell_type": "code",
   "execution_count": null,
   "metadata": {},
   "outputs": [],
   "source": [
    "## importando Wine data set\n",
    "wdbc = pd.read_csv(\"dados/wdbc.data\", header=None, index_col=0)\n",
    "\n",
    "# separando em y e X\n",
    "y = wdbc[1]\n",
    "X = wdbc.drop(columns=1)\n",
    "\n",
    "# Scale the variables to have 0 mean and unit variance\n",
    "scalar = StandardScaler()\n",
    "X_norm = scalar.fit_transform(X)\n",
    "y_cat_enc = LabelEncoder().fit_transform(y)\n",
    "\n",
    "# os kfolds já foram cirados em wdbc_kfolds"
   ]
  },
  {
   "cell_type": "code",
   "execution_count": null,
   "metadata": {},
   "outputs": [],
   "source": [
    "wdbc_sgh_classificadores = sgh_modelos(wdbc_kfolds)\n",
    "wdbc_sgh_qtd_classificadores, wdbc_sgh_predictions, wdbc_sgh_oracles_score = avalia_sgh_modelos(wdbc_sgh_classificadores, X_norm, y_cat_enc, wdbc_kfolds)"
   ]
  },
  {
   "cell_type": "code",
   "execution_count": null,
   "metadata": {},
   "outputs": [],
   "source": []
  },
  {
   "cell_type": "code",
   "execution_count": null,
   "metadata": {},
   "outputs": [],
   "source": [
    "sgh_classificadores = sgh_modelos(fert_kfolds)\n",
    "qtd_estimadores, oracles_score = avalia_sgh_modelos(sgh_classificadores, X, y_cat, fert_kfolds)"
   ]
  },
  {
   "cell_type": "code",
   "execution_count": null,
   "metadata": {},
   "outputs": [],
   "source": [
    "print(f'Qtd. de estimadores:   {qtd_estimadores}\\n')\n",
    "print(f'Oracle score por fold: {oracles_score}')"
   ]
  },
  {
   "cell_type": "code",
   "execution_count": null,
   "metadata": {},
   "outputs": [],
   "source": [
    "print(f'Média:         {np.mean(oracles_score)}')\n",
    "print(f'Desvio padrão: {np.std(oracles_score, ddof=1)} ')"
   ]
  },
  {
   "cell_type": "code",
   "execution_count": null,
   "metadata": {},
   "outputs": [],
   "source": [
    "## Verificar quantas instâncias foram corretamente classificadas \n",
    "sgh_classificadores"
   ]
  },
  {
   "cell_type": "code",
   "execution_count": null,
   "metadata": {},
   "outputs": [],
   "source": []
  }
 ],
 "metadata": {
  "kernelspec": {
   "display_name": "Python 3",
   "language": "python",
   "name": "python3"
  },
  "language_info": {
   "codemirror_mode": {
    "name": "ipython",
    "version": 3
   },
   "file_extension": ".py",
   "mimetype": "text/x-python",
   "name": "python",
   "nbconvert_exporter": "python",
   "pygments_lexer": "ipython3",
   "version": "3.7.8"
  }
 },
 "nbformat": 4,
 "nbformat_minor": 4
}
