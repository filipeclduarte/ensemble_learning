{
 "cells": [
  {
   "cell_type": "code",
   "execution_count": 120,
   "metadata": {},
   "outputs": [],
   "source": [
    "# coding=utf-8\n",
    "\n",
    "# Author: Ailton José Rodrigues <ajr@cin.ufpe.br>\n",
    "#\n",
    "\n",
    "\"\"\"\n",
    "==================================================================================\n",
    "\n",
    "==================================================================================\n",
    "\n",
    "In this example, select five public databases with different characteristics. \n",
    "For each dataset, calculate Oracle in the test set for: \n",
    "    i. Bagging; \n",
    "    ii.Adaboost;\n",
    "    iii.Random subespace (50%) and \n",
    "    iiii.Random Oracles. \n",
    "\n",
    "Must varying the number of base classifiers {10, 20, ... 100}. Use perceptron as a \n",
    "base classifier and split folds using 5-fold cross-validation\n",
    "\n",
    "\"\"\"\n",
    "# import libraries\n",
    "import pandas as pd\n",
    "import numpy as np\n",
    "import matplotlib.pyplot as plt\n",
    "from scipy import stats\n",
    "\n",
    "# import five public databases  \n",
    "from sklearn.datasets import load_breast_cancer # Breast cancer wisconsin(diagnostic)\n",
    "from sklearn.datasets import load_wine # Wine recognition\n",
    "from sklearn.datasets import load_boston # Boston house prices \n",
    "from sklearn.datasets import load_diabetes # Diabetes \n",
    "from sklearn.datasets import load_iris # Iris plants \n",
    "\n",
    "from sklearn.model_selection import train_test_split\n",
    "from sklearn.preprocessing import StandardScaler\n",
    "from sklearn.linear_model import Perceptron\n",
    "from sklearn.calibration import CalibratedClassifierCV\n",
    "\n",
    "\n",
    "# models\n",
    "from sklearn.model_selection import KFold\n",
    "from sklearn.model_selection import StratifiedKFold\n",
    "from sklearn.model_selection import cross_validate\n",
    "from sklearn.model_selection import KFold\n",
    "from sklearn.model_selection import cross_val_score\n",
    "\n",
    "\n",
    "\n",
    "# metrics\n",
    "from sklearn.metrics import accuracy_score\n",
    "\n",
    "# ensemblers\n",
    "from sklearn.ensemble import BaggingClassifier \n",
    "from sklearn.ensemble import AdaBoostClassifier\n",
    "from sklearn.ensemble import BaseEnsemble\n",
    "\n",
    "\n",
    "from static.oracle import Oracle"
   ]
  },
  {
   "cell_type": "code",
   "execution_count": 121,
   "metadata": {},
   "outputs": [],
   "source": [
    "import warnings\n",
    "# warnings.filterwarnings(action='once')\n",
    "warnings.filterwarnings(action='ignore')"
   ]
  },
  {
   "cell_type": "code",
   "execution_count": 122,
   "metadata": {},
   "outputs": [],
   "source": [
    "np.random.seed(0)"
   ]
  },
  {
   "cell_type": "markdown",
   "metadata": {},
   "source": [
    "###### Here define the number of base classifiers {10, 20, ... 100}"
   ]
  },
  {
   "cell_type": "code",
   "execution_count": 123,
   "metadata": {},
   "outputs": [],
   "source": [
    "# number of base classifiers\n",
    "num_classifier_base = np.arange(10, 110, 10)"
   ]
  },
  {
   "cell_type": "markdown",
   "metadata": {},
   "source": [
    "###### Print num_classifier_base"
   ]
  },
  {
   "cell_type": "code",
   "execution_count": 124,
   "metadata": {},
   "outputs": [
    {
     "name": "stdout",
     "output_type": "stream",
     "text": [
      "[ 10  20  30  40  50  60  70  80  90 100]\n"
     ]
    }
   ],
   "source": [
    "print(num_classifier_base)"
   ]
  },
  {
   "cell_type": "code",
   "execution_count": 140,
   "metadata": {},
   "outputs": [
    {
     "name": "stdout",
     "output_type": "stream",
     "text": [
      "accuracy: 0.9658920027341079\n",
      "Oracle result: 0.9893617021276596\n",
      "accuracy: 0.9685577580314423\n",
      "Oracle result: 0.9893617021276596\n",
      "accuracy: 0.9685577580314423\n",
      "Oracle result: 0.9893617021276596\n",
      "accuracy: 0.9659261790840737\n",
      "Oracle result: 0.9893617021276596\n",
      "accuracy: 0.9659261790840737\n",
      "Oracle result: 0.9893617021276596\n",
      "accuracy: 0.9685577580314423\n",
      "Oracle result: 0.9893617021276596\n",
      "accuracy: 0.9659261790840737\n",
      "Oracle result: 0.9893617021276596\n",
      "accuracy: 0.9685577580314423\n",
      "Oracle result: 0.9893617021276596\n",
      "accuracy: 0.9685577580314423\n",
      "Oracle result: 0.9893617021276596\n",
      "accuracy: 0.9711551606288449\n",
      "Oracle result: 0.9893617021276596\n"
     ]
    },
    {
     "data": {
      "image/png": "[encoded data removed]",
      "text/plain": [
       "<Figure size 720x576 with 1 Axes>"
      ]
     },
     "metadata": {
      "needs_background": "light"
     },
     "output_type": "display_data"
    }
   ],
   "source": [
    "# import datasets\n",
    "\n",
    "data = load_breast_cancer()\n",
    "#data = load_wine()\n",
    "#data = load_boston() \n",
    "#data = load_diabetes()\n",
    "#data = load_iris()\n",
    "\n",
    "X = data.data\n",
    "y = data.target\n",
    "\n",
    "# split the data into training and test data\n",
    "X_train, X_test, y_train, y_test = train_test_split(X, y, test_size=0.33)\n",
    "\n",
    "\n",
    "# Scale the variables to have 0 mean and unit variance\n",
    "scalar = StandardScaler()\n",
    "X_train = scalar.fit_transform(X_train)\n",
    "X_test = scalar.transform(X_test)\n",
    "\n",
    "\n",
    "seed=2\n",
    "kfold = KFold(n_splits=5,random_state=seed)\n",
    "\n",
    "rng = np.random.RandomState(123)\n",
    "\n",
    "classificador_oracles = dict.fromkeys(num_classifier_base)\n",
    "\n",
    "# Calibrating Perceptrons to estimate probabilities\n",
    "model = CalibratedClassifierCV(Perceptron(max_iter=100),method='sigmoid',cv=kfold)\n",
    "#model.fit(X_train,y_train)\n",
    "\n",
    "\n",
    "for n_base_classifiers in num_classifier_base: \n",
    "    \n",
    "    oracles = []\n",
    "    pool_classifiers = BaggingClassifier(model,n_estimators=n_base_classifiers, random_state=rng)\n",
    "    pool_classifiers.fit(X_train, y_train)  \n",
    "\n",
    "    \n",
    "    result = cross_val_score(pool_classifiers,X_train,y_train,cv=kfold)\n",
    "    print(\"accuracy:\",result.mean())\n",
    "    \n",
    "    oracle = Oracle(pool_classifiers).fit(X_train, y_train)\n",
    "    oracle_score = oracle.score(X_test, y_test)\n",
    "    print('Oracle result: {}' .format(oracle.score(X_test, y_test)))\n",
    "    oracles.append(oracle_score)\n",
    "\n",
    "    classificador_oracles[n_base_classifiers]=oracles\n",
    "\n",
    "plt.figure(figsize=(10,8))\n",
    "plt.boxplot(classificador_oracles.values(), labels=classificador_oracles.keys())\n",
    "plt.title('Oracle para o Bagging no conjunto de teste')\n",
    "plt.xlabel('Quantidade de classificadores')\n",
    "plt.ylabel('Acurácia')\n",
    "plt.show();"
   ]
  },
  {
   "cell_type": "code",
   "execution_count": null,
   "metadata": {},
   "outputs": [],
   "source": []
  }
 ],
 "metadata": {
  "kernelspec": {
   "display_name": "Python 3",
   "language": "python",
   "name": "python3"
  },
  "language_info": {
   "codemirror_mode": {
    "name": "ipython",
    "version": 3
   },
   "file_extension": ".py",
   "mimetype": "text/x-python",
   "name": "python",
   "nbconvert_exporter": "python",
   "pygments_lexer": "ipython3",
   "version": "3.7.8"
  }
 },
 "nbformat": 4,
 "nbformat_minor": 4
}
