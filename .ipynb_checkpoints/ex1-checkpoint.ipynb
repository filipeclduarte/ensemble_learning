{
 "cells": [
  {
   "cell_type": "markdown",
   "metadata": {},
   "source": [
    "# Sistemas de Múltiplos Classificadores\n",
    "\n",
    "## 1)\n",
    "\n",
    "Selecione cinco bases de dados públicas que contenham características diferentes e, para cada base, calcule o Oracle no conjunto de teste para:\n",
    "* Bagging\n",
    "* Adaboost \n",
    "* Random Subspace (50%)\n",
    "* Random Oracles\n",
    "\n",
    "variando o número de classificadores-base {10, 20, …, 100}. \n",
    "\n",
    "Use o Perceptron como classificador-base e divida os fold usando o 5-fold cross-validation. \n",
    "\n",
    "Analise os resultados. "
   ]
  },
  {
   "cell_type": "markdown",
   "metadata": {},
   "source": [
    "### Dados\n",
    "\n",
    "1. \n",
    "\n",
    "2. \n",
    "\n",
    "3. \n",
    "\n",
    "4. \n",
    "\n",
    "5. "
   ]
  },
  {
   "cell_type": "code",
   "execution_count": 2,
   "metadata": {},
   "outputs": [],
   "source": [
    "# Importar bibliotecas\n",
    "import pandas as pd\n",
    "import numpy as np\n",
    "import matplotlib.pyplot as plt\n",
    "from scipy import stats\n",
    "\n",
    "from sklearn.datasets import load_breast_cancer\n",
    "from sklearn.model_selection import train_test_split\n",
    "from sklearn.preprocessing import StandardScaler\n",
    "from sklearn.linear_model import Perceptron\n",
    "from sklearn.calibration import CalibratedClassifierCV\n",
    "from sklearn.model_selection import KFold\n",
    "from sklearn.model_selection import StratifiedKFold\n",
    "from sklearn.model_selection import cross_val_score\n",
    "from sklearn.metrics import accuracy_score\n",
    "from sklearn.ensemble import BaggingClassifier # servirá para o Bagging e para o Random Subspace\n",
    "from sklearn.ensemble import AdaBoostClassifier\n",
    "from sklearn.ensemble import BaseEnsemble\n",
    "from rlo import RLO\n",
    "\n",
    "import oracle"
   ]
  },
  {
   "cell_type": "code",
   "execution_count": 3,
   "metadata": {},
   "outputs": [],
   "source": [
    "import warnings\n",
    "# warnings.filterwarnings(action='once')\n",
    "warnings.filterwarnings(action='ignore')"
   ]
  },
  {
   "cell_type": "code",
   "execution_count": 4,
   "metadata": {},
   "outputs": [],
   "source": [
    "# seed\n",
    "np.random.seed(111)"
   ]
  },
  {
   "cell_type": "markdown",
   "metadata": {},
   "source": [
    "#### Implementação do RLO "
   ]
  },
  {
   "cell_type": "code",
   "execution_count": 4,
   "metadata": {
    "jupyter": {
     "source_hidden": true
    }
   },
   "outputs": [],
   "source": [
    "# class RLO(BaseEnsemble):\n",
    "    \n",
    "#     def __init__(self,\n",
    "#                  base_estimator=None,\n",
    "#                  n_estimators=10,\n",
    "#                  E = None,\n",
    "#                  H = None,\n",
    "#                 ):\n",
    "#         super().__init__(\n",
    "#             base_estimator=base_estimator,\n",
    "#             n_estimators=n_estimators)\n",
    "        \n",
    "            \n",
    "#     def fit(self, X, y):\n",
    "#         N = X.shape[0]\n",
    "#         self.E = {f'D_{i}':{'left:':None, 'right':None} for i in range(self.n_estimators)}\n",
    "#         self.H = {f'H_{i}':None for i in range(self.n_estimators)}\n",
    "        \n",
    "#         for i in range(self.n_estimators):     \n",
    "            \n",
    "#             while True:\n",
    "#                 try:\n",
    "#                     rp = np.random.choice(N, 2)\n",
    "#                     A, B = X[rp[0], :], X[rp[1], :]\n",
    "#                     self.H[f'H_{i}'] = np.hstack((A - B, (B@B.T - A@A.T)/2))\n",
    "#                     left = np.hstack((X, np.ones((N, 1)))) @ self.H[f'H_{i}'].T > 0\n",
    "#                     classificador_left = self.base_estimator\n",
    "#                     classificador_right = self.base_estimator\n",
    "#                     self.E[f'D_{i}']['left'] = classificador_left.fit(X[left, :], y[left])\n",
    "#                     self.E[f'D_{i}']['right'] = classificador_right.fit(X[~left, :], y[~left])\n",
    "                    \n",
    "#                     break\n",
    "#                 except:\n",
    "#                     continue\n",
    "#                 break\n",
    "                \n",
    "\n",
    "#         return self.E, self.H\n",
    "# #         return (E, H)\n",
    "\n",
    "#     def predict(self, X, y):\n",
    "\n",
    "#         L = len(self.E)\n",
    "#         ens = np.zeros((X.shape[0], L))\n",
    "\n",
    "#         for i in range(L):\n",
    "#             left = np.hstack((X, np.ones((X.shape[0], 1)))) @ self.H[f'H_{i}'].T > 0\n",
    "#             ens[left, i] = self.E[f'D_{i}']['left'].predict(X[left, :])\n",
    "#             ens[~left, i] = self.E[f'D_{i}']['right'].predict(X[~left, :])\n",
    "\n",
    "#         a1 = stats.mode(ens.T)[0]\n",
    "#         e = np.mean(a1 != y)\n",
    "\n",
    "#         return (ens, a1, e)\n",
    "    \n",
    "#     def Oracle_predict(self, X, y):\n",
    "#         predictions, _, _ = self.predict(X, y)\n",
    "#         pred_oracle = np.any((predictions == y.reshape(-1,1)), axis=1)\n",
    "#         return pred_oracle\n",
    "    \n",
    "#     def Oracle_score(self, X, y):\n",
    "#         pred_oracle = self.Oracle_predict(X, y)\n",
    "#         acc_oracle = pred_oracle.sum() / pred_oracle.shape[0]\n",
    "#         return acc_oracle"
   ]
  },
  {
   "cell_type": "code",
   "execution_count": 5,
   "metadata": {
    "jupyter": {
     "source_hidden": true
    }
   },
   "outputs": [],
   "source": [
    "# ## Implementação do Random Linear Oracle (RLO) baseado no livro de Kuncheva\n",
    "\n",
    "\n",
    "\n",
    "# def rlo_train(X, y, L, modelo):\n",
    "#     N = X.shape[0]\n",
    "#     E = {f'D_{i}':{'left:':None, 'right':None} for i in range(L)}\n",
    "#     H = {f'H_{i}':None for i in range(L)}\n",
    "    \n",
    "#     for i in range(L):\n",
    "#         rp = np.random.choice(N, 2)\n",
    "#         A, B = X[rp[0], :], X[rp[1], :]\n",
    "#         H[f'H_{i}'] = np.hstack((A - B, (B@B.T - A@A.T)/2))\n",
    "#         left = np.hstack((X, np.ones((N, 1)))) @ H[f'H_{i}'].T > 0\n",
    "#         classificador_left = modelo\n",
    "#         classificador_right = modelo\n",
    "#         E[f'D_{i}']['left'] = classificador_left.fit(X[left, :], y[left])\n",
    "#         E[f'D_{i}']['right'] = classificador_right.fit(X[~left, :], y[~left])\n",
    "\n",
    "#     return (E, H)\n",
    "\n",
    "# def rlo_classificar(E, H, X, y):\n",
    "    \n",
    "#     L = len(E)\n",
    "#     ens = np.zeros((X.shape[0], L))\n",
    "    \n",
    "#     for i in range(L):\n",
    "#         left = np.hstack((X, np.ones((X.shape[0], 1)))) @ H[f'H_{i}'].T > 0\n",
    "#         ens[left, i] = E[f'D_{i}']['left'].predict(X[left, :])\n",
    "#         ens[~left, i] = E[f'D_{i}']['right'].predict(X[~left, :])\n",
    "    \n",
    "#     a1 = stats.mode(ens.T)[0]\n",
    "#     e = np.mean(a1 != y)\n",
    "    \n",
    "#     return (a1, e)\n",
    "    "
   ]
  },
  {
   "cell_type": "code",
   "execution_count": 6,
   "metadata": {},
   "outputs": [
    {
     "name": "stdout",
     "output_type": "stream",
     "text": [
      "[ 10  20  30  40  50  60  70  80  90 100]\n"
     ]
    }
   ],
   "source": [
    "# número de classificadores base\n",
    "n_classificadores_base = np.arange(10, 110, 10)\n",
    "print(n_classificadores_base)"
   ]
  },
  {
   "cell_type": "code",
   "execution_count": 6,
   "metadata": {},
   "outputs": [],
   "source": [
    "## Base de dados para teste\n",
    "data = load_breast_cancer()\n",
    "X = data.data\n",
    "y = data.target\n",
    "# split the data into training and test data\n",
    "X_train, X_test, y_train, y_test = train_test_split(X, y, test_size=0.33)\n",
    "\n",
    "# Scale the variables to have 0 mean and unit variance\n",
    "scalar = StandardScaler()\n",
    "X_train = scalar.fit_transform(X_train)\n",
    "X_test = scalar.transform(X_test)\n",
    "\n",
    "\n",
    "# # Split the data into training and DSEL for DS techniques\n",
    "# X_train, X_dsel, y_train, y_dsel = train_test_split(X_train, y_train, test_size=0.5)"
   ]
  },
  {
   "cell_type": "markdown",
   "metadata": {},
   "source": [
    "#### Testando o RLO"
   ]
  },
  {
   "cell_type": "code",
   "execution_count": 7,
   "metadata": {},
   "outputs": [],
   "source": [
    "cls_base = Perceptron()\n",
    "rlo = RLO(base_estimator=cls_base, n_estimators=3)\n",
    "\n",
    "# treinar\n",
    "rlo.fit(X_train, y_train)\n",
    "\n",
    "# testar \n",
    "predictions, pred_ens, erro = rlo.predict(X_test, y_test)"
   ]
  },
  {
   "cell_type": "code",
   "execution_count": 8,
   "metadata": {},
   "outputs": [
    {
     "name": "stdout",
     "output_type": "stream",
     "text": [
      "0.9627659574468085\n"
     ]
    }
   ],
   "source": [
    "erro_rlo = np.mean(pred_ens == y_test)\n",
    "print(erro_rlo)"
   ]
  },
  {
   "cell_type": "code",
   "execution_count": 9,
   "metadata": {},
   "outputs": [],
   "source": [
    "# Oracle\n",
    "# pred_oracle = np.any((predictions == y_dsel.reshape(-1,1)), axis=1)\n",
    "# acc_oracle = pred_oracle.sum()/pred_oracle.shape[0]\n",
    "# print(f'acc Oracle: {acc_oracle}')\n",
    "pred_oracle = rlo.Oracle_predict(X_test, y_test)\n",
    "acc_oracle = rlo.Oracle_score(X_test, y_test)"
   ]
  },
  {
   "cell_type": "code",
   "execution_count": 10,
   "metadata": {},
   "outputs": [
    {
     "name": "stdout",
     "output_type": "stream",
     "text": [
      "Oracle Accuracy: 0.9627659574468085\n"
     ]
    }
   ],
   "source": [
    "print(f'Oracle Accuracy: {acc_oracle}')"
   ]
  },
  {
   "cell_type": "markdown",
   "metadata": {},
   "source": [
    "#### função que faz a Validação cruzada 5fold com o RLO\n",
    "#### função avalia_L_modelos para o RLO "
   ]
  },
  {
   "cell_type": "code",
   "execution_count": 11,
   "metadata": {},
   "outputs": [],
   "source": [
    "# Criando os 5 folds e salvando em dicionário\n",
    "def cria_folds(X, y, n=5):\n",
    "    kf = StratifiedKFold(n_splits=n)\n",
    "    kfolds = dict()\n",
    "    i = 1\n",
    "    for train_index, test_index in kf.split(X, y):\n",
    "        kfolds[f'fold{i}'] = (train_index, test_index)\n",
    "        i += 1\n",
    "    return kfolds"
   ]
  },
  {
   "cell_type": "code",
   "execution_count": 12,
   "metadata": {},
   "outputs": [],
   "source": [
    "# criando os 5-folds\n",
    "kfolds = cria_folds(X_train,y_train,n=5)"
   ]
  },
  {
   "cell_type": "code",
   "execution_count": 13,
   "metadata": {},
   "outputs": [],
   "source": [
    "## função cv RLO\n",
    "def cv_RLO(kfolds, RLO, X, y):\n",
    "    '''\n",
    "    Realiza a validação cruzada para um Random Linear Oracle.\n",
    "    \n",
    "    Retorna uma tupla com dois dicionários: modelos e resultados.\n",
    "    '''\n",
    "    modelos = dict.fromkeys(kfolds)\n",
    "    resultados = dict.fromkeys(kfolds)\n",
    "    \n",
    "    for fold, (train_idx, test_idx) in kfolds.items():\n",
    "        modelo = RLO\n",
    "        _,_ = modelo.fit(X[train_idx], y[train_idx])\n",
    "        modelos[fold] = modelo\n",
    "#         resultados[fold] = modelo.predict(X[test_idx], y[test_idx])\n",
    "        resultados[fold] = modelo.predict(X[train_idx], y[train_idx])\n",
    "    \n",
    "    return (modelos, resultados)\n",
    "    \n",
    "\n",
    "## função avalia_L_modelos_RLO\n",
    "def avalia_cv_RLO(kfolds, modelos_cv, X, y):\n",
    "    '''\n",
    "    Realiza a avaliação dos resultados para os dados de teste para o Random Linear Oracle e computa o Oracle para o conjunto de teste\n",
    "    \n",
    "    Retorna uma tupla com dois dicionários: resultados, oracles\n",
    "    '''\n",
    "    \n",
    "    resultados = dict.fromkeys(modelos_cv)\n",
    "    oracles = dict.fromkeys(modelos_cv)\n",
    "    for fold, (_, test_idx) in kfolds.items():\n",
    "        resultados[fold] = modelos_cv[fold].predict(X[test_idx], y[test_idx])\n",
    "        oracles[fold] = modelos_cv[fold].Oracle_score(X[test_idx], y[test_idx])\n",
    "    return (resultados, oracles)"
   ]
  },
  {
   "cell_type": "code",
   "execution_count": 14,
   "metadata": {},
   "outputs": [],
   "source": [
    "modelos_cv, resultados_treinamento_cv = cv_RLO(kfolds, RLO(base_estimator=Perceptron()), X_train, y_train)\n",
    "# modelos_cv, resultados_treinamento_cv = cv_RLO(kfolds, RLO(base_estimator=Perceptron(max_iter=10)), X_train, y_train)\n",
    "resultados_teste_cv, oracles_cv = avalia_cv_RLO(kfolds, modelos_cv, X_train, y_train)\n",
    "\n",
    "# modelos_cv, resultados_treinamento_cv = cv_RLO(kfolds, RLO(base_estimator=Perceptron(max_iter=100)), X, y)\n",
    "# resultados_teste_cv, oracles_cv = avalia_cv_RLO(kfolds, modelos_cv, X, y)"
   ]
  },
  {
   "cell_type": "code",
   "execution_count": 15,
   "metadata": {},
   "outputs": [
    {
     "name": "stdout",
     "output_type": "stream",
     "text": [
      "Acurácia do Oracle para cada Fold:\n"
     ]
    },
    {
     "data": {
      "text/plain": [
       "{'fold1': 0.974025974025974,\n",
       " 'fold2': 0.9736842105263158,\n",
       " 'fold3': 0.9868421052631579,\n",
       " 'fold4': 0.9868421052631579,\n",
       " 'fold5': 0.9473684210526315}"
      ]
     },
     "execution_count": 15,
     "metadata": {},
     "output_type": "execute_result"
    }
   ],
   "source": [
    "## Mostrando Oracle para cada fold\n",
    "print(\"Acurácia do Oracle para cada Fold:\")\n",
    "oracles_cv"
   ]
  },
  {
   "cell_type": "code",
   "execution_count": 16,
   "metadata": {},
   "outputs": [
    {
     "name": "stdout",
     "output_type": "stream",
     "text": [
      "Qtd. classificadores:  10\n",
      "Qtd. classificadores:  20\n",
      "Qtd. classificadores:  30\n",
      "Qtd. classificadores:  40\n",
      "Qtd. classificadores:  50\n",
      "Qtd. classificadores:  60\n",
      "Qtd. classificadores:  70\n",
      "Qtd. classificadores:  80\n",
      "Qtd. classificadores:  90\n",
      "Qtd. classificadores:  100\n"
     ]
    }
   ],
   "source": [
    "### Realizando o procedimento anterior variando agora a quantidade de classificadores do modelo\n",
    "\n",
    "### quantidade de classificadores\n",
    "n_classificadores = np.arange(10, 110, 10)\n",
    "\n",
    "## criando dicionário par receber os resultados para treinamento e teste\n",
    "rlo_classificadores_resultados_treinamento = dict.fromkeys(n_classificadores)\n",
    "rlo_classificadores_resultados_teste = dict.fromkeys(n_classificadores)\n",
    "\n",
    "## Loop para cada n dos L classificadores\n",
    "for n in n_classificadores:\n",
    "    print('Qtd. classificadores: ', n)\n",
    "    ## treinamento\n",
    "    while True:\n",
    "        try:\n",
    "            modelos, resultados = cv_RLO(kfolds,RLO(base_estimator=Perceptron(max_iter=10), n_estimators=n), X_train, y_train)\n",
    "            rlo_classificadores_resultados_treinamento[n] = (modelos, resultados)\n",
    "            ## avalia cv \n",
    "            resultados_teste, oracles_teste = avalia_cv_RLO(kfolds, modelos, X_train, y_train)\n",
    "            break\n",
    "        except:\n",
    "            continue\n",
    "        break\n",
    "            \n",
    "    rlo_classificadores_resultados_teste[n] = (resultados_teste, oracles_teste)\n",
    "    "
   ]
  },
  {
   "cell_type": "code",
   "execution_count": 17,
   "metadata": {},
   "outputs": [],
   "source": [
    "## Avaliando Oracle para cada n\n",
    "\n",
    "rlo_oracles = dict.fromkeys(n_classificadores)\n",
    "for n in n_classificadores:\n",
    "    oracles_n = []\n",
    "    for i in range(1,6):\n",
    "        fold = f'fold{i}'\n",
    "        oracle_i = rlo_classificadores_resultados_teste[n][1][fold]\n",
    "        oracles_n.append(oracle_i)\n",
    "    rlo_oracles[n] = oracles_n\n",
    "# for n in n_classificadores:\n",
    "#     print(rlo_classificadores_resultados_teste[n][1]['fold2'])"
   ]
  },
  {
   "cell_type": "code",
   "execution_count": 18,
   "metadata": {},
   "outputs": [
    {
     "data": {
      "text/html": [
       "<div>\n",
       "<style scoped>\n",
       "    .dataframe tbody tr th:only-of-type {\n",
       "        vertical-align: middle;\n",
       "    }\n",
       "\n",
       "    .dataframe tbody tr th {\n",
       "        vertical-align: top;\n",
       "    }\n",
       "\n",
       "    .dataframe thead th {\n",
       "        text-align: right;\n",
       "    }\n",
       "</style>\n",
       "<table border=\"1\" class=\"dataframe\">\n",
       "  <thead>\n",
       "    <tr style=\"text-align: right;\">\n",
       "      <th></th>\n",
       "      <th>10</th>\n",
       "      <th>20</th>\n",
       "      <th>30</th>\n",
       "      <th>40</th>\n",
       "      <th>50</th>\n",
       "      <th>60</th>\n",
       "      <th>70</th>\n",
       "      <th>80</th>\n",
       "      <th>90</th>\n",
       "      <th>100</th>\n",
       "    </tr>\n",
       "  </thead>\n",
       "  <tbody>\n",
       "    <tr>\n",
       "      <th>count</th>\n",
       "      <td>5.000000</td>\n",
       "      <td>5.000000</td>\n",
       "      <td>5.000000</td>\n",
       "      <td>5.000000</td>\n",
       "      <td>5.000000</td>\n",
       "      <td>5.000000</td>\n",
       "      <td>5.000000</td>\n",
       "      <td>5.000000</td>\n",
       "      <td>5.000000</td>\n",
       "      <td>5.000000</td>\n",
       "    </tr>\n",
       "    <tr>\n",
       "      <th>mean</th>\n",
       "      <td>0.963260</td>\n",
       "      <td>0.968524</td>\n",
       "      <td>0.963226</td>\n",
       "      <td>0.978947</td>\n",
       "      <td>0.981579</td>\n",
       "      <td>0.978982</td>\n",
       "      <td>0.978982</td>\n",
       "      <td>0.965926</td>\n",
       "      <td>0.936979</td>\n",
       "      <td>0.947505</td>\n",
       "    </tr>\n",
       "    <tr>\n",
       "      <th>std</th>\n",
       "      <td>0.010980</td>\n",
       "      <td>0.014936</td>\n",
       "      <td>0.017209</td>\n",
       "      <td>0.015002</td>\n",
       "      <td>0.015002</td>\n",
       "      <td>0.011798</td>\n",
       "      <td>0.011798</td>\n",
       "      <td>0.011502</td>\n",
       "      <td>0.025383</td>\n",
       "      <td>0.013161</td>\n",
       "    </tr>\n",
       "    <tr>\n",
       "      <th>min</th>\n",
       "      <td>0.947368</td>\n",
       "      <td>0.947368</td>\n",
       "      <td>0.934211</td>\n",
       "      <td>0.960526</td>\n",
       "      <td>0.960526</td>\n",
       "      <td>0.960526</td>\n",
       "      <td>0.960526</td>\n",
       "      <td>0.948052</td>\n",
       "      <td>0.894737</td>\n",
       "      <td>0.934211</td>\n",
       "    </tr>\n",
       "    <tr>\n",
       "      <th>25%</th>\n",
       "      <td>0.960526</td>\n",
       "      <td>0.961039</td>\n",
       "      <td>0.960526</td>\n",
       "      <td>0.973684</td>\n",
       "      <td>0.973684</td>\n",
       "      <td>0.973684</td>\n",
       "      <td>0.973684</td>\n",
       "      <td>0.960526</td>\n",
       "      <td>0.934211</td>\n",
       "      <td>0.934211</td>\n",
       "    </tr>\n",
       "    <tr>\n",
       "      <th>50%</th>\n",
       "      <td>0.961039</td>\n",
       "      <td>0.973684</td>\n",
       "      <td>0.973684</td>\n",
       "      <td>0.973684</td>\n",
       "      <td>0.986842</td>\n",
       "      <td>0.986842</td>\n",
       "      <td>0.986842</td>\n",
       "      <td>0.973684</td>\n",
       "      <td>0.947368</td>\n",
       "      <td>0.948052</td>\n",
       "    </tr>\n",
       "    <tr>\n",
       "      <th>75%</th>\n",
       "      <td>0.973684</td>\n",
       "      <td>0.973684</td>\n",
       "      <td>0.973684</td>\n",
       "      <td>0.986842</td>\n",
       "      <td>0.986842</td>\n",
       "      <td>0.986842</td>\n",
       "      <td>0.986842</td>\n",
       "      <td>0.973684</td>\n",
       "      <td>0.948052</td>\n",
       "      <td>0.960526</td>\n",
       "    </tr>\n",
       "    <tr>\n",
       "      <th>max</th>\n",
       "      <td>0.973684</td>\n",
       "      <td>0.986842</td>\n",
       "      <td>0.974026</td>\n",
       "      <td>1.000000</td>\n",
       "      <td>1.000000</td>\n",
       "      <td>0.987013</td>\n",
       "      <td>0.987013</td>\n",
       "      <td>0.973684</td>\n",
       "      <td>0.960526</td>\n",
       "      <td>0.960526</td>\n",
       "    </tr>\n",
       "  </tbody>\n",
       "</table>\n",
       "</div>"
      ],
      "text/plain": [
       "            10        20        30        40        50        60        70   \\\n",
       "count  5.000000  5.000000  5.000000  5.000000  5.000000  5.000000  5.000000   \n",
       "mean   0.963260  0.968524  0.963226  0.978947  0.981579  0.978982  0.978982   \n",
       "std    0.010980  0.014936  0.017209  0.015002  0.015002  0.011798  0.011798   \n",
       "min    0.947368  0.947368  0.934211  0.960526  0.960526  0.960526  0.960526   \n",
       "25%    0.960526  0.961039  0.960526  0.973684  0.973684  0.973684  0.973684   \n",
       "50%    0.961039  0.973684  0.973684  0.973684  0.986842  0.986842  0.986842   \n",
       "75%    0.973684  0.973684  0.973684  0.986842  0.986842  0.986842  0.986842   \n",
       "max    0.973684  0.986842  0.974026  1.000000  1.000000  0.987013  0.987013   \n",
       "\n",
       "            80        90        100  \n",
       "count  5.000000  5.000000  5.000000  \n",
       "mean   0.965926  0.936979  0.947505  \n",
       "std    0.011502  0.025383  0.013161  \n",
       "min    0.948052  0.894737  0.934211  \n",
       "25%    0.960526  0.934211  0.934211  \n",
       "50%    0.973684  0.947368  0.948052  \n",
       "75%    0.973684  0.948052  0.960526  \n",
       "max    0.973684  0.960526  0.960526  "
      ]
     },
     "execution_count": 18,
     "metadata": {},
     "output_type": "execute_result"
    }
   ],
   "source": [
    "## Transformando em DataFrame\n",
    "rlo_oracle_df = pd.DataFrame(rlo_oracles)\n",
    "## Calculando estatísticas\n",
    "rlo_oracle_df.describe()"
   ]
  },
  {
   "cell_type": "code",
   "execution_count": 19,
   "metadata": {},
   "outputs": [
    {
     "data": {
      "image/png": "[encoded data removed]",
      "text/plain": [
       "<Figure size 720x576 with 1 Axes>"
      ]
     },
     "metadata": {
      "needs_background": "light"
     },
     "output_type": "display_data"
    }
   ],
   "source": [
    "rlo_oracle_df.boxplot(figsize=(10,8), grid=False)\n",
    "plt.title('Boxplot: Oracle para o RLO no conjunto de teste')\n",
    "plt.xlabel('Quantidade de classificadores')\n",
    "plt.ylabel('Acurácia')\n",
    "plt.show();"
   ]
  },
  {
   "cell_type": "code",
   "execution_count": 20,
   "metadata": {},
   "outputs": [
    {
     "data": {
      "image/png": "[encoded data removed]",
      "text/plain": [
       "<Figure size 720x576 with 1 Axes>"
      ]
     },
     "metadata": {
      "needs_background": "light"
     },
     "output_type": "display_data"
    }
   ],
   "source": [
    "plt.figure(figsize=(10,8))\n",
    "plt.boxplot(rlo_oracles.values(), labels=rlo_oracles.keys())\n",
    "plt.title('Boxplot: Oracle para o RLO no conjunto de teste')\n",
    "plt.xlabel('Quantidade de classificadores')\n",
    "plt.ylabel('Acurácia')\n",
    "plt.show();"
   ]
  },
  {
   "cell_type": "markdown",
   "metadata": {},
   "source": [
    "### Implementar funções para os demais modelos"
   ]
  },
  {
   "cell_type": "code",
   "execution_count": 207,
   "metadata": {},
   "outputs": [],
   "source": [
    "# função para criar os classificadores com o Perceptron como classificador base\n",
    "def L_modelos(classificador, kfolds,random_subspace=False):\n",
    "    \n",
    "    n_classificadores = np.arange(10, 110, 10)\n",
    "    if random_subspace:\n",
    "        max_features = 0.5 # 50% de features\n",
    "        modelos = dict()\n",
    "        for n in n_classificadores:\n",
    "            modelos_folds = dict.fromkeys(kfolds.keys())\n",
    "            for fold in kfolds.keys():\n",
    "                modelos_folds[fold] = classificador(CalibratedClassifierCV(Perceptron(max_iter=10)), \n",
    "                                                n_estimators = n, \n",
    "                                                max_features=max_features)\n",
    "                \n",
    "            modelos[str(n)] = modelos_folds\n",
    "    else:\n",
    "        max_features = 1.0\n",
    "        modelos = dict()\n",
    "        for n in n_classificadores:\n",
    "            modelos_folds = dict.fromkeys(kfolds.keys())\n",
    "            for fold in kfolds.keys():\n",
    "                modelos_folds[fold] = classificador(CalibratedClassifierCV(Perceptron(max_iter=10)), \n",
    "                                            n_estimators = n)\n",
    "            \n",
    "            modelos[str(n)] = modelos_folds\n",
    "    return modelos\n",
    "\n",
    "# função para realizar a validação cruzada dos classificadores \n",
    "def avalia_L_modelos(L_classificadores, X, y, kfolds):\n",
    "    \n",
    "    scores_L = dict.fromkeys(L_classificadores)\n",
    "    \n",
    "    for classificador in L_classificadores:\n",
    "        print('Qtd. classificadores: ', classificador)\n",
    "        scores_modelos = dict.fromkeys(kfolds.keys())\n",
    "        for fold, (train_idx, test_idx) in kfolds.items():\n",
    "            L_classificadores[classificador][fold].fit(X[train_idx], y[train_idx])\n",
    "            pred = L_classificadores[classificador][fold].predict(X[test_idx])\n",
    "            scores_modelos[fold] = {'acuracia': accuracy_score(y[test_idx], pred),\n",
    "                           'modelo': L_classificadores[classificador][fold]}\n",
    "            \n",
    "        scores_L[classificador] = scores_modelos\n",
    "    \n",
    "    return scores_L\n",
    "    "
   ]
  },
  {
   "cell_type": "code",
   "execution_count": 208,
   "metadata": {},
   "outputs": [
    {
     "name": "stdout",
     "output_type": "stream",
     "text": [
      "Qtd. classificadores:  10\n",
      "Qtd. classificadores:  20\n",
      "Qtd. classificadores:  30\n",
      "Qtd. classificadores:  40\n",
      "Qtd. classificadores:  50\n",
      "Qtd. classificadores:  60\n",
      "Qtd. classificadores:  70\n",
      "Qtd. classificadores:  80\n",
      "Qtd. classificadores:  90\n",
      "Qtd. classificadores:  100\n"
     ]
    }
   ],
   "source": [
    "# criando os L classificadores\n",
    "modelos_L = L_modelos(BaggingClassifier, kfolds)\n",
    "\n",
    "# avaliando por validação cruzada\n",
    "bagging_classifier_cv = avalia_L_modelos(modelos_L, X_train, y_train, kfolds)"
   ]
  },
  {
   "cell_type": "code",
   "execution_count": 209,
   "metadata": {},
   "outputs": [
    {
     "data": {
      "text/plain": [
       "{'10': {'fold1': {'acuracia': 0.974025974025974,\n",
       "   'modelo': BaggingClassifier(base_estimator=CalibratedClassifierCV(base_estimator=Perceptron(max_iter=10)))},\n",
       "  'fold2': {'acuracia': 0.9605263157894737,\n",
       "   'modelo': BaggingClassifier(base_estimator=CalibratedClassifierCV(base_estimator=Perceptron(max_iter=10)))},\n",
       "  'fold3': {'acuracia': 0.9868421052631579,\n",
       "   'modelo': BaggingClassifier(base_estimator=CalibratedClassifierCV(base_estimator=Perceptron(max_iter=10)))},\n",
       "  'fold4': {'acuracia': 0.9473684210526315,\n",
       "   'modelo': BaggingClassifier(base_estimator=CalibratedClassifierCV(base_estimator=Perceptron(max_iter=10)))},\n",
       "  'fold5': {'acuracia': 0.9736842105263158,\n",
       "   'modelo': BaggingClassifier(base_estimator=CalibratedClassifierCV(base_estimator=Perceptron(max_iter=10)))}},\n",
       " '20': {'fold1': {'acuracia': 0.974025974025974,\n",
       "   'modelo': BaggingClassifier(base_estimator=CalibratedClassifierCV(base_estimator=Perceptron(max_iter=10)),\n",
       "                     n_estimators=20)},\n",
       "  'fold2': {'acuracia': 0.9473684210526315,\n",
       "   'modelo': BaggingClassifier(base_estimator=CalibratedClassifierCV(base_estimator=Perceptron(max_iter=10)),\n",
       "                     n_estimators=20)},\n",
       "  'fold3': {'acuracia': 0.9868421052631579,\n",
       "   'modelo': BaggingClassifier(base_estimator=CalibratedClassifierCV(base_estimator=Perceptron(max_iter=10)),\n",
       "                     n_estimators=20)},\n",
       "  'fold4': {'acuracia': 0.9473684210526315,\n",
       "   'modelo': BaggingClassifier(base_estimator=CalibratedClassifierCV(base_estimator=Perceptron(max_iter=10)),\n",
       "                     n_estimators=20)},\n",
       "  'fold5': {'acuracia': 0.9605263157894737,\n",
       "   'modelo': BaggingClassifier(base_estimator=CalibratedClassifierCV(base_estimator=Perceptron(max_iter=10)),\n",
       "                     n_estimators=20)}},\n",
       " '30': {'fold1': {'acuracia': 0.987012987012987,\n",
       "   'modelo': BaggingClassifier(base_estimator=CalibratedClassifierCV(base_estimator=Perceptron(max_iter=10)),\n",
       "                     n_estimators=30)},\n",
       "  'fold2': {'acuracia': 0.9605263157894737,\n",
       "   'modelo': BaggingClassifier(base_estimator=CalibratedClassifierCV(base_estimator=Perceptron(max_iter=10)),\n",
       "                     n_estimators=30)},\n",
       "  'fold3': {'acuracia': 0.9868421052631579,\n",
       "   'modelo': BaggingClassifier(base_estimator=CalibratedClassifierCV(base_estimator=Perceptron(max_iter=10)),\n",
       "                     n_estimators=30)},\n",
       "  'fold4': {'acuracia': 0.9473684210526315,\n",
       "   'modelo': BaggingClassifier(base_estimator=CalibratedClassifierCV(base_estimator=Perceptron(max_iter=10)),\n",
       "                     n_estimators=30)},\n",
       "  'fold5': {'acuracia': 0.9605263157894737,\n",
       "   'modelo': BaggingClassifier(base_estimator=CalibratedClassifierCV(base_estimator=Perceptron(max_iter=10)),\n",
       "                     n_estimators=30)}},\n",
       " '40': {'fold1': {'acuracia': 0.974025974025974,\n",
       "   'modelo': BaggingClassifier(base_estimator=CalibratedClassifierCV(base_estimator=Perceptron(max_iter=10)),\n",
       "                     n_estimators=40)},\n",
       "  'fold2': {'acuracia': 0.9473684210526315,\n",
       "   'modelo': BaggingClassifier(base_estimator=CalibratedClassifierCV(base_estimator=Perceptron(max_iter=10)),\n",
       "                     n_estimators=40)},\n",
       "  'fold3': {'acuracia': 0.9868421052631579,\n",
       "   'modelo': BaggingClassifier(base_estimator=CalibratedClassifierCV(base_estimator=Perceptron(max_iter=10)),\n",
       "                     n_estimators=40)},\n",
       "  'fold4': {'acuracia': 0.9342105263157895,\n",
       "   'modelo': BaggingClassifier(base_estimator=CalibratedClassifierCV(base_estimator=Perceptron(max_iter=10)),\n",
       "                     n_estimators=40)},\n",
       "  'fold5': {'acuracia': 0.9605263157894737,\n",
       "   'modelo': BaggingClassifier(base_estimator=CalibratedClassifierCV(base_estimator=Perceptron(max_iter=10)),\n",
       "                     n_estimators=40)}},\n",
       " '50': {'fold1': {'acuracia': 0.974025974025974,\n",
       "   'modelo': BaggingClassifier(base_estimator=CalibratedClassifierCV(base_estimator=Perceptron(max_iter=10)),\n",
       "                     n_estimators=50)},\n",
       "  'fold2': {'acuracia': 0.9473684210526315,\n",
       "   'modelo': BaggingClassifier(base_estimator=CalibratedClassifierCV(base_estimator=Perceptron(max_iter=10)),\n",
       "                     n_estimators=50)},\n",
       "  'fold3': {'acuracia': 0.9868421052631579,\n",
       "   'modelo': BaggingClassifier(base_estimator=CalibratedClassifierCV(base_estimator=Perceptron(max_iter=10)),\n",
       "                     n_estimators=50)},\n",
       "  'fold4': {'acuracia': 0.9342105263157895,\n",
       "   'modelo': BaggingClassifier(base_estimator=CalibratedClassifierCV(base_estimator=Perceptron(max_iter=10)),\n",
       "                     n_estimators=50)},\n",
       "  'fold5': {'acuracia': 0.9605263157894737,\n",
       "   'modelo': BaggingClassifier(base_estimator=CalibratedClassifierCV(base_estimator=Perceptron(max_iter=10)),\n",
       "                     n_estimators=50)}},\n",
       " '60': {'fold1': {'acuracia': 0.974025974025974,\n",
       "   'modelo': BaggingClassifier(base_estimator=CalibratedClassifierCV(base_estimator=Perceptron(max_iter=10)),\n",
       "                     n_estimators=60)},\n",
       "  'fold2': {'acuracia': 0.9605263157894737,\n",
       "   'modelo': BaggingClassifier(base_estimator=CalibratedClassifierCV(base_estimator=Perceptron(max_iter=10)),\n",
       "                     n_estimators=60)},\n",
       "  'fold3': {'acuracia': 0.9868421052631579,\n",
       "   'modelo': BaggingClassifier(base_estimator=CalibratedClassifierCV(base_estimator=Perceptron(max_iter=10)),\n",
       "                     n_estimators=60)},\n",
       "  'fold4': {'acuracia': 0.9473684210526315,\n",
       "   'modelo': BaggingClassifier(base_estimator=CalibratedClassifierCV(base_estimator=Perceptron(max_iter=10)),\n",
       "                     n_estimators=60)},\n",
       "  'fold5': {'acuracia': 0.9605263157894737,\n",
       "   'modelo': BaggingClassifier(base_estimator=CalibratedClassifierCV(base_estimator=Perceptron(max_iter=10)),\n",
       "                     n_estimators=60)}},\n",
       " '70': {'fold1': {'acuracia': 0.974025974025974,\n",
       "   'modelo': BaggingClassifier(base_estimator=CalibratedClassifierCV(base_estimator=Perceptron(max_iter=10)),\n",
       "                     n_estimators=70)},\n",
       "  'fold2': {'acuracia': 0.9473684210526315,\n",
       "   'modelo': BaggingClassifier(base_estimator=CalibratedClassifierCV(base_estimator=Perceptron(max_iter=10)),\n",
       "                     n_estimators=70)},\n",
       "  'fold3': {'acuracia': 0.9868421052631579,\n",
       "   'modelo': BaggingClassifier(base_estimator=CalibratedClassifierCV(base_estimator=Perceptron(max_iter=10)),\n",
       "                     n_estimators=70)},\n",
       "  'fold4': {'acuracia': 0.9473684210526315,\n",
       "   'modelo': BaggingClassifier(base_estimator=CalibratedClassifierCV(base_estimator=Perceptron(max_iter=10)),\n",
       "                     n_estimators=70)},\n",
       "  'fold5': {'acuracia': 0.9605263157894737,\n",
       "   'modelo': BaggingClassifier(base_estimator=CalibratedClassifierCV(base_estimator=Perceptron(max_iter=10)),\n",
       "                     n_estimators=70)}},\n",
       " '80': {'fold1': {'acuracia': 0.974025974025974,\n",
       "   'modelo': BaggingClassifier(base_estimator=CalibratedClassifierCV(base_estimator=Perceptron(max_iter=10)),\n",
       "                     n_estimators=80)},\n",
       "  'fold2': {'acuracia': 0.9736842105263158,\n",
       "   'modelo': BaggingClassifier(base_estimator=CalibratedClassifierCV(base_estimator=Perceptron(max_iter=10)),\n",
       "                     n_estimators=80)},\n",
       "  'fold3': {'acuracia': 0.9868421052631579,\n",
       "   'modelo': BaggingClassifier(base_estimator=CalibratedClassifierCV(base_estimator=Perceptron(max_iter=10)),\n",
       "                     n_estimators=80)},\n",
       "  'fold4': {'acuracia': 0.9473684210526315,\n",
       "   'modelo': BaggingClassifier(base_estimator=CalibratedClassifierCV(base_estimator=Perceptron(max_iter=10)),\n",
       "                     n_estimators=80)},\n",
       "  'fold5': {'acuracia': 0.9605263157894737,\n",
       "   'modelo': BaggingClassifier(base_estimator=CalibratedClassifierCV(base_estimator=Perceptron(max_iter=10)),\n",
       "                     n_estimators=80)}},\n",
       " '90': {'fold1': {'acuracia': 0.974025974025974,\n",
       "   'modelo': BaggingClassifier(base_estimator=CalibratedClassifierCV(base_estimator=Perceptron(max_iter=10)),\n",
       "                     n_estimators=90)},\n",
       "  'fold2': {'acuracia': 0.9473684210526315,\n",
       "   'modelo': BaggingClassifier(base_estimator=CalibratedClassifierCV(base_estimator=Perceptron(max_iter=10)),\n",
       "                     n_estimators=90)},\n",
       "  'fold3': {'acuracia': 0.9868421052631579,\n",
       "   'modelo': BaggingClassifier(base_estimator=CalibratedClassifierCV(base_estimator=Perceptron(max_iter=10)),\n",
       "                     n_estimators=90)},\n",
       "  'fold4': {'acuracia': 0.9473684210526315,\n",
       "   'modelo': BaggingClassifier(base_estimator=CalibratedClassifierCV(base_estimator=Perceptron(max_iter=10)),\n",
       "                     n_estimators=90)},\n",
       "  'fold5': {'acuracia': 0.9605263157894737,\n",
       "   'modelo': BaggingClassifier(base_estimator=CalibratedClassifierCV(base_estimator=Perceptron(max_iter=10)),\n",
       "                     n_estimators=90)}},\n",
       " '100': {'fold1': {'acuracia': 0.974025974025974,\n",
       "   'modelo': BaggingClassifier(base_estimator=CalibratedClassifierCV(base_estimator=Perceptron(max_iter=10)),\n",
       "                     n_estimators=100)},\n",
       "  'fold2': {'acuracia': 0.9473684210526315,\n",
       "   'modelo': BaggingClassifier(base_estimator=CalibratedClassifierCV(base_estimator=Perceptron(max_iter=10)),\n",
       "                     n_estimators=100)},\n",
       "  'fold3': {'acuracia': 0.9868421052631579,\n",
       "   'modelo': BaggingClassifier(base_estimator=CalibratedClassifierCV(base_estimator=Perceptron(max_iter=10)),\n",
       "                     n_estimators=100)},\n",
       "  'fold4': {'acuracia': 0.9473684210526315,\n",
       "   'modelo': BaggingClassifier(base_estimator=CalibratedClassifierCV(base_estimator=Perceptron(max_iter=10)),\n",
       "                     n_estimators=100)},\n",
       "  'fold5': {'acuracia': 0.9605263157894737,\n",
       "   'modelo': BaggingClassifier(base_estimator=CalibratedClassifierCV(base_estimator=Perceptron(max_iter=10)),\n",
       "                     n_estimators=100)}}}"
      ]
     },
     "execution_count": 209,
     "metadata": {},
     "output_type": "execute_result"
    }
   ],
   "source": [
    "bagging_classifier_cv"
   ]
  },
  {
   "cell_type": "code",
   "execution_count": 210,
   "metadata": {},
   "outputs": [
    {
     "name": "stdout",
     "output_type": "stream",
     "text": [
      "média:          0.9684894053315105\n",
      "desvio padrão:  0.015033029972902399\n"
     ]
    }
   ],
   "source": [
    "print('média:         ',np.mean([bagging_classifier_cv['10'][f'fold{i}']['acuracia'] for i in range(1, 6)]))\n",
    "print('desvio padrão: ', np.std([bagging_classifier_cv['10'][f'fold{i}']['acuracia'] for i in range(1, 6)], ddof=1))"
   ]
  },
  {
   "cell_type": "code",
   "execution_count": 211,
   "metadata": {},
   "outputs": [
    {
     "name": "stdout",
     "output_type": "stream",
     "text": [
      "10:  [0.974025974025974, 0.9605263157894737, 0.9868421052631579, 0.9473684210526315, 0.9736842105263158]\n",
      "20:  [0.974025974025974, 0.9473684210526315, 0.9868421052631579, 0.9473684210526315, 0.9605263157894737]\n"
     ]
    }
   ],
   "source": [
    "# mostrando a accuracy para cada fold para todos os n classificadores\n",
    "print('10: ', [bagging_classifier_cv['10'][f'fold{i}']['acuracia'] for i in range(1, 6)])\n",
    "print('20: ',[bagging_classifier_cv['20'][f'fold{i}']['acuracia'] for i in range(1, 6)])"
   ]
  },
  {
   "cell_type": "code",
   "execution_count": 212,
   "metadata": {},
   "outputs": [
    {
     "name": "stdout",
     "output_type": "stream",
     "text": [
      "Qtd. classificadores:  10\n",
      "Qtd. classificadores:  20\n",
      "Qtd. classificadores:  30\n",
      "Qtd. classificadores:  40\n",
      "Qtd. classificadores:  50\n",
      "Qtd. classificadores:  60\n",
      "Qtd. classificadores:  70\n",
      "Qtd. classificadores:  80\n",
      "Qtd. classificadores:  90\n",
      "Qtd. classificadores:  100\n"
     ]
    }
   ],
   "source": [
    "# Adaboost\n",
    "# criando os L classificadores\n",
    "modelos_L_adaboost = L_modelos(AdaBoostClassifier, kfolds)\n",
    "\n",
    "adaboost_classifier_cv = avalia_L_modelos(modelos_L_adaboost, X_train, y_train, kfolds)"
   ]
  },
  {
   "cell_type": "code",
   "execution_count": 213,
   "metadata": {},
   "outputs": [
    {
     "name": "stdout",
     "output_type": "stream",
     "text": [
      "média:          0.9684552289815448\n",
      "desvio padrão:  0.017697855802289872\n"
     ]
    }
   ],
   "source": [
    "print('média:         ',np.mean([adaboost_classifier_cv['10'][f'fold{i}']['acuracia'] for i in range(1, 6)]))\n",
    "print('desvio padrão: ', np.std([adaboost_classifier_cv['10'][f'fold{i}']['acuracia'] for i in range(1, 6)], ddof=1))"
   ]
  },
  {
   "cell_type": "code",
   "execution_count": 214,
   "metadata": {},
   "outputs": [
    {
     "name": "stdout",
     "output_type": "stream",
     "text": [
      "10:  [0.987012987012987, 0.9605263157894737, 0.9868421052631579, 0.9473684210526315, 0.9605263157894737]\n",
      "20:  [0.987012987012987, 0.9605263157894737, 0.9868421052631579, 0.9342105263157895, 0.9736842105263158]\n"
     ]
    }
   ],
   "source": [
    "# mostrando a accuracy para cada fold para todos os n classificadores\n",
    "print('10: ', [adaboost_classifier_cv['10'][f'fold{i}']['acuracia'] for i in range(1, 6)])\n",
    "print('20: ',[adaboost_classifier_cv['20'][f'fold{i}']['acuracia'] for i in range(1, 6)])\n"
   ]
  },
  {
   "cell_type": "code",
   "execution_count": 215,
   "metadata": {},
   "outputs": [
    {
     "name": "stdout",
     "output_type": "stream",
     "text": [
      "Qtd. classificadores:  10\n",
      "Qtd. classificadores:  20\n",
      "Qtd. classificadores:  30\n",
      "Qtd. classificadores:  40\n",
      "Qtd. classificadores:  50\n",
      "Qtd. classificadores:  60\n",
      "Qtd. classificadores:  70\n",
      "Qtd. classificadores:  80\n",
      "Qtd. classificadores:  90\n",
      "Qtd. classificadores:  100\n"
     ]
    }
   ],
   "source": [
    "## random subspace\n",
    "# criando os L classificadores\n",
    "modelos_L_random_subspace = L_modelos(BaggingClassifier, kfolds, True)\n",
    "\n",
    "random_subspace_classifier_cv = avalia_L_modelos(modelos_L_random_subspace, X_train, y_train, kfolds)"
   ]
  },
  {
   "cell_type": "code",
   "execution_count": 216,
   "metadata": {},
   "outputs": [
    {
     "name": "stdout",
     "output_type": "stream",
     "text": [
      "média:          0.9631920710868078\n",
      "desvio padrão:  0.023580628920411104\n"
     ]
    }
   ],
   "source": [
    "print('média:         ',np.mean([random_subspace_classifier_cv['10'][f'fold{i}']['acuracia'] for i in range(1, 6)]))\n",
    "print('desvio padrão: ', np.std([random_subspace_classifier_cv['10'][f'fold{i}']['acuracia'] for i in range(1, 6)], ddof=1))"
   ]
  },
  {
   "cell_type": "code",
   "execution_count": 217,
   "metadata": {},
   "outputs": [
    {
     "name": "stdout",
     "output_type": "stream",
     "text": [
      "10:  [0.987012987012987, 0.9473684210526315, 0.9868421052631579, 0.9342105263157895, 0.9605263157894737]\n",
      "30:  [0.974025974025974, 0.9473684210526315, 0.9868421052631579, 0.9342105263157895, 0.9605263157894737]\n"
     ]
    }
   ],
   "source": [
    "# mostrando a accuracy para cada fold para todos os n classificadores\n",
    "print('10: ', [random_subspace_classifier_cv['10'][f'fold{i}']['acuracia'] for i in range(1, 6)])\n",
    "print('30: ',[random_subspace_classifier_cv['30'][f'fold{i}']['acuracia'] for i in range(1, 6)])\n"
   ]
  },
  {
   "cell_type": "code",
   "execution_count": 218,
   "metadata": {},
   "outputs": [],
   "source": [
    "## Oracle\n",
    "## Função que recebe os modelos cv e retorna Oracle\n",
    "def avalia_oracle(classificador_cv, X, y, kfolds):\n",
    "    classificador_oracles = dict.fromkeys(classificador_cv.keys())\n",
    "    for n in classificador_oracles:\n",
    "        print('Qtd. classificadores: ', n)\n",
    "        oracles = []\n",
    "        for fold, (_, test_id) in kfolds.items():\n",
    "            oracle_i = oracle.Oracle(classificador_cv[n][fold]['modelo'])\n",
    "            oracle_score = oracle_i.score(X[test_id], y[test_id])\n",
    "            oracles.append(oracle_score)\n",
    "        classificador_oracles[n] = oracles\n",
    "    return classificador_oracles"
   ]
  },
  {
   "cell_type": "code",
   "execution_count": 219,
   "metadata": {},
   "outputs": [
    {
     "name": "stdout",
     "output_type": "stream",
     "text": [
      "Qtd. classificadores:  10\n",
      "Qtd. classificadores:  20\n",
      "Qtd. classificadores:  30\n",
      "Qtd. classificadores:  40\n",
      "Qtd. classificadores:  50\n",
      "Qtd. classificadores:  60\n",
      "Qtd. classificadores:  70\n",
      "Qtd. classificadores:  80\n",
      "Qtd. classificadores:  90\n",
      "Qtd. classificadores:  100\n",
      "Qtd. classificadores:  10\n",
      "Qtd. classificadores:  20\n",
      "Qtd. classificadores:  30\n",
      "Qtd. classificadores:  40\n",
      "Qtd. classificadores:  50\n",
      "Qtd. classificadores:  60\n",
      "Qtd. classificadores:  70\n",
      "Qtd. classificadores:  80\n",
      "Qtd. classificadores:  90\n",
      "Qtd. classificadores:  100\n"
     ]
    }
   ],
   "source": [
    "bag_oracles = avalia_oracle(bagging_classifier_cv, X_train, y_train, kfolds)\n",
    "bag_oracles_df = pd.DataFrame(bag_oracles)\n",
    "\n",
    "adaboost_oracles = avalia_oracle(adaboost_classifier_cv, X_train, y_train, kfolds)\n",
    "adaboost_oracles_df = pd.DataFrame(adaboost_oracles)"
   ]
  },
  {
   "cell_type": "code",
   "execution_count": 220,
   "metadata": {},
   "outputs": [
    {
     "data": {
      "text/html": [
       "<div>\n",
       "<style scoped>\n",
       "    .dataframe tbody tr th:only-of-type {\n",
       "        vertical-align: middle;\n",
       "    }\n",
       "\n",
       "    .dataframe tbody tr th {\n",
       "        vertical-align: top;\n",
       "    }\n",
       "\n",
       "    .dataframe thead th {\n",
       "        text-align: right;\n",
       "    }\n",
       "</style>\n",
       "<table border=\"1\" class=\"dataframe\">\n",
       "  <thead>\n",
       "    <tr style=\"text-align: right;\">\n",
       "      <th></th>\n",
       "      <th>10</th>\n",
       "      <th>20</th>\n",
       "      <th>30</th>\n",
       "      <th>40</th>\n",
       "      <th>50</th>\n",
       "      <th>60</th>\n",
       "      <th>70</th>\n",
       "      <th>80</th>\n",
       "      <th>90</th>\n",
       "      <th>100</th>\n",
       "    </tr>\n",
       "  </thead>\n",
       "  <tbody>\n",
       "    <tr>\n",
       "      <th>0</th>\n",
       "      <td>0.987013</td>\n",
       "      <td>1.000000</td>\n",
       "      <td>1.000000</td>\n",
       "      <td>1.000000</td>\n",
       "      <td>1.000000</td>\n",
       "      <td>1.000000</td>\n",
       "      <td>1.000000</td>\n",
       "      <td>1.000000</td>\n",
       "      <td>1.000000</td>\n",
       "      <td>1.000000</td>\n",
       "    </tr>\n",
       "    <tr>\n",
       "      <th>1</th>\n",
       "      <td>0.986842</td>\n",
       "      <td>0.986842</td>\n",
       "      <td>0.986842</td>\n",
       "      <td>0.986842</td>\n",
       "      <td>0.973684</td>\n",
       "      <td>0.986842</td>\n",
       "      <td>0.986842</td>\n",
       "      <td>0.986842</td>\n",
       "      <td>0.986842</td>\n",
       "      <td>0.986842</td>\n",
       "    </tr>\n",
       "    <tr>\n",
       "      <th>2</th>\n",
       "      <td>0.986842</td>\n",
       "      <td>0.986842</td>\n",
       "      <td>0.986842</td>\n",
       "      <td>0.986842</td>\n",
       "      <td>0.986842</td>\n",
       "      <td>0.986842</td>\n",
       "      <td>0.986842</td>\n",
       "      <td>0.986842</td>\n",
       "      <td>0.986842</td>\n",
       "      <td>0.986842</td>\n",
       "    </tr>\n",
       "    <tr>\n",
       "      <th>3</th>\n",
       "      <td>0.986842</td>\n",
       "      <td>0.986842</td>\n",
       "      <td>0.986842</td>\n",
       "      <td>0.986842</td>\n",
       "      <td>0.986842</td>\n",
       "      <td>0.986842</td>\n",
       "      <td>0.986842</td>\n",
       "      <td>0.986842</td>\n",
       "      <td>0.986842</td>\n",
       "      <td>0.986842</td>\n",
       "    </tr>\n",
       "    <tr>\n",
       "      <th>4</th>\n",
       "      <td>0.986842</td>\n",
       "      <td>0.986842</td>\n",
       "      <td>0.986842</td>\n",
       "      <td>0.986842</td>\n",
       "      <td>0.986842</td>\n",
       "      <td>0.986842</td>\n",
       "      <td>0.986842</td>\n",
       "      <td>0.986842</td>\n",
       "      <td>0.986842</td>\n",
       "      <td>0.986842</td>\n",
       "    </tr>\n",
       "  </tbody>\n",
       "</table>\n",
       "</div>"
      ],
      "text/plain": [
       "         10        20        30        40        50        60        70  \\\n",
       "0  0.987013  1.000000  1.000000  1.000000  1.000000  1.000000  1.000000   \n",
       "1  0.986842  0.986842  0.986842  0.986842  0.973684  0.986842  0.986842   \n",
       "2  0.986842  0.986842  0.986842  0.986842  0.986842  0.986842  0.986842   \n",
       "3  0.986842  0.986842  0.986842  0.986842  0.986842  0.986842  0.986842   \n",
       "4  0.986842  0.986842  0.986842  0.986842  0.986842  0.986842  0.986842   \n",
       "\n",
       "         80        90       100  \n",
       "0  1.000000  1.000000  1.000000  \n",
       "1  0.986842  0.986842  0.986842  \n",
       "2  0.986842  0.986842  0.986842  \n",
       "3  0.986842  0.986842  0.986842  \n",
       "4  0.986842  0.986842  0.986842  "
      ]
     },
     "execution_count": 220,
     "metadata": {},
     "output_type": "execute_result"
    }
   ],
   "source": [
    "bag_oracles_df"
   ]
  },
  {
   "cell_type": "code",
   "execution_count": 221,
   "metadata": {},
   "outputs": [
    {
     "data": {
      "text/html": [
       "<div>\n",
       "<style scoped>\n",
       "    .dataframe tbody tr th:only-of-type {\n",
       "        vertical-align: middle;\n",
       "    }\n",
       "\n",
       "    .dataframe tbody tr th {\n",
       "        vertical-align: top;\n",
       "    }\n",
       "\n",
       "    .dataframe thead th {\n",
       "        text-align: right;\n",
       "    }\n",
       "</style>\n",
       "<table border=\"1\" class=\"dataframe\">\n",
       "  <thead>\n",
       "    <tr style=\"text-align: right;\">\n",
       "      <th></th>\n",
       "      <th>10</th>\n",
       "      <th>20</th>\n",
       "      <th>30</th>\n",
       "      <th>40</th>\n",
       "      <th>50</th>\n",
       "      <th>60</th>\n",
       "      <th>70</th>\n",
       "      <th>80</th>\n",
       "      <th>90</th>\n",
       "      <th>100</th>\n",
       "    </tr>\n",
       "  </thead>\n",
       "  <tbody>\n",
       "    <tr>\n",
       "      <th>0</th>\n",
       "      <td>1.0</td>\n",
       "      <td>1.0</td>\n",
       "      <td>1.0</td>\n",
       "      <td>1.0</td>\n",
       "      <td>1.0</td>\n",
       "      <td>1.0</td>\n",
       "      <td>1.0</td>\n",
       "      <td>1.0</td>\n",
       "      <td>1.0</td>\n",
       "      <td>1.0</td>\n",
       "    </tr>\n",
       "    <tr>\n",
       "      <th>1</th>\n",
       "      <td>1.0</td>\n",
       "      <td>1.0</td>\n",
       "      <td>1.0</td>\n",
       "      <td>1.0</td>\n",
       "      <td>1.0</td>\n",
       "      <td>1.0</td>\n",
       "      <td>1.0</td>\n",
       "      <td>1.0</td>\n",
       "      <td>1.0</td>\n",
       "      <td>1.0</td>\n",
       "    </tr>\n",
       "    <tr>\n",
       "      <th>2</th>\n",
       "      <td>1.0</td>\n",
       "      <td>1.0</td>\n",
       "      <td>1.0</td>\n",
       "      <td>1.0</td>\n",
       "      <td>1.0</td>\n",
       "      <td>1.0</td>\n",
       "      <td>1.0</td>\n",
       "      <td>1.0</td>\n",
       "      <td>1.0</td>\n",
       "      <td>1.0</td>\n",
       "    </tr>\n",
       "    <tr>\n",
       "      <th>3</th>\n",
       "      <td>1.0</td>\n",
       "      <td>1.0</td>\n",
       "      <td>1.0</td>\n",
       "      <td>1.0</td>\n",
       "      <td>1.0</td>\n",
       "      <td>1.0</td>\n",
       "      <td>1.0</td>\n",
       "      <td>1.0</td>\n",
       "      <td>1.0</td>\n",
       "      <td>1.0</td>\n",
       "    </tr>\n",
       "    <tr>\n",
       "      <th>4</th>\n",
       "      <td>1.0</td>\n",
       "      <td>1.0</td>\n",
       "      <td>1.0</td>\n",
       "      <td>1.0</td>\n",
       "      <td>1.0</td>\n",
       "      <td>1.0</td>\n",
       "      <td>1.0</td>\n",
       "      <td>1.0</td>\n",
       "      <td>1.0</td>\n",
       "      <td>1.0</td>\n",
       "    </tr>\n",
       "  </tbody>\n",
       "</table>\n",
       "</div>"
      ],
      "text/plain": [
       "    10   20   30   40   50   60   70   80   90  100\n",
       "0  1.0  1.0  1.0  1.0  1.0  1.0  1.0  1.0  1.0  1.0\n",
       "1  1.0  1.0  1.0  1.0  1.0  1.0  1.0  1.0  1.0  1.0\n",
       "2  1.0  1.0  1.0  1.0  1.0  1.0  1.0  1.0  1.0  1.0\n",
       "3  1.0  1.0  1.0  1.0  1.0  1.0  1.0  1.0  1.0  1.0\n",
       "4  1.0  1.0  1.0  1.0  1.0  1.0  1.0  1.0  1.0  1.0"
      ]
     },
     "execution_count": 221,
     "metadata": {},
     "output_type": "execute_result"
    }
   ],
   "source": [
    "adaboost_oracles_df"
   ]
  },
  {
   "cell_type": "code",
   "execution_count": 222,
   "metadata": {},
   "outputs": [
    {
     "data": {
      "image/png": "[encoded data removed]",
      "text/plain": [
       "<Figure size 720x576 with 1 Axes>"
      ]
     },
     "metadata": {
      "needs_background": "light"
     },
     "output_type": "display_data"
    }
   ],
   "source": [
    "plt.figure(figsize=(10,8))\n",
    "plt.boxplot(bag_oracles.values(), labels=bag_oracles.keys())\n",
    "plt.title('Boxplot: Oracle para o Bagging no conjunto de teste')\n",
    "plt.xlabel('Quantidade de classificadores')\n",
    "plt.ylabel('Acurácia')\n",
    "plt.show();"
   ]
  },
  {
   "cell_type": "code",
   "execution_count": 223,
   "metadata": {},
   "outputs": [
    {
     "data": {
      "image/png": "[encoded data removed]",
      "text/plain": [
       "<Figure size 720x576 with 1 Axes>"
      ]
     },
     "metadata": {
      "needs_background": "light"
     },
     "output_type": "display_data"
    }
   ],
   "source": [
    "plt.figure(figsize=(10,8))\n",
    "plt.boxplot(adaboost_oracles.values(), labels=adaboost_oracles.keys())\n",
    "plt.title('Boxplot: Oracle para o Adaboost no conjunto de teste')\n",
    "plt.xlabel('Quantidade de classificadores')\n",
    "plt.ylabel('Acurácia')\n",
    "plt.show();"
   ]
  },
  {
   "cell_type": "code",
   "execution_count": null,
   "metadata": {},
   "outputs": [],
   "source": []
  },
  {
   "cell_type": "code",
   "execution_count": 224,
   "metadata": {},
   "outputs": [],
   "source": [
    "# oraculo = oracle.Oracle(random_subspace_classifier_cv['fold1']['20']['modelo'])"
   ]
  },
  {
   "cell_type": "code",
   "execution_count": null,
   "metadata": {},
   "outputs": [],
   "source": [
    "# _, test_idx = kfolds['fold1']\n",
    "# X2, y2 = X_train[test_idx], y_train[test_idx]\n",
    "\n",
    "# oraculo = oracle.Oracle(bagging_classifier_cv['fold1']['10']['modelo'])\n",
    "# oraculo.predict(X2, y2)\n",
    "# oraculo.score(X2, y2)"
   ]
  },
  {
   "cell_type": "markdown",
   "metadata": {},
   "source": [
    "\n",
    "## 2)\n",
    "Use as mesma bases de dados e os mesmos folds da questão anterior e, para cada base: \n",
    "- use o **SGH** para gerar o pool de classificadores no conjunto de treinamento; \n",
    "\n",
    "- calcule o Oracle do pool no conjunto de teste; \n",
    "\n",
    "- verifique quantas instâncias por classe foram incorretamente classificadas; \n",
    "\n",
    "- verifique quantos hiperplanos por classe foram gerados. \n",
    "\n",
    "Analise os resultados coletados. "
   ]
  },
  {
   "cell_type": "code",
   "execution_count": 41,
   "metadata": {},
   "outputs": [],
   "source": [
    "import sgh"
   ]
  },
  {
   "cell_type": "code",
   "execution_count": 199,
   "metadata": {},
   "outputs": [],
   "source": [
    "sgh_mod = sgh.SGH(base_estimator=Perceptron(max_iter=1))"
   ]
  },
  {
   "cell_type": "code",
   "execution_count": 200,
   "metadata": {},
   "outputs": [],
   "source": [
    "sgh_mod.fit(X_train, y_train)\n",
    "sgh_oracle = oracle.Oracle(sgh_mod)"
   ]
  },
  {
   "cell_type": "code",
   "execution_count": 201,
   "metadata": {},
   "outputs": [
    {
     "data": {
      "text/plain": [
       "1.0"
      ]
     },
     "execution_count": 201,
     "metadata": {},
     "output_type": "execute_result"
    }
   ],
   "source": [
    "sgh_oracle.score(X_test, y_test)"
   ]
  },
  {
   "cell_type": "code",
   "execution_count": 202,
   "metadata": {},
   "outputs": [
    {
     "data": {
      "text/plain": [
       "SGH(correct_classif_label=array([0, 0, 0, 0, 0, 0, 0, 2, 0, 0, 0, 0, 0, 0, 0, 0, 0, 0, 0, 0, 0, 0,\n",
       "       0, 0, 1, 0, 0, 0, 0, 0, 0, 0, 0, 0, 0, 0, 0, 0, 0, 0, 0, 0, 0, 1,\n",
       "       0, 0, 0, 0, 0, 0, 1, 0, 1, 0, 0, 0, 0, 0, 0, 0, 0, 0, 0, 0, 0, 1,\n",
       "       0, 0, 0, 1, 0, 0, 0, 0, 0, 0, 0, 0, 0, 0, 0, 0, 0, 0, 0, 0, 0, 0,\n",
       "       0, 0, 0, 0, 0, 0, 0, 0, 0, 1, 0, 0, 0, 0, 0, 0, 0, 0, 0, 0, 0, 0,\n",
       "       0, 0, 0, 0, 0, 0, 0, 0, 1, 0, 0, 0, 0, 0, 0, 0, 0, 0, 0, 0, 0, 1,\n",
       "       0, 0, 0, 0, 0, 0, 0, 0, 0, 0, 0, 1, 0, 1, 0, 0, 0, 0, 0, 0, 0, 0,\n",
       "       1, 0, 0, 0, 0...\n",
       "       0, 0, 0, 0, 0, 0, 0, 0, 0, 0, 0, 0, 0, 0, 0, 0, 1, 0, 0, 0, 0, 0,\n",
       "       0, 0, 1, 0, 0, 0, 0, 0, 0, 0, 0, 0, 0, 0, 0, 0, 0, 1, 0, 0, 0, 0,\n",
       "       0, 1, 0, 0, 0, 0, 0, 0, 0, 0, 0, 0, 0, 0, 0, 0, 0, 0, 0, 0, 0, 0,\n",
       "       0, 0, 0, 0, 1, 0, 0, 0, 0, 0, 0, 0, 0, 0, 0, 0, 0, 0, 0, 1, 0, 1,\n",
       "       0, 0, 0, 0, 0, 0, 0, 0, 0, 0, 0, 0, 1, 0, 0, 0, 0, 0, 0, 0, 0, 0,\n",
       "       0, 0, 0, 0, 0, 0, 0, 0, 0, 0, 0, 1, 0, 0, 0, 0, 0, 0, 1, 0, 0, 0,\n",
       "       0, 0, 0, 1, 1, 0, 0, 0, 0, 0, 0, 0, 0, 0, 0, 0, 0, 0, 0, 0, 0, 0,\n",
       "       0, 0, 0, 0, 0, 0, 1, 0, 0, 0, 0, 0, 0, 0, 0, 0, 0, 0, 0, 0, 0, 0,\n",
       "       0, 0, 0, 0, 0, 0, 1]),\n",
       "    n_estimators=3)"
      ]
     },
     "execution_count": 202,
     "metadata": {},
     "output_type": "execute_result"
    }
   ],
   "source": [
    "sgh_oracle.pool_classifiers"
   ]
  },
  {
   "cell_type": "markdown",
   "metadata": {},
   "source": [
    "### Função para criar os L SGH e para Avaliar o Oracle"
   ]
  },
  {
   "cell_type": "code",
   "execution_count": 203,
   "metadata": {},
   "outputs": [],
   "source": [
    "def L_sgh_modelos(kfolds):    \n",
    "    classificadores_folds = dict.fromkeys(kfolds.keys())\n",
    "    for fold in kfolds:\n",
    "        classificadores_folds[fold] = sgh.SGH(base_estimator = Perceptron())\n",
    "\n",
    "    return classificadores_folds\n",
    "\n",
    "# função para realizar a validação cruzada dos classificadores \n",
    "def avalia_L_sgh_modelos(classificadores_folds, X, y, kfolds):\n",
    "    \n",
    "    oracles = []\n",
    "    for fold, (train_idx, test_idx) in kfolds.items():\n",
    "        # treinamento e teste\n",
    "        classificadores_folds[fold].fit(X[train_idx], y[train_idx])\n",
    "\n",
    "        # Oracle\n",
    "        oracle_i = oracle.Oracle(classificadores_folds[fold]) \n",
    "        oracle_score = oracle_i.score(X[test_idx], y[test_idx])\n",
    "        oracles.append(oracle_score)\n",
    "        \n",
    "    return oracles\n",
    "    "
   ]
  },
  {
   "cell_type": "code",
   "execution_count": 204,
   "metadata": {},
   "outputs": [],
   "source": [
    "l_sgh_modelos = L_sgh_modelos(kfolds)\n",
    "oracles_sgh_scores = avalia_L_sgh_modelos(l_sgh_modelos, X_train, y_train, kfolds)"
   ]
  },
  {
   "cell_type": "code",
   "execution_count": 205,
   "metadata": {},
   "outputs": [
    {
     "data": {
      "text/plain": [
       "{'fold1': SGH(correct_classif_label=array([0, 0, 0, 0, 0, 0, 0, 0, 0, 0, 0, 0, 0, 0, 0, 0, 0, 0, 0, 0, 1, 0,\n",
       "        0, 0, 0, 0, 0, 0, 0, 0, 0, 0, 0, 0, 0, 0, 0, 0, 0, 0, 0, 1, 0, 0,\n",
       "        0, 0, 0, 0, 0, 0, 0, 0, 0, 0, 1, 0, 0, 0, 0, 0, 0, 0, 0, 0, 0, 0,\n",
       "        1, 0, 1, 0, 0, 0, 0, 0, 0, 0, 0, 1, 0, 0, 0, 0, 0, 1, 0, 0, 0, 0,\n",
       "        0, 0, 0, 1, 0, 0, 0, 0, 0, 0, 0, 0, 0, 0, 0, 0, 0, 0, 0, 0, 0, 0,\n",
       "        0, 0, 0, 0, 1, 0, 0, 0, 0, 0, 1, 0, 0, 0, 0, 0, 0, 0, 0, 0, 0, 0,\n",
       "        0, 0, 0, 0, 0, 1, 0, 0, 0, 0, 0, 0, 0, 1, 0, 0, 0, 0, 0, 0, 0, 0,\n",
       "        0, 0, 0, 0, 0, 0, 1, 0, 0, 0, 0, 0, 1, 0, 0, 0, 0, 0, 0, 0, 0, 0,\n",
       "        0, 0, 0, 0, 0, 0, 0, 0, 0, 0, 0, 0, 0, 0, 0, 1, 0, 0, 0, 0, 0, 0,\n",
       "        0, 0, 0, 0, 0, 0, 0, 0, 1, 0, 1, 0, 0, 0, 0, 0, 0, 0, 0, 0, 0, 0,\n",
       "        0, 1, 0, 0, 0, 0, 0, 0, 0, 0, 0, 0, 0, 0, 0, 0, 0, 0, 0, 0, 0, 0,\n",
       "        1, 0, 0, 0, 0, 0, 0, 1, 0, 0, 0, 0, 0, 0, 1, 1, 0, 0, 0, 0, 0, 0,\n",
       "        0, 0, 0, 0, 0, 0, 0, 0, 0, 0, 0, 0, 0, 0, 0, 0, 0, 1, 0, 0, 0, 0,\n",
       "        0, 0, 0, 0, 0, 0, 0, 0, 0, 0, 0, 0, 0, 0, 0, 0, 0, 1]),\n",
       "     n_estimators=2),\n",
       " 'fold2': SGH(correct_classif_label=array([0, 0, 0, 0, 0, 0, 0, 2, 0, 0, 0, 0, 0, 0, 0, 0, 0, 0, 0, 0, 0, 0,\n",
       "        0, 0, 1, 0, 0, 0, 0, 0, 0, 0, 0, 0, 0, 0, 0, 0, 0, 0, 0, 0, 0, 1,\n",
       "        0, 0, 0, 0, 0, 0, 1, 0, 1, 0, 0, 0, 0, 0, 0, 0, 0, 0, 0, 0, 0, 1,\n",
       "        0, 0, 0, 1, 0, 0, 0, 0, 0, 0, 0, 0, 0, 1, 0, 0, 0, 0, 1, 0, 0, 0,\n",
       "        0, 0, 0, 0, 1, 0, 0, 0, 0, 0, 0, 0, 0, 0, 0, 0, 0, 0, 0, 0, 0, 0,\n",
       "        0, 0, 0, 0, 0, 1, 0, 0, 0, 0, 0, 2, 0, 0, 0, 0, 0, 0, 0, 0, 0, 0,\n",
       "        0, 0, 0, 0, 0, 0, 1, 0, 0, 0, 0, 0, 0, 0, 1, 0, 0, 0, 0, 0, 0, 0,\n",
       "        0, 0, 0, 0, 0, 0, 0, 1, 0, 0, 0, 0, 0, 1, 0, 0, 0, 0, 0, 0, 0, 0,\n",
       "        0, 0, 0, 0, 0, 0, 0, 0, 0, 0, 0, 0, 0, 0, 0, 0, 1, 0, 0, 0, 0, 0,\n",
       "        0, 0, 0, 0, 0, 0, 0, 0, 1, 1, 0, 1, 0, 0, 0, 0, 0, 0, 0, 0, 0, 0,\n",
       "        0, 0, 1, 0, 0, 0, 0, 0, 0, 0, 0, 0, 0, 0, 0, 0, 0, 0, 0, 0, 0, 0,\n",
       "        0, 1, 0, 0, 0, 0, 0, 0, 1, 0, 0, 0, 0, 0, 0, 1, 1, 0, 0, 0, 0, 0,\n",
       "        0, 0, 0, 0, 0, 0, 0, 0, 0, 0, 0, 0, 0, 0, 0, 0, 0, 0, 1, 0, 0, 0,\n",
       "        0, 0, 0, 0, 0, 0, 0, 0, 0, 0, 0, 0, 0, 0, 0, 0, 0, 0, 1]),\n",
       "     n_estimators=3),\n",
       " 'fold3': SGH(correct_classif_label=array([0, 0, 0, 0, 0, 0, 0, 2, 0, 0, 0, 0, 0, 0, 0, 0, 0, 0, 0, 0, 0, 0,\n",
       "        0, 0, 1, 0, 0, 0, 0, 0, 0, 0, 0, 0, 0, 0, 0, 0, 0, 0, 0, 0, 0, 1,\n",
       "        0, 0, 0, 0, 0, 0, 1, 0, 1, 0, 0, 0, 0, 0, 0, 0, 0, 0, 0, 0, 0, 1,\n",
       "        0, 0, 0, 1, 0, 0, 0, 0, 0, 0, 0, 0, 0, 0, 0, 0, 0, 0, 0, 0, 0, 0,\n",
       "        0, 0, 0, 0, 0, 0, 0, 0, 0, 1, 0, 0, 0, 0, 0, 0, 0, 0, 0, 0, 0, 0,\n",
       "        0, 0, 0, 0, 0, 0, 0, 0, 1, 0, 0, 0, 0, 0, 0, 0, 0, 0, 0, 0, 0, 1,\n",
       "        0, 0, 0, 0, 0, 0, 0, 0, 0, 0, 0, 1, 0, 1, 0, 0, 0, 0, 0, 0, 0, 0,\n",
       "        1, 0, 0, 0, 0, 0, 0, 1, 0, 0, 0, 0, 0, 1, 0, 0, 0, 0, 0, 0, 0, 0,\n",
       "        0, 0, 0, 0, 0, 0, 0, 0, 0, 0, 0, 0, 0, 0, 0, 0, 1, 0, 0, 0, 0, 0,\n",
       "        0, 0, 0, 0, 0, 0, 0, 0, 1, 1, 0, 1, 0, 0, 0, 0, 0, 0, 0, 0, 0, 0,\n",
       "        0, 0, 1, 0, 0, 0, 0, 0, 0, 0, 0, 0, 0, 0, 0, 0, 0, 0, 0, 0, 0, 0,\n",
       "        0, 1, 0, 0, 0, 0, 0, 0, 1, 0, 0, 0, 0, 0, 0, 1, 1, 0, 0, 0, 0, 0,\n",
       "        0, 0, 0, 0, 0, 0, 0, 0, 0, 0, 0, 0, 0, 0, 0, 0, 0, 0, 1, 0, 0, 0,\n",
       "        0, 0, 0, 0, 0, 0, 0, 0, 0, 0, 0, 0, 0, 0, 0, 0, 0, 0, 1]),\n",
       "     n_estimators=3),\n",
       " 'fold4': SGH(correct_classif_label=array([0, 0, 0, 0, 0, 0, 0, 2, 0, 0, 0, 0, 0, 0, 0, 0, 0, 0, 0, 0, 0, 0,\n",
       "        0, 0, 1, 0, 0, 0, 0, 0, 0, 0, 0, 0, 0, 0, 0, 0, 0, 0, 0, 0, 0, 1,\n",
       "        0, 0, 0, 0, 0, 0, 1, 0, 1, 0, 0, 0, 0, 0, 0, 0, 0, 0, 0, 0, 0, 1,\n",
       "        0, 0, 0, 1, 0, 0, 0, 0, 0, 0, 0, 0, 0, 0, 0, 0, 0, 0, 0, 0, 0, 0,\n",
       "        0, 0, 0, 0, 0, 0, 0, 0, 0, 1, 0, 0, 0, 0, 0, 0, 0, 0, 0, 0, 0, 0,\n",
       "        0, 0, 0, 0, 0, 0, 0, 0, 1, 0, 0, 0, 0, 0, 0, 0, 0, 0, 0, 0, 0, 1,\n",
       "        0, 0, 0, 0, 0, 0, 0, 0, 0, 0, 0, 1, 0, 1, 0, 0, 0, 0, 0, 0, 0, 0,\n",
       "        1, 0, 0, 0, 0, 0, 1, 0, 0, 0, 0, 0, 0, 0, 1, 0, 0, 0, 0, 0, 0, 0,\n",
       "        0, 0, 0, 0, 0, 0, 0, 0, 0, 0, 0, 0, 0, 0, 0, 1, 0, 0, 0, 0, 0, 1,\n",
       "        0, 0, 0, 0, 0, 0, 0, 0, 0, 0, 0, 0, 0, 0, 0, 0, 1, 0, 0, 0, 0, 0,\n",
       "        0, 0, 0, 0, 0, 0, 0, 0, 0, 0, 1, 0, 0, 0, 0, 0, 0, 0, 0, 0, 0, 0,\n",
       "        0, 1, 0, 0, 0, 0, 0, 0, 1, 0, 0, 0, 0, 0, 0, 1, 1, 0, 0, 0, 0, 0,\n",
       "        0, 0, 0, 0, 0, 0, 0, 0, 0, 0, 0, 0, 0, 0, 0, 0, 0, 0, 1, 0, 0, 0,\n",
       "        0, 0, 0, 0, 0, 0, 0, 0, 0, 0, 0, 0, 0, 0, 0, 0, 0, 0, 1]),\n",
       "     n_estimators=3),\n",
       " 'fold5': SGH(correct_classif_label=array([0, 0, 0, 0, 0, 0, 0, 2, 0, 0, 0, 0, 0, 0, 0, 0, 0, 0, 0, 0, 0, 0,\n",
       "        0, 0, 1, 0, 0, 0, 0, 0, 0, 0, 0, 0, 0, 0, 0, 0, 0, 0, 0, 0, 0, 1,\n",
       "        0, 0, 0, 0, 0, 0, 1, 0, 1, 0, 0, 0, 0, 0, 0, 0, 0, 0, 0, 0, 0, 1,\n",
       "        0, 0, 0, 1, 0, 0, 0, 0, 0, 0, 0, 0, 0, 0, 0, 0, 0, 0, 0, 0, 0, 0,\n",
       "        0, 0, 0, 0, 0, 0, 0, 0, 0, 1, 0, 0, 0, 0, 0, 0, 0, 0, 0, 0, 0, 0,\n",
       "        0, 0, 0, 0, 0, 0, 0, 0, 1, 0, 0, 0, 0, 0, 0, 0, 0, 0, 0, 0, 0, 1,\n",
       "        0, 0, 0, 0, 0, 0, 0, 0, 0, 0, 0, 1, 0, 1, 0, 0, 0, 0, 0, 0, 0, 0,\n",
       "        1, 0, 0, 0, 0, 0, 1, 0, 0, 0, 0, 0, 0, 0, 1, 0, 0, 0, 0, 0, 0, 0,\n",
       "        0, 0, 0, 0, 0, 0, 0, 0, 0, 0, 0, 0, 0, 0, 0, 1, 0, 0, 0, 0, 0, 1,\n",
       "        0, 0, 0, 0, 0, 0, 0, 0, 0, 0, 0, 0, 0, 0, 0, 0, 1, 0, 0, 0, 0, 0,\n",
       "        0, 0, 1, 0, 0, 0, 0, 0, 0, 0, 0, 0, 0, 0, 0, 0, 0, 1, 0, 0, 0, 0,\n",
       "        0, 1, 0, 0, 0, 0, 0, 0, 0, 0, 0, 0, 0, 0, 0, 0, 0, 0, 0, 0, 0, 0,\n",
       "        0, 0, 0, 0, 1, 0, 0, 0, 0, 0, 0, 0, 0, 0, 0, 0, 0, 0, 0, 1, 0, 1,\n",
       "        0, 0, 0, 0, 0, 0, 0, 0, 0, 0, 0, 0, 0, 0, 0, 0, 0, 0, 0]),\n",
       "     n_estimators=3)}"
      ]
     },
     "execution_count": 205,
     "metadata": {},
     "output_type": "execute_result"
    }
   ],
   "source": [
    "l_sgh_modelos"
   ]
  },
  {
   "cell_type": "code",
   "execution_count": 206,
   "metadata": {},
   "outputs": [
    {
     "name": "stdout",
     "output_type": "stream",
     "text": [
      "Média:         0.9947710184552289\n",
      "Desvio padrão: 0.00716033274807956\n"
     ]
    }
   ],
   "source": [
    "print(f'Média:         {np.mean(oracles_sgh_scores)}')\n",
    "print(f'Desvio padrão: {np.std(oracles_sgh_scores, ddof=1)}')"
   ]
  },
  {
   "cell_type": "code",
   "execution_count": null,
   "metadata": {},
   "outputs": [],
   "source": []
  },
  {
   "cell_type": "code",
   "execution_count": null,
   "metadata": {},
   "outputs": [],
   "source": []
  }
 ],
 "metadata": {
  "kernelspec": {
   "display_name": "Python 3",
   "language": "python",
   "name": "python3"
  },
  "language_info": {
   "codemirror_mode": {
    "name": "ipython",
    "version": 3
   },
   "file_extension": ".py",
   "mimetype": "text/x-python",
   "name": "python",
   "nbconvert_exporter": "python",
   "pygments_lexer": "ipython3",
   "version": "3.7.8"
  }
 },
 "nbformat": 4,
 "nbformat_minor": 4
}
